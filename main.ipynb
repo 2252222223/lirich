{
 "cells": [
  {
   "cell_type": "code",
   "execution_count": 1,
   "id": "45c84960",
   "metadata": {},
   "outputs": [],
   "source": [
    "from openfe import OpenFE, transform"
   ]
  },
  {
   "cell_type": "code",
   "execution_count": 2,
   "id": "15f0031e",
   "metadata": {},
   "outputs": [],
   "source": [
    "# import sys\n",
    "# sys.path.append('../')\n",
    "import pandas as pd\n",
    "from sklearn.datasets import fetch_california_housing\n",
    "from openfe import OpenFE, tree_to_formula, transform\n",
    "from sklearn.model_selection import train_test_split\n",
    "import lightgbm as lgb\n",
    "from sklearn.metrics import mean_squared_error\n",
    "import numpy as np\n",
    "from sklearn import preprocessing\n",
    "\n",
    "def get_score(train_x, test_x, train_y, test_y):\n",
    "    train_x, val_x, train_y, val_y = train_test_split(train_x, train_y, test_size=0.2, random_state=2020)\n",
    "    params = {'n_estimators': 1000, 'n_jobs': n_jobs, 'seed': 1}\n",
    "    gbm = lgb.LGBMRegressor(**params)\n",
    "    gbm.fit(train_x, train_y, eval_set=[(val_x, val_y)], callbacks=[lgb.early_stopping(50, verbose=False)])\n",
    "    pred = pd.DataFrame(gbm.predict(test_x), index=test_x.index)\n",
    "    score = mean_squared_error(test_y, pred)\n",
    "    return score,test_y, pred"
   ]
  },
  {
   "cell_type": "code",
   "execution_count": 3,
   "id": "f4d5e26f",
   "metadata": {},
   "outputs": [],
   "source": [
    "data = pd.read_excel(\"./数据2.0.xlsx\")\n",
    "columns = data.columns\n",
    "# for col in columns:\n",
    "#     cols = [aa for aa in columns if col in aa]\n",
    "#     if len(cols) >1:\n",
    "#         # 计算平均值\n",
    "#         data[col + '_mean'] = data[cols].mean(axis=1)\n",
    "#         # 计算方差\n",
    "#         data[col + '_variance'] = data[cols].var(axis=1)\n",
    "#         # 计算最大值\n",
    "#         data[col + '_max'] = data[cols].max(axis=1)\n",
    "#         # 计算最小值\n",
    "#         data[col + '_min'] = data[cols].min(axis=1)\n",
    "#         # 计算变异系数，变异系数是标准差与平均值的比值\n",
    "#         data[col + '_coefficient_of_variation'] = data[cols].std(axis=1) / data[cols].mean(axis=1)"
   ]
  },
  {
   "cell_type": "code",
   "execution_count": 4,
   "id": "3f4a7cef",
   "metadata": {},
   "outputs": [],
   "source": [
    "correlation_matrix = data.corr()\n",
    "# # 选择相关系数的阈值，例如0.1\n",
    "# threshold = 0.2\n",
    "# # 找出低于阈值的特征\n",
    "# low_correlation_features = [index for index in correlation_matrix[\"lattice_distortion\"].index if abs(correlation_matrix[\"lattice_distortion\"][index]) < threshold]\n",
    "# # 删除这些特征\n",
    "# data = data.drop(columns=low_correlation_features)\n",
    "correlation_matrix.to_excel(\"皮尔逊相关系数矩阵-原始特征.xlsx\",index = False)"
   ]
  },
  {
   "cell_type": "code",
   "execution_count": 5,
   "id": "3ffe48fa",
   "metadata": {},
   "outputs": [
    {
     "data": {
      "text/html": [
       "<div>\n",
       "<style scoped>\n",
       "    .dataframe tbody tr th:only-of-type {\n",
       "        vertical-align: middle;\n",
       "    }\n",
       "\n",
       "    .dataframe tbody tr th {\n",
       "        vertical-align: top;\n",
       "    }\n",
       "\n",
       "    .dataframe thead th {\n",
       "        text-align: right;\n",
       "    }\n",
       "</style>\n",
       "<table border=\"1\" class=\"dataframe\">\n",
       "  <thead>\n",
       "    <tr style=\"text-align: right;\">\n",
       "      <th></th>\n",
       "      <th>X1</th>\n",
       "      <th>X2</th>\n",
       "      <th>X3</th>\n",
       "      <th>X4</th>\n",
       "      <th>X5</th>\n",
       "      <th>X6</th>\n",
       "      <th>X7</th>\n",
       "      <th>X8</th>\n",
       "      <th>X9</th>\n",
       "      <th>X10</th>\n",
       "      <th>Y</th>\n",
       "    </tr>\n",
       "  </thead>\n",
       "  <tbody>\n",
       "    <tr>\n",
       "      <th>X1</th>\n",
       "      <td>1.000000</td>\n",
       "      <td>0.628294</td>\n",
       "      <td>-0.081780</td>\n",
       "      <td>0.110822</td>\n",
       "      <td>0.507339</td>\n",
       "      <td>-0.167905</td>\n",
       "      <td>0.637818</td>\n",
       "      <td>0.635459</td>\n",
       "      <td>0.582331</td>\n",
       "      <td>-0.684548</td>\n",
       "      <td>-0.051633</td>\n",
       "    </tr>\n",
       "    <tr>\n",
       "      <th>X2</th>\n",
       "      <td>0.628294</td>\n",
       "      <td>1.000000</td>\n",
       "      <td>-0.291755</td>\n",
       "      <td>-0.521440</td>\n",
       "      <td>0.868243</td>\n",
       "      <td>-0.362547</td>\n",
       "      <td>0.869034</td>\n",
       "      <td>0.688291</td>\n",
       "      <td>0.562651</td>\n",
       "      <td>-0.837230</td>\n",
       "      <td>-0.148741</td>\n",
       "    </tr>\n",
       "    <tr>\n",
       "      <th>X3</th>\n",
       "      <td>-0.081780</td>\n",
       "      <td>-0.291755</td>\n",
       "      <td>1.000000</td>\n",
       "      <td>0.390102</td>\n",
       "      <td>0.122870</td>\n",
       "      <td>0.978208</td>\n",
       "      <td>-0.171351</td>\n",
       "      <td>-0.420377</td>\n",
       "      <td>-0.580441</td>\n",
       "      <td>0.194395</td>\n",
       "      <td>0.147002</td>\n",
       "    </tr>\n",
       "    <tr>\n",
       "      <th>X4</th>\n",
       "      <td>0.110822</td>\n",
       "      <td>-0.521440</td>\n",
       "      <td>0.390102</td>\n",
       "      <td>1.000000</td>\n",
       "      <td>-0.449718</td>\n",
       "      <td>0.433378</td>\n",
       "      <td>-0.316672</td>\n",
       "      <td>-0.273510</td>\n",
       "      <td>-0.277890</td>\n",
       "      <td>0.282114</td>\n",
       "      <td>0.203791</td>\n",
       "    </tr>\n",
       "    <tr>\n",
       "      <th>X5</th>\n",
       "      <td>0.507339</td>\n",
       "      <td>0.868243</td>\n",
       "      <td>0.122870</td>\n",
       "      <td>-0.449718</td>\n",
       "      <td>1.000000</td>\n",
       "      <td>0.067280</td>\n",
       "      <td>0.658028</td>\n",
       "      <td>0.369298</td>\n",
       "      <td>0.203674</td>\n",
       "      <td>-0.599247</td>\n",
       "      <td>-0.160434</td>\n",
       "    </tr>\n",
       "    <tr>\n",
       "      <th>X6</th>\n",
       "      <td>-0.167905</td>\n",
       "      <td>-0.362547</td>\n",
       "      <td>0.978208</td>\n",
       "      <td>0.433378</td>\n",
       "      <td>0.067280</td>\n",
       "      <td>1.000000</td>\n",
       "      <td>-0.249724</td>\n",
       "      <td>-0.497023</td>\n",
       "      <td>-0.652293</td>\n",
       "      <td>0.283118</td>\n",
       "      <td>0.121568</td>\n",
       "    </tr>\n",
       "    <tr>\n",
       "      <th>X7</th>\n",
       "      <td>0.637818</td>\n",
       "      <td>0.869034</td>\n",
       "      <td>-0.171351</td>\n",
       "      <td>-0.316672</td>\n",
       "      <td>0.658028</td>\n",
       "      <td>-0.249724</td>\n",
       "      <td>1.000000</td>\n",
       "      <td>0.860529</td>\n",
       "      <td>0.687883</td>\n",
       "      <td>-0.992313</td>\n",
       "      <td>-0.057392</td>\n",
       "    </tr>\n",
       "    <tr>\n",
       "      <th>X8</th>\n",
       "      <td>0.635459</td>\n",
       "      <td>0.688291</td>\n",
       "      <td>-0.420377</td>\n",
       "      <td>-0.273510</td>\n",
       "      <td>0.369298</td>\n",
       "      <td>-0.497023</td>\n",
       "      <td>0.860529</td>\n",
       "      <td>1.000000</td>\n",
       "      <td>0.955949</td>\n",
       "      <td>-0.895695</td>\n",
       "      <td>-0.063136</td>\n",
       "    </tr>\n",
       "    <tr>\n",
       "      <th>X9</th>\n",
       "      <td>0.582331</td>\n",
       "      <td>0.562651</td>\n",
       "      <td>-0.580441</td>\n",
       "      <td>-0.277890</td>\n",
       "      <td>0.203674</td>\n",
       "      <td>-0.652293</td>\n",
       "      <td>0.687883</td>\n",
       "      <td>0.955949</td>\n",
       "      <td>1.000000</td>\n",
       "      <td>-0.741366</td>\n",
       "      <td>-0.066129</td>\n",
       "    </tr>\n",
       "    <tr>\n",
       "      <th>X10</th>\n",
       "      <td>-0.684548</td>\n",
       "      <td>-0.837230</td>\n",
       "      <td>0.194395</td>\n",
       "      <td>0.282114</td>\n",
       "      <td>-0.599247</td>\n",
       "      <td>0.283118</td>\n",
       "      <td>-0.992313</td>\n",
       "      <td>-0.895695</td>\n",
       "      <td>-0.741366</td>\n",
       "      <td>1.000000</td>\n",
       "      <td>0.050263</td>\n",
       "    </tr>\n",
       "    <tr>\n",
       "      <th>Y</th>\n",
       "      <td>-0.051633</td>\n",
       "      <td>-0.148741</td>\n",
       "      <td>0.147002</td>\n",
       "      <td>0.203791</td>\n",
       "      <td>-0.160434</td>\n",
       "      <td>0.121568</td>\n",
       "      <td>-0.057392</td>\n",
       "      <td>-0.063136</td>\n",
       "      <td>-0.066129</td>\n",
       "      <td>0.050263</td>\n",
       "      <td>1.000000</td>\n",
       "    </tr>\n",
       "  </tbody>\n",
       "</table>\n",
       "</div>"
      ],
      "text/plain": [
       "           X1        X2        X3        X4        X5        X6        X7  \\\n",
       "X1   1.000000  0.628294 -0.081780  0.110822  0.507339 -0.167905  0.637818   \n",
       "X2   0.628294  1.000000 -0.291755 -0.521440  0.868243 -0.362547  0.869034   \n",
       "X3  -0.081780 -0.291755  1.000000  0.390102  0.122870  0.978208 -0.171351   \n",
       "X4   0.110822 -0.521440  0.390102  1.000000 -0.449718  0.433378 -0.316672   \n",
       "X5   0.507339  0.868243  0.122870 -0.449718  1.000000  0.067280  0.658028   \n",
       "X6  -0.167905 -0.362547  0.978208  0.433378  0.067280  1.000000 -0.249724   \n",
       "X7   0.637818  0.869034 -0.171351 -0.316672  0.658028 -0.249724  1.000000   \n",
       "X8   0.635459  0.688291 -0.420377 -0.273510  0.369298 -0.497023  0.860529   \n",
       "X9   0.582331  0.562651 -0.580441 -0.277890  0.203674 -0.652293  0.687883   \n",
       "X10 -0.684548 -0.837230  0.194395  0.282114 -0.599247  0.283118 -0.992313   \n",
       "Y   -0.051633 -0.148741  0.147002  0.203791 -0.160434  0.121568 -0.057392   \n",
       "\n",
       "           X8        X9       X10         Y  \n",
       "X1   0.635459  0.582331 -0.684548 -0.051633  \n",
       "X2   0.688291  0.562651 -0.837230 -0.148741  \n",
       "X3  -0.420377 -0.580441  0.194395  0.147002  \n",
       "X4  -0.273510 -0.277890  0.282114  0.203791  \n",
       "X5   0.369298  0.203674 -0.599247 -0.160434  \n",
       "X6  -0.497023 -0.652293  0.283118  0.121568  \n",
       "X7   0.860529  0.687883 -0.992313 -0.057392  \n",
       "X8   1.000000  0.955949 -0.895695 -0.063136  \n",
       "X9   0.955949  1.000000 -0.741366 -0.066129  \n",
       "X10 -0.895695 -0.741366  1.000000  0.050263  \n",
       "Y   -0.063136 -0.066129  0.050263  1.000000  "
      ]
     },
     "execution_count": 5,
     "metadata": {},
     "output_type": "execute_result"
    }
   ],
   "source": [
    "correlation_matrix"
   ]
  },
  {
   "cell_type": "code",
   "execution_count": 6,
   "id": "424d1e75",
   "metadata": {},
   "outputs": [],
   "source": [
    "# data.to_excel(\"初步筛选后的特征.xlsx\",index = False)"
   ]
  },
  {
   "cell_type": "code",
   "execution_count": 7,
   "id": "83c49947",
   "metadata": {},
   "outputs": [],
   "source": [
    "def data_generator(f_path, seed=88): \n",
    "    df_all = pd.read_excel(f_path)\n",
    "    #create a min max processing object\n",
    "    composition = df_all\n",
    "    scaler = preprocessing.StandardScaler().fit(composition)\n",
    "    normalized_composition = scaler.transform(composition)\n",
    "    return normalized_composition,scaler"
   ]
  },
  {
   "cell_type": "code",
   "execution_count": 8,
   "id": "94afa52c",
   "metadata": {},
   "outputs": [],
   "source": [
    "data_trans,scaler = data_generator(\"./数据2.0.xlsx\", seed=42)\n",
    "data = pd.DataFrame(data_trans,columns=columns)\n",
    "data.to_excel(\"归一化后的数据.xlsx\",index = False)"
   ]
  },
  {
   "cell_type": "code",
   "execution_count": 9,
   "id": "8d4fbcc1",
   "metadata": {},
   "outputs": [],
   "source": [
    "# data = pd.read_excel(\"./原始数据2.xlsx\")"
   ]
  },
  {
   "cell_type": "code",
   "execution_count": 10,
   "id": "29472572",
   "metadata": {},
   "outputs": [],
   "source": [
    "aa = data.copy(deep = True)"
   ]
  },
  {
   "cell_type": "code",
   "execution_count": 11,
   "id": "f4e92b55",
   "metadata": {},
   "outputs": [
    {
     "name": "stdout",
     "output_type": "stream",
     "text": [
      "[LightGBM] [Info] Auto-choosing row-wise multi-threading, the overhead of testing was 0.000021 seconds.\n",
      "You can set `force_row_wise=true` to remove the overhead.\n",
      "And if memory is not enough, you can set `force_col_wise=true`.\n",
      "[LightGBM] [Info] Total Bins 212\n",
      "[LightGBM] [Info] Number of data points in the train set: 75, number of used features: 10\n",
      "[LightGBM] [Info] Start training from score -0.041404\n",
      "[LightGBM] [Warning] No further splits with positive gain, best gain: -inf\n",
      "[LightGBM] [Warning] No further splits with positive gain, best gain: -inf\n",
      "[LightGBM] [Warning] No further splits with positive gain, best gain: -inf\n",
      "[LightGBM] [Warning] No further splits with positive gain, best gain: -inf\n",
      "[LightGBM] [Warning] No further splits with positive gain, best gain: -inf\n",
      "[LightGBM] [Warning] No further splits with positive gain, best gain: -inf\n",
      "[LightGBM] [Warning] No further splits with positive gain, best gain: -inf\n",
      "[LightGBM] [Warning] No further splits with positive gain, best gain: -inf\n",
      "[LightGBM] [Warning] No further splits with positive gain, best gain: -inf\n",
      "[LightGBM] [Warning] No further splits with positive gain, best gain: -inf\n",
      "[LightGBM] [Warning] No further splits with positive gain, best gain: -inf\n",
      "[LightGBM] [Warning] No further splits with positive gain, best gain: -inf\n",
      "[LightGBM] [Warning] No further splits with positive gain, best gain: -inf\n",
      "[LightGBM] [Warning] No further splits with positive gain, best gain: -inf\n",
      "[LightGBM] [Warning] No further splits with positive gain, best gain: -inf\n",
      "[LightGBM] [Warning] No further splits with positive gain, best gain: -inf\n",
      "[LightGBM] [Warning] No further splits with positive gain, best gain: -inf\n",
      "[LightGBM] [Warning] No further splits with positive gain, best gain: -inf\n",
      "[LightGBM] [Warning] No further splits with positive gain, best gain: -inf\n",
      "[LightGBM] [Warning] No further splits with positive gain, best gain: -inf\n",
      "[LightGBM] [Warning] No further splits with positive gain, best gain: -inf\n",
      "[LightGBM] [Warning] No further splits with positive gain, best gain: -inf\n",
      "[LightGBM] [Warning] No further splits with positive gain, best gain: -inf\n",
      "[LightGBM] [Warning] No further splits with positive gain, best gain: -inf\n",
      "[LightGBM] [Warning] No further splits with positive gain, best gain: -inf\n",
      "[LightGBM] [Warning] No further splits with positive gain, best gain: -inf\n",
      "[LightGBM] [Warning] No further splits with positive gain, best gain: -inf\n",
      "[LightGBM] [Warning] No further splits with positive gain, best gain: -inf\n",
      "[LightGBM] [Warning] No further splits with positive gain, best gain: -inf\n",
      "[LightGBM] [Warning] No further splits with positive gain, best gain: -inf\n",
      "[LightGBM] [Warning] No further splits with positive gain, best gain: -inf\n",
      "[LightGBM] [Warning] No further splits with positive gain, best gain: -inf\n",
      "[LightGBM] [Warning] No further splits with positive gain, best gain: -inf\n",
      "[LightGBM] [Warning] No further splits with positive gain, best gain: -inf\n",
      "[LightGBM] [Warning] No further splits with positive gain, best gain: -inf\n",
      "[LightGBM] [Warning] No further splits with positive gain, best gain: -inf\n",
      "[LightGBM] [Warning] No further splits with positive gain, best gain: -inf\n",
      "[LightGBM] [Warning] No further splits with positive gain, best gain: -inf\n",
      "[LightGBM] [Warning] No further splits with positive gain, best gain: -inf\n",
      "[LightGBM] [Warning] No further splits with positive gain, best gain: -inf\n",
      "[LightGBM] [Warning] No further splits with positive gain, best gain: -inf\n",
      "[LightGBM] [Warning] No further splits with positive gain, best gain: -inf\n",
      "[LightGBM] [Warning] No further splits with positive gain, best gain: -inf\n",
      "[LightGBM] [Warning] No further splits with positive gain, best gain: -inf\n",
      "[LightGBM] [Warning] No further splits with positive gain, best gain: -inf\n",
      "[LightGBM] [Warning] No further splits with positive gain, best gain: -inf\n",
      "[LightGBM] [Warning] No further splits with positive gain, best gain: -inf\n",
      "[LightGBM] [Warning] No further splits with positive gain, best gain: -inf\n",
      "[LightGBM] [Warning] No further splits with positive gain, best gain: -inf\n",
      "[LightGBM] [Warning] No further splits with positive gain, best gain: -inf\n",
      "[LightGBM] [Warning] No further splits with positive gain, best gain: -inf\n",
      "[LightGBM] [Warning] No further splits with positive gain, best gain: -inf\n",
      "[LightGBM] [Warning] No further splits with positive gain, best gain: -inf\n",
      "[LightGBM] [Warning] No further splits with positive gain, best gain: -inf\n",
      "[LightGBM] [Warning] No further splits with positive gain, best gain: -inf\n",
      "[LightGBM] [Warning] No further splits with positive gain, best gain: -inf\n",
      "[LightGBM] [Warning] No further splits with positive gain, best gain: -inf\n",
      "The MSE before feature generation is 1.747484066225197\n",
      "The number of candidate features is 1080\n",
      "Start stage I selection.\n"
     ]
    },
    {
     "name": "stderr",
     "output_type": "stream",
     "text": [
      "100%|██████████████████████████████████████████████████████████████████████████████████| 16/16 [00:05<00:00,  3.17it/s]\n"
     ]
    },
    {
     "name": "stdout",
     "output_type": "stream",
     "text": [
      "443 same features have been deleted.\n",
      "The number of remaining candidate features is 305\n",
      "Start stage II selection.\n"
     ]
    },
    {
     "name": "stderr",
     "output_type": "stream",
     "text": [
      "100%|██████████████████████████████████████████████████████████████████████████████████| 16/16 [00:02<00:00,  5.75it/s]\n"
     ]
    },
    {
     "name": "stdout",
     "output_type": "stream",
     "text": [
      "Finish data processing.\n",
      "[LightGBM] [Info] Auto-choosing col-wise multi-threading, the overhead of testing was 0.000685 seconds.\n",
      "You can set `force_col_wise=true` to remove the overhead.\n",
      "[LightGBM] [Info] Total Bins 6235\n",
      "[LightGBM] [Info] Number of data points in the train set: 75, number of used features: 314\n",
      "[LightGBM] [Warning] No further splits with positive gain, best gain: -inf\n",
      "[LightGBM] [Warning] No further splits with positive gain, best gain: -inf\n",
      "[LightGBM] [Warning] No further splits with positive gain, best gain: -inf\n",
      "[LightGBM] [Warning] No further splits with positive gain, best gain: -inf\n",
      "[LightGBM] [Warning] No further splits with positive gain, best gain: -inf\n",
      "[LightGBM] [Warning] No further splits with positive gain, best gain: -inf\n",
      "[LightGBM] [Warning] No further splits with positive gain, best gain: -inf\n",
      "[LightGBM] [Warning] No further splits with positive gain, best gain: -inf\n",
      "[LightGBM] [Warning] No further splits with positive gain, best gain: -inf\n",
      "[LightGBM] [Warning] No further splits with positive gain, best gain: -inf\n",
      "[LightGBM] [Warning] No further splits with positive gain, best gain: -inf\n",
      "[LightGBM] [Warning] No further splits with positive gain, best gain: -inf\n",
      "[LightGBM] [Warning] No further splits with positive gain, best gain: -inf\n",
      "[LightGBM] [Warning] No further splits with positive gain, best gain: -inf\n",
      "[LightGBM] [Warning] No further splits with positive gain, best gain: -inf\n",
      "[LightGBM] [Warning] No further splits with positive gain, best gain: -inf\n",
      "[LightGBM] [Warning] No further splits with positive gain, best gain: -inf\n",
      "[LightGBM] [Warning] No further splits with positive gain, best gain: -inf\n",
      "[LightGBM] [Warning] No further splits with positive gain, best gain: -inf\n",
      "[LightGBM] [Warning] No further splits with positive gain, best gain: -inf\n",
      "[LightGBM] [Warning] No further splits with positive gain, best gain: -inf\n",
      "[LightGBM] [Warning] No further splits with positive gain, best gain: -inf\n",
      "[LightGBM] [Warning] No further splits with positive gain, best gain: -inf\n",
      "[LightGBM] [Warning] No further splits with positive gain, best gain: -inf\n",
      "[LightGBM] [Warning] No further splits with positive gain, best gain: -inf\n",
      "[LightGBM] [Warning] No further splits with positive gain, best gain: -inf\n",
      "[LightGBM] [Warning] No further splits with positive gain, best gain: -inf\n",
      "[LightGBM] [Warning] No further splits with positive gain, best gain: -inf\n",
      "[LightGBM] [Warning] No further splits with positive gain, best gain: -inf\n",
      "[LightGBM] [Warning] No further splits with positive gain, best gain: -inf\n",
      "[LightGBM] [Warning] No further splits with positive gain, best gain: -inf\n",
      "[LightGBM] [Warning] No further splits with positive gain, best gain: -inf\n",
      "[LightGBM] [Warning] No further splits with positive gain, best gain: -inf\n",
      "[LightGBM] [Warning] No further splits with positive gain, best gain: -inf\n",
      "[LightGBM] [Warning] No further splits with positive gain, best gain: -inf\n",
      "[LightGBM] [Warning] No further splits with positive gain, best gain: -inf\n",
      "[LightGBM] [Warning] No further splits with positive gain, best gain: -inf\n",
      "[LightGBM] [Warning] No further splits with positive gain, best gain: -inf\n",
      "[LightGBM] [Warning] No further splits with positive gain, best gain: -inf\n",
      "[LightGBM] [Warning] No further splits with positive gain, best gain: -inf\n",
      "[LightGBM] [Warning] No further splits with positive gain, best gain: -inf\n",
      "[LightGBM] [Warning] No further splits with positive gain, best gain: -inf\n",
      "[LightGBM] [Warning] No further splits with positive gain, best gain: -inf\n",
      "[LightGBM] [Warning] No further splits with positive gain, best gain: -inf\n",
      "[LightGBM] [Warning] No further splits with positive gain, best gain: -inf\n",
      "[LightGBM] [Warning] No further splits with positive gain, best gain: -inf\n",
      "[LightGBM] [Warning] No further splits with positive gain, best gain: -inf\n",
      "[LightGBM] [Warning] No further splits with positive gain, best gain: -inf\n",
      "[LightGBM] [Warning] No further splits with positive gain, best gain: -inf\n",
      "[LightGBM] [Warning] No further splits with positive gain, best gain: -inf\n",
      "[LightGBM] [Warning] No further splits with positive gain, best gain: -inf\n",
      "[LightGBM] [Warning] No further splits with positive gain, best gain: -inf\n",
      "[LightGBM] [Warning] No further splits with positive gain, best gain: -inf\n",
      "[LightGBM] [Warning] No further splits with positive gain, best gain: -inf\n",
      "[LightGBM] [Warning] No further splits with positive gain, best gain: -inf\n",
      "[LightGBM] [Warning] No further splits with positive gain, best gain: -inf\n",
      "[LightGBM] [Warning] No further splits with positive gain, best gain: -inf\n",
      "[LightGBM] [Warning] No further splits with positive gain, best gain: -inf\n",
      "[LightGBM] [Warning] No further splits with positive gain, best gain: -inf\n",
      "[LightGBM] [Warning] No further splits with positive gain, best gain: -inf\n",
      "[LightGBM] [Warning] No further splits with positive gain, best gain: -inf\n",
      "[LightGBM] [Warning] No further splits with positive gain, best gain: -inf\n",
      "[LightGBM] [Warning] No further splits with positive gain, best gain: -inf\n",
      "[LightGBM] [Warning] No further splits with positive gain, best gain: -inf\n",
      "[LightGBM] [Warning] No further splits with positive gain, best gain: -inf\n",
      "[LightGBM] [Warning] No further splits with positive gain, best gain: -inf\n",
      "[LightGBM] [Warning] No further splits with positive gain, best gain: -inf\n",
      "[LightGBM] [Warning] No further splits with positive gain, best gain: -inf\n",
      "[LightGBM] [Warning] No further splits with positive gain, best gain: -inf\n",
      "[LightGBM] [Warning] No further splits with positive gain, best gain: -inf\n",
      "[LightGBM] [Warning] No further splits with positive gain, best gain: -inf\n",
      "[LightGBM] [Warning] No further splits with positive gain, best gain: -inf\n",
      "[LightGBM] [Warning] No further splits with positive gain, best gain: -inf\n",
      "[LightGBM] [Warning] No further splits with positive gain, best gain: -inf\n",
      "[LightGBM] [Warning] No further splits with positive gain, best gain: -inf\n",
      "[LightGBM] [Warning] No further splits with positive gain, best gain: -inf\n",
      "[LightGBM] [Warning] No further splits with positive gain, best gain: -inf\n",
      "[LightGBM] [Warning] No further splits with positive gain, best gain: -inf\n",
      "[LightGBM] [Warning] No further splits with positive gain, best gain: -inf\n",
      "[LightGBM] [Warning] No further splits with positive gain, best gain: -inf\n",
      "[LightGBM] [Warning] No further splits with positive gain, best gain: -inf\n",
      "[LightGBM] [Warning] No further splits with positive gain, best gain: -inf\n",
      "[LightGBM] [Warning] No further splits with positive gain, best gain: -inf\n",
      "[LightGBM] [Warning] No further splits with positive gain, best gain: -inf\n",
      "[LightGBM] [Warning] No further splits with positive gain, best gain: -inf\n",
      "[LightGBM] [Warning] No further splits with positive gain, best gain: -inf\n",
      "[LightGBM] [Warning] No further splits with positive gain, best gain: -inf\n",
      "[LightGBM] [Warning] No further splits with positive gain, best gain: -inf\n",
      "[LightGBM] [Warning] No further splits with positive gain, best gain: -inf\n",
      "[LightGBM] [Warning] No further splits with positive gain, best gain: -inf\n",
      "[LightGBM] [Warning] No further splits with positive gain, best gain: -inf\n",
      "[LightGBM] [Warning] No further splits with positive gain, best gain: -inf\n",
      "[LightGBM] [Warning] No further splits with positive gain, best gain: -inf\n",
      "[LightGBM] [Warning] No further splits with positive gain, best gain: -inf\n",
      "[LightGBM] [Warning] No further splits with positive gain, best gain: -inf\n",
      "[LightGBM] [Warning] No further splits with positive gain, best gain: -inf\n",
      "[LightGBM] [Warning] No further splits with positive gain, best gain: -inf\n",
      "[LightGBM] [Warning] No further splits with positive gain, best gain: -inf\n",
      "[LightGBM] [Warning] No further splits with positive gain, best gain: -inf\n",
      "[LightGBM] [Warning] No further splits with positive gain, best gain: -inf\n",
      "[LightGBM] [Info] Auto-choosing col-wise multi-threading, the overhead of testing was 0.000489 seconds.\n",
      "You can set `force_col_wise=true` to remove the overhead.\n",
      "[LightGBM] [Info] Total Bins 399\n",
      "[LightGBM] [Info] Number of data points in the train set: 75, number of used features: 20\n",
      "[LightGBM] [Info] Start training from score -0.041404\n",
      "[LightGBM] [Warning] No further splits with positive gain, best gain: -inf\n",
      "[LightGBM] [Warning] No further splits with positive gain, best gain: -inf\n",
      "[LightGBM] [Warning] No further splits with positive gain, best gain: -inf\n",
      "[LightGBM] [Warning] No further splits with positive gain, best gain: -inf\n",
      "[LightGBM] [Warning] No further splits with positive gain, best gain: -inf\n",
      "[LightGBM] [Warning] No further splits with positive gain, best gain: -inf\n",
      "[LightGBM] [Warning] No further splits with positive gain, best gain: -inf\n",
      "[LightGBM] [Warning] No further splits with positive gain, best gain: -inf\n",
      "[LightGBM] [Warning] No further splits with positive gain, best gain: -inf\n",
      "[LightGBM] [Warning] No further splits with positive gain, best gain: -inf\n",
      "[LightGBM] [Warning] No further splits with positive gain, best gain: -inf\n",
      "[LightGBM] [Warning] No further splits with positive gain, best gain: -inf\n",
      "[LightGBM] [Warning] No further splits with positive gain, best gain: -inf\n",
      "[LightGBM] [Warning] No further splits with positive gain, best gain: -inf\n",
      "[LightGBM] [Warning] No further splits with positive gain, best gain: -inf\n",
      "[LightGBM] [Warning] No further splits with positive gain, best gain: -inf\n",
      "[LightGBM] [Warning] No further splits with positive gain, best gain: -inf\n",
      "[LightGBM] [Warning] No further splits with positive gain, best gain: -inf\n",
      "[LightGBM] [Warning] No further splits with positive gain, best gain: -inf\n",
      "[LightGBM] [Warning] No further splits with positive gain, best gain: -inf\n",
      "[LightGBM] [Warning] No further splits with positive gain, best gain: -inf\n",
      "[LightGBM] [Warning] No further splits with positive gain, best gain: -inf\n",
      "[LightGBM] [Warning] No further splits with positive gain, best gain: -inf\n",
      "[LightGBM] [Warning] No further splits with positive gain, best gain: -inf\n",
      "[LightGBM] [Warning] No further splits with positive gain, best gain: -inf\n",
      "[LightGBM] [Warning] No further splits with positive gain, best gain: -inf\n",
      "[LightGBM] [Warning] No further splits with positive gain, best gain: -inf\n",
      "[LightGBM] [Warning] No further splits with positive gain, best gain: -inf\n",
      "[LightGBM] [Warning] No further splits with positive gain, best gain: -inf\n",
      "[LightGBM] [Warning] No further splits with positive gain, best gain: -inf\n",
      "[LightGBM] [Warning] No further splits with positive gain, best gain: -inf\n",
      "[LightGBM] [Warning] No further splits with positive gain, best gain: -inf\n",
      "[LightGBM] [Warning] No further splits with positive gain, best gain: -inf\n",
      "[LightGBM] [Warning] No further splits with positive gain, best gain: -inf\n",
      "[LightGBM] [Warning] No further splits with positive gain, best gain: -inf\n",
      "[LightGBM] [Warning] No further splits with positive gain, best gain: -inf\n",
      "[LightGBM] [Warning] No further splits with positive gain, best gain: -inf\n",
      "[LightGBM] [Warning] No further splits with positive gain, best gain: -inf\n",
      "[LightGBM] [Warning] No further splits with positive gain, best gain: -inf\n",
      "[LightGBM] [Warning] No further splits with positive gain, best gain: -inf\n",
      "[LightGBM] [Warning] No further splits with positive gain, best gain: -inf\n",
      "[LightGBM] [Warning] No further splits with positive gain, best gain: -inf\n",
      "[LightGBM] [Warning] No further splits with positive gain, best gain: -inf\n",
      "[LightGBM] [Warning] No further splits with positive gain, best gain: -inf\n",
      "[LightGBM] [Warning] No further splits with positive gain, best gain: -inf\n",
      "[LightGBM] [Warning] No further splits with positive gain, best gain: -inf\n",
      "[LightGBM] [Warning] No further splits with positive gain, best gain: -inf\n",
      "[LightGBM] [Warning] No further splits with positive gain, best gain: -inf\n",
      "[LightGBM] [Warning] No further splits with positive gain, best gain: -inf\n",
      "[LightGBM] [Warning] No further splits with positive gain, best gain: -inf\n",
      "[LightGBM] [Warning] No further splits with positive gain, best gain: -inf\n",
      "[LightGBM] [Warning] No further splits with positive gain, best gain: -inf\n",
      "[LightGBM] [Warning] No further splits with positive gain, best gain: -inf\n",
      "[LightGBM] [Warning] No further splits with positive gain, best gain: -inf\n",
      "[LightGBM] [Warning] No further splits with positive gain, best gain: -inf\n",
      "[LightGBM] [Warning] No further splits with positive gain, best gain: -inf\n",
      "[LightGBM] [Warning] No further splits with positive gain, best gain: -inf\n",
      "[LightGBM] [Warning] No further splits with positive gain, best gain: -inf\n",
      "[LightGBM] [Warning] No further splits with positive gain, best gain: -inf\n",
      "[LightGBM] [Warning] No further splits with positive gain, best gain: -inf\n",
      "[LightGBM] [Warning] No further splits with positive gain, best gain: -inf\n",
      "[LightGBM] [Warning] No further splits with positive gain, best gain: -inf\n",
      "The MSE after feature generation is 1.6203217825970244\n",
      "The top 10 generated features are\n",
      "(X4*X5)\n",
      "GroupByThenStd(X8,X7)\n",
      "GroupByThenMin(X5,X3)\n",
      "(X2/X3)\n",
      "GroupByThenStd(X8,X10)\n",
      "GroupByThenMax(X6,X4)\n",
      "GroupByThenStd(X6,X4)\n",
      "residual(X6)\n",
      "GroupByThenStd(X9,X4)\n",
      "max(X3,X8)\n"
     ]
    }
   ],
   "source": [
    "if __name__ == '__main__':\n",
    "    n_jobs = 4\n",
    "#     data = fetch_california_housing(as_frame=True).frame\n",
    "#     label = data[['MedHouseVal']]\n",
    "#     del data['MedHouseVal']\n",
    "#     label = -np.log10(1-data[[\"average_coulombic_efficiency\"]]/100)\n",
    "    label=data[[\"Y\"]]\n",
    "    del data[\"Y\"]\n",
    "    train_x, test_x, train_y, test_y = train_test_split(data, label, test_size=0.2, random_state=1)\n",
    "    # get baseline score\n",
    "    score,_,_ = get_score(train_x, test_x, train_y, test_y)\n",
    "    print(\"The MSE before feature generation is\", score)\n",
    "    # feature generation\n",
    "    ofe = OpenFE()\n",
    "    ofe.fit(data=train_x, label=train_y, n_jobs=n_jobs,n_data_blocks = 1)\n",
    "    # OpenFE recommends a list of new features. We include the top 10\n",
    "    # generated features to see how they influence the model performance\n",
    "    train_x, test_x = transform(train_x, test_x, ofe.new_features_list[:10], n_jobs=n_jobs)\n",
    "    score,test_y, pred = get_score(train_x, test_x, train_y, test_y)\n",
    "    print(\"The MSE after feature generation is\", score)\n",
    "    print(\"The top 10 generated features are\")\n",
    "    for feature in ofe.new_features_list[:10]:\n",
    "        print(tree_to_formula(feature))"
   ]
  },
  {
   "cell_type": "code",
   "execution_count": 12,
   "id": "d295b04f",
   "metadata": {},
   "outputs": [],
   "source": [
    "new_feature_name = []\n",
    "origin_data = pd.read_excel(\"./数据2.0.xlsx\")\n",
    "for i in list(origin_data.columns)[:-1]:\n",
    "    new_feature_name.append(i)"
   ]
  },
  {
   "cell_type": "code",
   "execution_count": 13,
   "id": "ed40d7be",
   "metadata": {},
   "outputs": [],
   "source": [
    "for feature in ofe.new_features_list[:10]:\n",
    "    new_feature_name.append(tree_to_formula(feature))\n",
    "new_feature_name.append(list(origin_data.columns)[-1])"
   ]
  },
  {
   "cell_type": "code",
   "execution_count": 14,
   "id": "789d782c",
   "metadata": {},
   "outputs": [],
   "source": [
    "train_data = pd.concat([train_x,train_y],axis=1)\n",
    "test_data = pd.concat([test_x,test_y],axis=1)"
   ]
  },
  {
   "cell_type": "code",
   "execution_count": 15,
   "id": "b270f39f",
   "metadata": {},
   "outputs": [],
   "source": [
    "data_concat = pd.concat([train_data,test_data],axis=0)\n",
    "data_concat.columns = new_feature_name\n",
    "data_concat.to_excel(\"高价值特征生成.xlsx\",index=False)"
   ]
  },
  {
   "cell_type": "markdown",
   "id": "e77cea67",
   "metadata": {},
   "source": [
    "# 贪心算法特征选择"
   ]
  },
  {
   "cell_type": "code",
   "execution_count": 16,
   "id": "b771fb30",
   "metadata": {},
   "outputs": [],
   "source": [
    "import numpy as np\n",
    "import pandas as pd"
   ]
  },
  {
   "cell_type": "code",
   "execution_count": 17,
   "id": "8b763d56",
   "metadata": {},
   "outputs": [],
   "source": [
    "from sklearn.linear_model import LinearRegression\n",
    "from sklearn.model_selection import KFold"
   ]
  },
  {
   "cell_type": "code",
   "execution_count": 18,
   "id": "75f66a88",
   "metadata": {},
   "outputs": [],
   "source": [
    "def Liner_model(datasets,cols):\n",
    "    skf = KFold(n_splits=5, shuffle=True,random_state=888)\n",
    "    valid_ssr =[]\n",
    "    x = datasets[:,cols]\n",
    "    y = datasets[:,-1:]\n",
    "    for i, (trn_idx, val_idx) in enumerate(skf.split(x, y)):\n",
    "        trn_x, trn_y = x[trn_idx], y[trn_idx]\n",
    "        val_x, val_y = x[val_idx], y[val_idx]\n",
    "        # 创建并拟合线性回归模型\n",
    "        model = LinearRegression()\n",
    "        model.fit(trn_x, trn_y)\n",
    "        # 获得残差和\n",
    "        residual_sum_of_squares = np.sum((model.predict(val_x) - val_y) ** 2)\n",
    "        valid_ssr.append(residual_sum_of_squares)\n",
    "    #返回当前特征组合的交叉验证的残差和\n",
    "    return np.array(valid_ssr).mean()"
   ]
  },
  {
   "cell_type": "code",
   "execution_count": 19,
   "id": "63d7edf3",
   "metadata": {},
   "outputs": [],
   "source": [
    "def bic(data, features):\n",
    "    # 估计线性回归模型的参数和残差平方和\n",
    "    rss = Liner_model(data,features)\n",
    "    # 计算BIC值\n",
    "    n = len(data)*0.8\n",
    "    k = len(features)\n",
    "    \n",
    "    return n * np.log(rss / n) + k * np.log(n),rss"
   ]
  },
  {
   "cell_type": "code",
   "execution_count": 20,
   "id": "2b5db683",
   "metadata": {},
   "outputs": [],
   "source": [
    "def get_best_features(data):\n",
    "    # 初始化特征集合为空\n",
    "    best_features = []\n",
    "    current_best_bic = []\n",
    "    current_best_feature = []\n",
    "    SSE = []\n",
    "    for a in range(data.shape[1] - 1):\n",
    "        # 初始化最小的BIC值为无穷大\n",
    "        Bics = []\n",
    "        cols = []\n",
    "        sses = []\n",
    "        # 遍历所有的特征\n",
    "        for i in range(data.shape[1] - 1):\n",
    "            col = current_best_feature.copy()\n",
    "            if i not in col:\n",
    "                col.append(i)\n",
    "                # 计算添加后的特征子集的BIC值\n",
    "                new_bic,sse = bic(data, col)\n",
    "                Bics.append(new_bic)\n",
    "                cols.append(col)\n",
    "                sses.append(sse)\n",
    "        current_best_feature = cols[np.array(sses).argmin()].copy()\n",
    "        current_best_bic.append(Bics[np.array(Bics).argmin()])\n",
    "        best_features.append(current_best_feature)\n",
    "        SSE.append(sses[np.array(Bics).argmin()])\n",
    "    return best_features,SSE"
   ]
  },
  {
   "cell_type": "code",
   "execution_count": 21,
   "id": "0acbf5b7",
   "metadata": {},
   "outputs": [],
   "source": [
    "import statsmodels.api as sm\n",
    "import pandas as pd\n",
    "def get_bis(features,path):\n",
    "    org_data = pd.read_excel(path).fillna(0)\n",
    "    columns = list(org_data.columns)\n",
    "    data_y = org_data[[columns[i] for i in features]]\n",
    "    model_1 = sm.OLS(org_data['Y'], sm.add_constant(data_y)).fit()\n",
    "    return model_1.bic"
   ]
  },
  {
   "cell_type": "code",
   "execution_count": 22,
   "id": "78eebb8b",
   "metadata": {},
   "outputs": [],
   "source": [
    "def bic_choose_feature(best_features,path):\n",
    "    bics = []\n",
    "    for i in range(len(best_features)):\n",
    "        bic = get_bis(best_features[i],path)\n",
    "        bics.append(bic)\n",
    "    min_index = np.array(bics).argmin()\n",
    "    return best_features[min_index],bics"
   ]
  },
  {
   "cell_type": "code",
   "execution_count": 23,
   "id": "9dcfec33",
   "metadata": {},
   "outputs": [],
   "source": [
    "path = \"高价值特征生成.xlsx\"\n",
    "data = pd.read_excel(path).fillna(0)"
   ]
  },
  {
   "cell_type": "code",
   "execution_count": 24,
   "id": "d8cdc162",
   "metadata": {},
   "outputs": [],
   "source": [
    "best_features,SSE = get_best_features(np.array(data))\n",
    "pd.DataFrame(best_features).to_excel(\"best_feature_candinate.xlsx\")\n",
    "bic_feature,bics = bic_choose_feature(best_features,path)"
   ]
  },
  {
   "cell_type": "code",
   "execution_count": 25,
   "id": "9ed7f502",
   "metadata": {},
   "outputs": [],
   "source": [
    "# bic_feature = best_features[4]"
   ]
  },
  {
   "cell_type": "code",
   "execution_count": 26,
   "id": "bf99b40a",
   "metadata": {},
   "outputs": [],
   "source": [
    "sse_bics = pd.concat((pd.DataFrame(SSE),pd.DataFrame(bics)),axis=1)\n",
    "sse_bics.columns = [\"SSE\",\"BIC\"]\n",
    "sse_bics.to_excel(\"SSE_and_BIC.xlsx\",index = False)"
   ]
  },
  {
   "cell_type": "code",
   "execution_count": 27,
   "id": "d56bf844",
   "metadata": {},
   "outputs": [],
   "source": [
    "org_data = pd.read_excel(\"高价值特征生成.xlsx\").fillna(0)\n",
    "columns = list(org_data.columns)\n",
    "filter_data = org_data[[columns[i] for i in bic_feature]]"
   ]
  },
  {
   "cell_type": "code",
   "execution_count": 28,
   "id": "fb69b472",
   "metadata": {},
   "outputs": [],
   "source": [
    "data3 = pd.concat((filter_data,org_data.iloc[:,-1:]),axis = 1)\n",
    "data3.to_excel(\"BIC筛选后特征数据集.xlsx\",index = False)"
   ]
  },
  {
   "cell_type": "code",
   "execution_count": 29,
   "id": "bc51b97f",
   "metadata": {},
   "outputs": [],
   "source": [
    "data3.corr().to_excel(\"皮尔逊相关系数矩阵-特征筛选后.xlsx\",index = False)"
   ]
  },
  {
   "cell_type": "code",
   "execution_count": 30,
   "id": "cf677641",
   "metadata": {},
   "outputs": [
    {
     "data": {
      "text/html": [
       "<div>\n",
       "<style scoped>\n",
       "    .dataframe tbody tr th:only-of-type {\n",
       "        vertical-align: middle;\n",
       "    }\n",
       "\n",
       "    .dataframe tbody tr th {\n",
       "        vertical-align: top;\n",
       "    }\n",
       "\n",
       "    .dataframe thead th {\n",
       "        text-align: right;\n",
       "    }\n",
       "</style>\n",
       "<table border=\"1\" class=\"dataframe\">\n",
       "  <thead>\n",
       "    <tr style=\"text-align: right;\">\n",
       "      <th></th>\n",
       "      <th>GroupByThenMax(X6,X4)</th>\n",
       "      <th>residual(X6)</th>\n",
       "      <th>GroupByThenStd(X6,X4)</th>\n",
       "      <th>max(X3,X8)</th>\n",
       "      <th>(X2/X3)</th>\n",
       "      <th>Y</th>\n",
       "    </tr>\n",
       "  </thead>\n",
       "  <tbody>\n",
       "    <tr>\n",
       "      <th>GroupByThenMax(X6,X4)</th>\n",
       "      <td>1.000000</td>\n",
       "      <td>0.026925</td>\n",
       "      <td>0.009732</td>\n",
       "      <td>0.025857</td>\n",
       "      <td>-0.087356</td>\n",
       "      <td>0.448627</td>\n",
       "    </tr>\n",
       "    <tr>\n",
       "      <th>residual(X6)</th>\n",
       "      <td>0.026925</td>\n",
       "      <td>1.000000</td>\n",
       "      <td>-0.061780</td>\n",
       "      <td>0.027331</td>\n",
       "      <td>0.004459</td>\n",
       "      <td>0.178645</td>\n",
       "    </tr>\n",
       "    <tr>\n",
       "      <th>GroupByThenStd(X6,X4)</th>\n",
       "      <td>0.009732</td>\n",
       "      <td>-0.061780</td>\n",
       "      <td>1.000000</td>\n",
       "      <td>-0.111829</td>\n",
       "      <td>-0.009590</td>\n",
       "      <td>-0.161281</td>\n",
       "    </tr>\n",
       "    <tr>\n",
       "      <th>max(X3,X8)</th>\n",
       "      <td>0.025857</td>\n",
       "      <td>0.027331</td>\n",
       "      <td>-0.111829</td>\n",
       "      <td>1.000000</td>\n",
       "      <td>0.017950</td>\n",
       "      <td>0.147827</td>\n",
       "    </tr>\n",
       "    <tr>\n",
       "      <th>(X2/X3)</th>\n",
       "      <td>-0.087356</td>\n",
       "      <td>0.004459</td>\n",
       "      <td>-0.009590</td>\n",
       "      <td>0.017950</td>\n",
       "      <td>1.000000</td>\n",
       "      <td>-0.176945</td>\n",
       "    </tr>\n",
       "    <tr>\n",
       "      <th>Y</th>\n",
       "      <td>0.448627</td>\n",
       "      <td>0.178645</td>\n",
       "      <td>-0.161281</td>\n",
       "      <td>0.147827</td>\n",
       "      <td>-0.176945</td>\n",
       "      <td>1.000000</td>\n",
       "    </tr>\n",
       "  </tbody>\n",
       "</table>\n",
       "</div>"
      ],
      "text/plain": [
       "                       GroupByThenMax(X6,X4)  residual(X6)  \\\n",
       "GroupByThenMax(X6,X4)               1.000000      0.026925   \n",
       "residual(X6)                        0.026925      1.000000   \n",
       "GroupByThenStd(X6,X4)               0.009732     -0.061780   \n",
       "max(X3,X8)                          0.025857      0.027331   \n",
       "(X2/X3)                            -0.087356      0.004459   \n",
       "Y                                   0.448627      0.178645   \n",
       "\n",
       "                       GroupByThenStd(X6,X4)  max(X3,X8)   (X2/X3)         Y  \n",
       "GroupByThenMax(X6,X4)               0.009732    0.025857 -0.087356  0.448627  \n",
       "residual(X6)                       -0.061780    0.027331  0.004459  0.178645  \n",
       "GroupByThenStd(X6,X4)               1.000000   -0.111829 -0.009590 -0.161281  \n",
       "max(X3,X8)                         -0.111829    1.000000  0.017950  0.147827  \n",
       "(X2/X3)                            -0.009590    0.017950  1.000000 -0.176945  \n",
       "Y                                  -0.161281    0.147827 -0.176945  1.000000  "
      ]
     },
     "execution_count": 30,
     "metadata": {},
     "output_type": "execute_result"
    }
   ],
   "source": [
    "data3.corr()"
   ]
  },
  {
   "cell_type": "markdown",
   "id": "168217f1",
   "metadata": {},
   "source": [
    "# 比较不同模型的效果"
   ]
  },
  {
   "cell_type": "code",
   "execution_count": 31,
   "id": "0f9c6e29",
   "metadata": {},
   "outputs": [],
   "source": [
    "#线性回归"
   ]
  },
  {
   "cell_type": "code",
   "execution_count": 32,
   "id": "ac7ff14d",
   "metadata": {},
   "outputs": [],
   "source": [
    "import numpy as np\n",
    "import pandas as pd\n",
    "from sklearn.linear_model import LinearRegression\n",
    "from sklearn.model_selection import KFold\n",
    "import sklearn.metrics as metrics\n",
    "\n",
    "def Liner_model(datasets):\n",
    "    skf = KFold(n_splits=5, shuffle=True,random_state=888)\n",
    "    intercepts =[]\n",
    "    coefficients = []\n",
    "    x = datasets[:,:-1]\n",
    "    y = datasets[:,-1:]\n",
    "    val_ys = []\n",
    "    pre_ys = []\n",
    "    r2s = []\n",
    "    for i, (trn_idx, val_idx) in enumerate(skf.split(x, y)):\n",
    "        trn_x, trn_y = x[trn_idx], y[trn_idx]\n",
    "        val_x, val_y = x[val_idx], y[val_idx]\n",
    "        # 创建并拟合线性回归模型\n",
    "        model = LinearRegression()\n",
    "        model.fit(trn_x, trn_y)\n",
    "        intercept = model.intercept_\n",
    "        # 获取参数\n",
    "        coefficient = model.coef_\n",
    "        intercepts.append(intercept)\n",
    "        coefficients.append(coefficient)\n",
    "        # 计算MAE，MSE和R2\n",
    "#         xgb_mae = metrics.mean_absolute_error(xgb_val, xgb_pre)\n",
    "#         xgb_mse = metrics.mean_squared_error(xgb_val, xgb_pre)\n",
    "        line_r2 = metrics.r2_score(val_y, model.predict(val_x))\n",
    "        r2s.append(line_r2)\n",
    "        pre_ys.append(model.predict(val_x))\n",
    "        val_ys.append(val_y)\n",
    "    return intercepts,coefficients,r2s,pre_ys,val_ys"
   ]
  },
  {
   "cell_type": "code",
   "execution_count": 75,
   "id": "2a5aad9a",
   "metadata": {},
   "outputs": [],
   "source": [
    "path = \"BIC筛选后特征数据集.xlsx\"\n",
    "data = pd.read_excel(path).fillna(0)"
   ]
  },
  {
   "cell_type": "code",
   "execution_count": 76,
   "id": "6f9c71f4",
   "metadata": {},
   "outputs": [
    {
     "data": {
      "text/html": [
       "<div>\n",
       "<style scoped>\n",
       "    .dataframe tbody tr th:only-of-type {\n",
       "        vertical-align: middle;\n",
       "    }\n",
       "\n",
       "    .dataframe tbody tr th {\n",
       "        vertical-align: top;\n",
       "    }\n",
       "\n",
       "    .dataframe thead th {\n",
       "        text-align: right;\n",
       "    }\n",
       "</style>\n",
       "<table border=\"1\" class=\"dataframe\">\n",
       "  <thead>\n",
       "    <tr style=\"text-align: right;\">\n",
       "      <th></th>\n",
       "      <th>GroupByThenMax(X6,X4)</th>\n",
       "      <th>residual(X6)</th>\n",
       "      <th>GroupByThenStd(X6,X4)</th>\n",
       "      <th>max(X3,X8)</th>\n",
       "      <th>(X2/X3)</th>\n",
       "      <th>Y</th>\n",
       "    </tr>\n",
       "  </thead>\n",
       "  <tbody>\n",
       "    <tr>\n",
       "      <th>0</th>\n",
       "      <td>2.242085</td>\n",
       "      <td>0.408148</td>\n",
       "      <td>0.820746</td>\n",
       "      <td>1.418671</td>\n",
       "      <td>-0.530078</td>\n",
       "      <td>1.795592</td>\n",
       "    </tr>\n",
       "    <tr>\n",
       "      <th>1</th>\n",
       "      <td>1.804372</td>\n",
       "      <td>0.643187</td>\n",
       "      <td>0.842607</td>\n",
       "      <td>0.688715</td>\n",
       "      <td>0.423913</td>\n",
       "      <td>0.165822</td>\n",
       "    </tr>\n",
       "    <tr>\n",
       "      <th>2</th>\n",
       "      <td>2.038787</td>\n",
       "      <td>0.754382</td>\n",
       "      <td>0.986674</td>\n",
       "      <td>-0.284980</td>\n",
       "      <td>-0.202701</td>\n",
       "      <td>1.111060</td>\n",
       "    </tr>\n",
       "    <tr>\n",
       "      <th>3</th>\n",
       "      <td>1.625449</td>\n",
       "      <td>0.099676</td>\n",
       "      <td>0.853398</td>\n",
       "      <td>-0.102070</td>\n",
       "      <td>-2.860342</td>\n",
       "      <td>0.180828</td>\n",
       "    </tr>\n",
       "    <tr>\n",
       "      <th>4</th>\n",
       "      <td>2.038787</td>\n",
       "      <td>0.446217</td>\n",
       "      <td>0.986674</td>\n",
       "      <td>0.585284</td>\n",
       "      <td>2.164041</td>\n",
       "      <td>-0.747228</td>\n",
       "    </tr>\n",
       "    <tr>\n",
       "      <th>...</th>\n",
       "      <td>...</td>\n",
       "      <td>...</td>\n",
       "      <td>...</td>\n",
       "      <td>...</td>\n",
       "      <td>...</td>\n",
       "      <td>...</td>\n",
       "    </tr>\n",
       "    <tr>\n",
       "      <th>113</th>\n",
       "      <td>1.601074</td>\n",
       "      <td>0.601074</td>\n",
       "      <td>1.049604</td>\n",
       "      <td>1.601160</td>\n",
       "      <td>0.182340</td>\n",
       "      <td>-0.910194</td>\n",
       "    </tr>\n",
       "    <tr>\n",
       "      <th>114</th>\n",
       "      <td>2.038787</td>\n",
       "      <td>0.809355</td>\n",
       "      <td>0.986674</td>\n",
       "      <td>0.771165</td>\n",
       "      <td>-0.186913</td>\n",
       "      <td>-1.479930</td>\n",
       "    </tr>\n",
       "    <tr>\n",
       "      <th>115</th>\n",
       "      <td>2.038787</td>\n",
       "      <td>0.877602</td>\n",
       "      <td>0.986674</td>\n",
       "      <td>0.871204</td>\n",
       "      <td>-1.462329</td>\n",
       "      <td>0.336394</td>\n",
       "    </tr>\n",
       "    <tr>\n",
       "      <th>116</th>\n",
       "      <td>1.187735</td>\n",
       "      <td>0.315631</td>\n",
       "      <td>0.919892</td>\n",
       "      <td>1.531590</td>\n",
       "      <td>-0.483438</td>\n",
       "      <td>-0.138087</td>\n",
       "    </tr>\n",
       "    <tr>\n",
       "      <th>117</th>\n",
       "      <td>1.804372</td>\n",
       "      <td>0.754276</td>\n",
       "      <td>0.842607</td>\n",
       "      <td>1.172500</td>\n",
       "      <td>4.027828</td>\n",
       "      <td>0.920683</td>\n",
       "    </tr>\n",
       "  </tbody>\n",
       "</table>\n",
       "<p>118 rows × 6 columns</p>\n",
       "</div>"
      ],
      "text/plain": [
       "     GroupByThenMax(X6,X4)  residual(X6)  GroupByThenStd(X6,X4)  max(X3,X8)  \\\n",
       "0                 2.242085      0.408148               0.820746    1.418671   \n",
       "1                 1.804372      0.643187               0.842607    0.688715   \n",
       "2                 2.038787      0.754382               0.986674   -0.284980   \n",
       "3                 1.625449      0.099676               0.853398   -0.102070   \n",
       "4                 2.038787      0.446217               0.986674    0.585284   \n",
       "..                     ...           ...                    ...         ...   \n",
       "113               1.601074      0.601074               1.049604    1.601160   \n",
       "114               2.038787      0.809355               0.986674    0.771165   \n",
       "115               2.038787      0.877602               0.986674    0.871204   \n",
       "116               1.187735      0.315631               0.919892    1.531590   \n",
       "117               1.804372      0.754276               0.842607    1.172500   \n",
       "\n",
       "      (X2/X3)         Y  \n",
       "0   -0.530078  1.795592  \n",
       "1    0.423913  0.165822  \n",
       "2   -0.202701  1.111060  \n",
       "3   -2.860342  0.180828  \n",
       "4    2.164041 -0.747228  \n",
       "..        ...       ...  \n",
       "113  0.182340 -0.910194  \n",
       "114 -0.186913 -1.479930  \n",
       "115 -1.462329  0.336394  \n",
       "116 -0.483438 -0.138087  \n",
       "117  4.027828  0.920683  \n",
       "\n",
       "[118 rows x 6 columns]"
      ]
     },
     "execution_count": 76,
     "metadata": {},
     "output_type": "execute_result"
    }
   ],
   "source": [
    "data"
   ]
  },
  {
   "cell_type": "code",
   "execution_count": 33,
   "id": "17d7af6a",
   "metadata": {},
   "outputs": [
    {
     "name": "stdout",
     "output_type": "stream",
     "text": [
      "line_MAE: 0.3229177086378618\n",
      "line_MSE: 0.16329042392757473\n",
      "line_R2: 0.255858910893054\n"
     ]
    }
   ],
   "source": [
    "path = \"BIC筛选后特征数据集.xlsx\"\n",
    "data = pd.read_excel(path).fillna(0)\n",
    "data[\"Y\"] = data[\"Y\"] * scaler.scale_[-1] + scaler.mean_[-1] \n",
    "intercepts,coefficients,r2s,pre_ys,val_ys = Liner_model(np.array(data))\n",
    "\n",
    "# 导入机器学习包\n",
    "import sklearn.metrics as metrics\n",
    "line_val = [a for i in val_ys for a in i]\n",
    "line_pre = [a for i in pre_ys for a in i]\n",
    "\n",
    "# 计算MAE，MSE和R2\n",
    "line_mae = metrics.mean_absolute_error(line_val, line_pre)\n",
    "line_mse = metrics.mean_squared_error(line_val, line_pre)\n",
    "line_r2 = metrics.r2_score(line_val, line_pre)\n",
    "\n",
    "# 打印结果\n",
    "print(\"line_MAE:\", line_mae)\n",
    "print(\"line_MSE:\", line_mse)\n",
    "print(\"line_R2:\", line_r2)\n",
    "\n",
    "\n",
    "line_pre_data = pd.concat((pd.DataFrame(line_val),pd.DataFrame(line_pre)),axis = 1)\n",
    "line_pre_data.columns = [\"line_Actual\",\"line_Predict\"]\n",
    "line_pre_data.to_excel(\"line_pre_data.xlsx\",index =False)"
   ]
  },
  {
   "cell_type": "code",
   "execution_count": 34,
   "id": "c041bc9b",
   "metadata": {},
   "outputs": [],
   "source": [
    "#随机森林"
   ]
  },
  {
   "cell_type": "code",
   "execution_count": 35,
   "id": "9d41fc4d",
   "metadata": {},
   "outputs": [
    {
     "name": "stderr",
     "output_type": "stream",
     "text": [
      "D:\\Software\\Anaconda3\\envs\\matterai\\lib\\site-packages\\tqdm\\auto.py:21: TqdmWarning: IProgress not found. Please update jupyter and ipywidgets. See https://ipywidgets.readthedocs.io/en/stable/user_install.html\n",
      "  from .autonotebook import tqdm as notebook_tqdm\n"
     ]
    }
   ],
   "source": [
    "from sklearn.model_selection import KFold\n",
    "from sklearn.ensemble import RandomForestRegressor\n",
    "import pandas as pd\n",
    "import numpy as np\n",
    "import optuna"
   ]
  },
  {
   "cell_type": "code",
   "execution_count": 36,
   "id": "56761697",
   "metadata": {},
   "outputs": [],
   "source": [
    "def read_data(f_path):\n",
    "    if f_path.endswith(\".csv\"):\n",
    "        data = pd.read_csv(f_path)\n",
    "    elif f_path.endswith(\".xls\") or f_path.endswith(\".xlsx\"):\n",
    "        data = pd.read_excel(f_path)\n",
    "    return data"
   ]
  },
  {
   "cell_type": "code",
   "execution_count": 37,
   "id": "8b4f129c",
   "metadata": {},
   "outputs": [],
   "source": [
    "def RF_train(params,data,Predict = False,Output = False):\n",
    "    dataset = np.array(data)\n",
    "    x = dataset[:,:-1]\n",
    "    y = dataset[:,-1:].reshape(-1)\n",
    "    n_splits = 5\n",
    "    skf = KFold(n_splits=n_splits, shuffle=True, random_state=2020)\n",
    "    min_mae = []\n",
    "    pre = 0\n",
    "    val_ys = []\n",
    "    pre_ys = []\n",
    "    for i, (trn_idx, val_idx) in enumerate(skf.split(x, y)):\n",
    "        trn_x, trn_y = x[trn_idx], y[trn_idx]\n",
    "        val_x, val_y = x[val_idx], y[val_idx]\n",
    "        rf_model = RandomForestRegressor(n_estimators=params[\"n_estimators\"],max_depth=params[\"max_depth\"])\n",
    "        rf_model.fit(trn_x,trn_y)\n",
    "        val_ys.append(val_y)\n",
    "        pre_ys.append(rf_model.predict(val_x))\n",
    "        if Predict is True:\n",
    "            pre += rf_model.predict(test)/n_splits\n",
    "        else:\n",
    "#                 min_r2.append(rf_model.score(val_x,val_y))\n",
    "            val_mae = abs(abs(rf_model.predict(val_x))-abs(val_y)).mean()\n",
    "            min_mae.append(val_mae)\n",
    "    if Predict is True:\n",
    "        return pre\n",
    "    elif Output is True:\n",
    "        return val_ys,pre_ys\n",
    "    else:     \n",
    "        return np.array(min_mae).mean()"
   ]
  },
  {
   "cell_type": "code",
   "execution_count": 38,
   "id": "b678cecf",
   "metadata": {},
   "outputs": [],
   "source": [
    "def rf_objective(trial,data):\n",
    "\n",
    "    params = {\n",
    "          'n_estimators': trial.suggest_int(\"n_estimators\", 10, 100,5),\n",
    "          'max_depth': trial.suggest_int(\"max_depth\", 1,10,1),\n",
    "          }\n",
    "\n",
    "    loss = RF_train(params,data)\n",
    "\n",
    "    return loss"
   ]
  },
  {
   "cell_type": "code",
   "execution_count": 39,
   "id": "72d6ea75",
   "metadata": {},
   "outputs": [],
   "source": [
    "def optimizer_optuna(n_trials, algo,optuna_objective,data):\n",
    "\n",
    "    #定义使用TPE或者GP\n",
    "    if algo == \"TPE\":\n",
    "        algo = optuna.samplers.TPESampler(n_startup_trials = 10, n_ei_candidates = 24)\n",
    "    elif algo == \"GP\":\n",
    "        from optuna.integration import SkoptSampler\n",
    "        import skopt\n",
    "        algo = SkoptSampler(skopt_kwargs={'base_estimator':'GP', #选择高斯过程\n",
    "                                          'n_initial_points':10, #初始观测点10个\n",
    "                                          'acq_func':'EI'} #选择的采集函数为EI，期望增量\n",
    "                           )\n",
    "\n",
    "    #实际优化过程，首先实例化优化器\n",
    "    study = optuna.create_study(sampler = algo #要使用的具体算法\n",
    "                                , direction=\"minimize\" #优化的方向，可以填写minimize或maximize\n",
    "                               )\n",
    "    #开始优化，n_trials为允许的最大迭代次数\n",
    "    #由于参数空间已经在目标函数中定义好，因此不需要输入参数空间\n",
    "    study.optimize(lambda trial: optuna_objective(trial, data) #目标函数\n",
    "                   , n_trials=n_trials #最大迭代次数（包括最初的观测值的）\n",
    "                   , show_progress_bar=True #要不要展示进度条呀？\n",
    "                  )\n",
    "\n",
    "    #可直接从优化好的对象study中调用优化的结果\n",
    "    #打印最佳参数与最佳损失值\n",
    "    print(\"\\n\",\"\\n\",\"best params: \", study.best_trial.params,\n",
    "          \"\\n\",\"\\n\",\"best score: \", study.best_trial.values,\n",
    "          \"\\n\")\n",
    "\n",
    "    return study.best_trial.params, study.best_trial.values"
   ]
  },
  {
   "cell_type": "code",
   "execution_count": 69,
   "id": "c6ac8583",
   "metadata": {},
   "outputs": [],
   "source": [
    "path = \"./BIC筛选后特征数据集.xlsx\""
   ]
  },
  {
   "cell_type": "code",
   "execution_count": 70,
   "id": "3959d8a8",
   "metadata": {},
   "outputs": [],
   "source": [
    "data = read_data(path)"
   ]
  },
  {
   "cell_type": "code",
   "execution_count": 42,
   "id": "b13a6f4a",
   "metadata": {},
   "outputs": [
    {
     "name": "stderr",
     "output_type": "stream",
     "text": [
      "[I 2024-05-28 22:58:19,733] A new study created in memory with name: no-name-91268712-2c9c-446c-b642-f8661fcb2ba5\n",
      "Best trial: 0. Best value: 0.551274:   2%|▉                                            | 2/100 [00:00<00:20,  4.88it/s]"
     ]
    },
    {
     "name": "stdout",
     "output_type": "stream",
     "text": [
      "[I 2024-05-28 22:58:20,003] Trial 0 finished with value: 0.551273619399501 and parameters: {'n_estimators': 35, 'max_depth': 2}. Best is trial 0 with value: 0.551273619399501.\n",
      "[I 2024-05-28 22:58:20,162] Trial 1 finished with value: 0.5946299381318157 and parameters: {'n_estimators': 20, 'max_depth': 1}. Best is trial 0 with value: 0.551273619399501.\n"
     ]
    },
    {
     "name": "stderr",
     "output_type": "stream",
     "text": [
      "Best trial: 2. Best value: 0.531676:   3%|█▎                                           | 3/100 [00:01<00:42,  2.26it/s]"
     ]
    },
    {
     "name": "stdout",
     "output_type": "stream",
     "text": [
      "[I 2024-05-28 22:58:20,884] Trial 2 finished with value: 0.5316756897756789 and parameters: {'n_estimators': 85, 'max_depth': 10}. Best is trial 2 with value: 0.5316756897756789.\n"
     ]
    },
    {
     "name": "stderr",
     "output_type": "stream",
     "text": [
      "Best trial: 2. Best value: 0.531676:   4%|█▊                                           | 4/100 [00:01<00:40,  2.39it/s]"
     ]
    },
    {
     "name": "stdout",
     "output_type": "stream",
     "text": [
      "[I 2024-05-28 22:58:21,266] Trial 3 finished with value: 0.550310075043799 and parameters: {'n_estimators': 50, 'max_depth': 2}. Best is trial 2 with value: 0.5316756897756789.\n",
      "[I 2024-05-28 22:58:21,361] Trial 4 finished with value: 0.5510099639230723 and parameters: {'n_estimators': 10, 'max_depth': 5}. Best is trial 2 with value: 0.5316756897756789.\n"
     ]
    },
    {
     "name": "stderr",
     "output_type": "stream",
     "text": [
      "Best trial: 2. Best value: 0.531676:   6%|██▋                                          | 6/100 [00:02<00:36,  2.55it/s]"
     ]
    },
    {
     "name": "stdout",
     "output_type": "stream",
     "text": [
      "[I 2024-05-28 22:58:22,006] Trial 5 finished with value: 0.5339918372686996 and parameters: {'n_estimators': 85, 'max_depth': 3}. Best is trial 2 with value: 0.5316756897756789.\n"
     ]
    },
    {
     "name": "stderr",
     "output_type": "stream",
     "text": [
      "Best trial: 6. Best value: 0.527764:   7%|███▏                                         | 7/100 [00:02<00:43,  2.12it/s]"
     ]
    },
    {
     "name": "stdout",
     "output_type": "stream",
     "text": [
      "[I 2024-05-28 22:58:22,691] Trial 6 finished with value: 0.5277644055749506 and parameters: {'n_estimators': 80, 'max_depth': 10}. Best is trial 6 with value: 0.5277644055749506.\n"
     ]
    },
    {
     "name": "stderr",
     "output_type": "stream",
     "text": [
      "Best trial: 6. Best value: 0.527764:   8%|███▌                                         | 8/100 [00:03<00:42,  2.15it/s]"
     ]
    },
    {
     "name": "stdout",
     "output_type": "stream",
     "text": [
      "[I 2024-05-28 22:58:23,132] Trial 7 finished with value: 0.6062856687276781 and parameters: {'n_estimators': 60, 'max_depth': 1}. Best is trial 6 with value: 0.5277644055749506.\n"
     ]
    },
    {
     "name": "stderr",
     "output_type": "stream",
     "text": [
      "Best trial: 6. Best value: 0.527764:   9%|████                                         | 9/100 [00:04<00:47,  1.92it/s]"
     ]
    },
    {
     "name": "stdout",
     "output_type": "stream",
     "text": [
      "[I 2024-05-28 22:58:23,793] Trial 8 finished with value: 0.5985932024070749 and parameters: {'n_estimators': 95, 'max_depth': 1}. Best is trial 6 with value: 0.5277644055749506.\n"
     ]
    },
    {
     "name": "stderr",
     "output_type": "stream",
     "text": [
      "Best trial: 6. Best value: 0.527764:  10%|████▍                                       | 10/100 [00:04<00:41,  2.19it/s]"
     ]
    },
    {
     "name": "stdout",
     "output_type": "stream",
     "text": [
      "[I 2024-05-28 22:58:24,091] Trial 9 finished with value: 0.6006714460334844 and parameters: {'n_estimators': 40, 'max_depth': 1}. Best is trial 6 with value: 0.5277644055749506.\n"
     ]
    },
    {
     "name": "stderr",
     "output_type": "stream",
     "text": [
      "Best trial: 10. Best value: 0.509421:  11%|████▋                                      | 11/100 [00:04<00:44,  1.99it/s]"
     ]
    },
    {
     "name": "stdout",
     "output_type": "stream",
     "text": [
      "[I 2024-05-28 22:58:24,704] Trial 10 finished with value: 0.5094205303578738 and parameters: {'n_estimators': 70, 'max_depth': 10}. Best is trial 10 with value: 0.5094205303578738.\n"
     ]
    },
    {
     "name": "stderr",
     "output_type": "stream",
     "text": [
      "Best trial: 10. Best value: 0.509421:  12%|█████▏                                     | 12/100 [00:05<00:45,  1.93it/s]"
     ]
    },
    {
     "name": "stdout",
     "output_type": "stream",
     "text": [
      "[I 2024-05-28 22:58:25,261] Trial 11 finished with value: 0.5270685871092419 and parameters: {'n_estimators': 65, 'max_depth': 10}. Best is trial 10 with value: 0.5094205303578738.\n"
     ]
    },
    {
     "name": "stderr",
     "output_type": "stream",
     "text": [
      "Best trial: 10. Best value: 0.509421:  13%|█████▌                                     | 13/100 [00:06<00:45,  1.91it/s]"
     ]
    },
    {
     "name": "stdout",
     "output_type": "stream",
     "text": [
      "[I 2024-05-28 22:58:25,799] Trial 12 finished with value: 0.5232466539034346 and parameters: {'n_estimators': 65, 'max_depth': 8}. Best is trial 10 with value: 0.5094205303578738.\n"
     ]
    },
    {
     "name": "stderr",
     "output_type": "stream",
     "text": [
      "Best trial: 10. Best value: 0.509421:  14%|██████                                     | 14/100 [00:06<00:46,  1.84it/s]"
     ]
    },
    {
     "name": "stdout",
     "output_type": "stream",
     "text": [
      "[I 2024-05-28 22:58:26,392] Trial 13 finished with value: 0.522491118244619 and parameters: {'n_estimators': 70, 'max_depth': 8}. Best is trial 10 with value: 0.5094205303578738.\n"
     ]
    },
    {
     "name": "stderr",
     "output_type": "stream",
     "text": [
      "Best trial: 14. Best value: 0.502223:  15%|██████▍                                    | 15/100 [00:07<00:49,  1.73it/s]"
     ]
    },
    {
     "name": "stdout",
     "output_type": "stream",
     "text": [
      "[I 2024-05-28 22:58:27,043] Trial 14 finished with value: 0.5022231317414741 and parameters: {'n_estimators': 75, 'max_depth': 8}. Best is trial 14 with value: 0.5022231317414741.\n"
     ]
    },
    {
     "name": "stderr",
     "output_type": "stream",
     "text": [
      "Best trial: 14. Best value: 0.502223:  16%|██████▉                                    | 16/100 [00:08<00:56,  1.49it/s]"
     ]
    },
    {
     "name": "stdout",
     "output_type": "stream",
     "text": [
      "[I 2024-05-28 22:58:27,929] Trial 15 finished with value: 0.5124486746583893 and parameters: {'n_estimators': 100, 'max_depth': 8}. Best is trial 14 with value: 0.5022231317414741.\n"
     ]
    },
    {
     "name": "stderr",
     "output_type": "stream",
     "text": [
      "Best trial: 14. Best value: 0.502223:  17%|███████▎                                   | 17/100 [00:08<00:54,  1.53it/s]"
     ]
    },
    {
     "name": "stdout",
     "output_type": "stream",
     "text": [
      "[I 2024-05-28 22:58:28,551] Trial 16 finished with value: 0.508042239515193 and parameters: {'n_estimators': 75, 'max_depth': 6}. Best is trial 14 with value: 0.5022231317414741.\n"
     ]
    },
    {
     "name": "stderr",
     "output_type": "stream",
     "text": [
      "Best trial: 14. Best value: 0.502223:  18%|███████▋                                   | 18/100 [00:09<00:48,  1.70it/s]"
     ]
    },
    {
     "name": "stdout",
     "output_type": "stream",
     "text": [
      "[I 2024-05-28 22:58:28,985] Trial 17 finished with value: 0.5388896819185306 and parameters: {'n_estimators': 50, 'max_depth': 6}. Best is trial 14 with value: 0.5022231317414741.\n"
     ]
    },
    {
     "name": "stderr",
     "output_type": "stream",
     "text": [
      "Best trial: 14. Best value: 0.502223:  19%|████████▏                                  | 19/100 [00:09<00:49,  1.63it/s]"
     ]
    },
    {
     "name": "stdout",
     "output_type": "stream",
     "text": [
      "[I 2024-05-28 22:58:29,655] Trial 18 finished with value: 0.5186265824485178 and parameters: {'n_estimators': 80, 'max_depth': 6}. Best is trial 14 with value: 0.5022231317414741.\n"
     ]
    },
    {
     "name": "stderr",
     "output_type": "stream",
     "text": [
      "Best trial: 14. Best value: 0.502223:  20%|████████▌                                  | 20/100 [00:10<00:51,  1.54it/s]"
     ]
    },
    {
     "name": "stdout",
     "output_type": "stream",
     "text": [
      "[I 2024-05-28 22:58:30,387] Trial 19 finished with value: 0.5247560196182499 and parameters: {'n_estimators': 90, 'max_depth': 5}. Best is trial 14 with value: 0.5022231317414741.\n"
     ]
    },
    {
     "name": "stderr",
     "output_type": "stream",
     "text": [
      "Best trial: 14. Best value: 0.502223:  21%|█████████                                  | 21/100 [00:11<00:50,  1.56it/s]"
     ]
    },
    {
     "name": "stdout",
     "output_type": "stream",
     "text": [
      "[I 2024-05-28 22:58:31,012] Trial 20 finished with value: 0.5198644248725096 and parameters: {'n_estimators': 75, 'max_depth': 7}. Best is trial 14 with value: 0.5022231317414741.\n"
     ]
    },
    {
     "name": "stderr",
     "output_type": "stream",
     "text": [
      "Best trial: 14. Best value: 0.502223:  22%|█████████▍                                 | 22/100 [00:11<00:49,  1.58it/s]"
     ]
    },
    {
     "name": "stdout",
     "output_type": "stream",
     "text": [
      "[I 2024-05-28 22:58:31,620] Trial 21 finished with value: 0.5221060100545432 and parameters: {'n_estimators': 70, 'max_depth': 9}. Best is trial 14 with value: 0.5022231317414741.\n"
     ]
    },
    {
     "name": "stderr",
     "output_type": "stream",
     "text": [
      "Best trial: 14. Best value: 0.502223:  23%|█████████▉                                 | 23/100 [00:12<00:44,  1.72it/s]"
     ]
    },
    {
     "name": "stdout",
     "output_type": "stream",
     "text": [
      "[I 2024-05-28 22:58:32,089] Trial 22 finished with value: 0.5173499835679466 and parameters: {'n_estimators': 55, 'max_depth': 9}. Best is trial 14 with value: 0.5022231317414741.\n"
     ]
    },
    {
     "name": "stderr",
     "output_type": "stream",
     "text": [
      "Best trial: 14. Best value: 0.502223:  24%|██████████▎                                | 24/100 [00:12<00:45,  1.67it/s]"
     ]
    },
    {
     "name": "stdout",
     "output_type": "stream",
     "text": [
      "[I 2024-05-28 22:58:32,722] Trial 23 finished with value: 0.5244073977297126 and parameters: {'n_estimators': 75, 'max_depth': 7}. Best is trial 14 with value: 0.5022231317414741.\n"
     ]
    },
    {
     "name": "stderr",
     "output_type": "stream",
     "text": [
      "Best trial: 14. Best value: 0.502223:  25%|██████████▊                                | 25/100 [00:13<00:42,  1.75it/s]"
     ]
    },
    {
     "name": "stdout",
     "output_type": "stream",
     "text": [
      "[I 2024-05-28 22:58:33,233] Trial 24 finished with value: 0.5319181849205379 and parameters: {'n_estimators': 60, 'max_depth': 9}. Best is trial 14 with value: 0.5022231317414741.\n"
     ]
    },
    {
     "name": "stderr",
     "output_type": "stream",
     "text": [
      "Best trial: 14. Best value: 0.502223:  26%|███████████▏                               | 26/100 [00:14<00:46,  1.59it/s]"
     ]
    },
    {
     "name": "stdout",
     "output_type": "stream",
     "text": [
      "[I 2024-05-28 22:58:33,990] Trial 25 finished with value: 0.5289326123491122 and parameters: {'n_estimators': 90, 'max_depth': 7}. Best is trial 14 with value: 0.5022231317414741.\n"
     ]
    },
    {
     "name": "stderr",
     "output_type": "stream",
     "text": [
      "Best trial: 14. Best value: 0.502223:  27%|███████████▌                               | 27/100 [00:14<00:39,  1.84it/s]"
     ]
    },
    {
     "name": "stdout",
     "output_type": "stream",
     "text": [
      "[I 2024-05-28 22:58:34,333] Trial 26 finished with value: 0.5176948538865502 and parameters: {'n_estimators': 40, 'max_depth': 4}. Best is trial 14 with value: 0.5022231317414741.\n"
     ]
    },
    {
     "name": "stderr",
     "output_type": "stream",
     "text": [
      "Best trial: 14. Best value: 0.502223:  28%|████████████                               | 28/100 [00:15<00:41,  1.74it/s]"
     ]
    },
    {
     "name": "stdout",
     "output_type": "stream",
     "text": [
      "[I 2024-05-28 22:58:34,987] Trial 27 finished with value: 0.51640103890478 and parameters: {'n_estimators': 75, 'max_depth': 9}. Best is trial 14 with value: 0.5022231317414741.\n"
     ]
    },
    {
     "name": "stderr",
     "output_type": "stream",
     "text": [
      "Best trial: 28. Best value: 0.498348:  29%|████████████▍                              | 29/100 [00:15<00:40,  1.76it/s]"
     ]
    },
    {
     "name": "stdout",
     "output_type": "stream",
     "text": [
      "[I 2024-05-28 22:58:35,537] Trial 28 finished with value: 0.4983475248425112 and parameters: {'n_estimators': 65, 'max_depth': 6}. Best is trial 28 with value: 0.4983475248425112.\n"
     ]
    },
    {
     "name": "stderr",
     "output_type": "stream",
     "text": [
      "Best trial: 28. Best value: 0.498348:  30%|████████████▉                              | 30/100 [00:16<00:33,  2.07it/s]"
     ]
    },
    {
     "name": "stdout",
     "output_type": "stream",
     "text": [
      "[I 2024-05-28 22:58:35,823] Trial 29 finished with value: 0.5251107177709518 and parameters: {'n_estimators': 30, 'max_depth': 4}. Best is trial 28 with value: 0.4983475248425112.\n"
     ]
    },
    {
     "name": "stderr",
     "output_type": "stream",
     "text": [
      "Best trial: 28. Best value: 0.498348:  31%|█████████████▎                             | 31/100 [00:16<00:33,  2.07it/s]"
     ]
    },
    {
     "name": "stdout",
     "output_type": "stream",
     "text": [
      "[I 2024-05-28 22:58:36,303] Trial 30 finished with value: 0.5109925249172935 and parameters: {'n_estimators': 55, 'max_depth': 6}. Best is trial 28 with value: 0.4983475248425112.\n"
     ]
    },
    {
     "name": "stderr",
     "output_type": "stream",
     "text": [
      "Best trial: 28. Best value: 0.498348:  32%|█████████████▊                             | 32/100 [00:17<00:34,  1.96it/s]"
     ]
    },
    {
     "name": "stdout",
     "output_type": "stream",
     "text": [
      "[I 2024-05-28 22:58:36,874] Trial 31 finished with value: 0.5263918425479222 and parameters: {'n_estimators': 65, 'max_depth': 7}. Best is trial 28 with value: 0.4983475248425112.\n"
     ]
    },
    {
     "name": "stderr",
     "output_type": "stream",
     "text": [
      "Best trial: 28. Best value: 0.498348:  33%|██████████████▏                            | 33/100 [00:17<00:36,  1.85it/s]"
     ]
    },
    {
     "name": "stdout",
     "output_type": "stream",
     "text": [
      "[I 2024-05-28 22:58:37,491] Trial 32 finished with value: 0.5375957935530357 and parameters: {'n_estimators': 70, 'max_depth': 8}. Best is trial 28 with value: 0.4983475248425112.\n"
     ]
    },
    {
     "name": "stderr",
     "output_type": "stream",
     "text": [
      "Best trial: 28. Best value: 0.498348:  34%|██████████████▌                            | 34/100 [00:18<00:37,  1.76it/s]"
     ]
    },
    {
     "name": "stdout",
     "output_type": "stream",
     "text": [
      "[I 2024-05-28 22:58:38,126] Trial 33 finished with value: 0.5031383226220559 and parameters: {'n_estimators': 80, 'max_depth': 5}. Best is trial 28 with value: 0.4983475248425112.\n"
     ]
    },
    {
     "name": "stderr",
     "output_type": "stream",
     "text": [
      "Best trial: 28. Best value: 0.498348:  35%|███████████████                            | 35/100 [00:19<00:39,  1.66it/s]"
     ]
    },
    {
     "name": "stdout",
     "output_type": "stream",
     "text": [
      "[I 2024-05-28 22:58:38,803] Trial 34 finished with value: 0.5245566739543193 and parameters: {'n_estimators': 85, 'max_depth': 4}. Best is trial 28 with value: 0.4983475248425112.\n"
     ]
    },
    {
     "name": "stderr",
     "output_type": "stream",
     "text": [
      "Best trial: 28. Best value: 0.498348:  36%|███████████████▍                           | 36/100 [00:19<00:39,  1.61it/s]"
     ]
    },
    {
     "name": "stdout",
     "output_type": "stream",
     "text": [
      "[I 2024-05-28 22:58:39,473] Trial 35 finished with value: 0.5187471961822472 and parameters: {'n_estimators': 80, 'max_depth': 5}. Best is trial 28 with value: 0.4983475248425112.\n"
     ]
    },
    {
     "name": "stderr",
     "output_type": "stream",
     "text": [
      "Best trial: 28. Best value: 0.498348:  37%|███████████████▉                           | 37/100 [00:20<00:40,  1.56it/s]"
     ]
    },
    {
     "name": "stdout",
     "output_type": "stream",
     "text": [
      "[I 2024-05-28 22:58:40,161] Trial 36 finished with value: 0.5071528954106879 and parameters: {'n_estimators': 90, 'max_depth': 3}. Best is trial 28 with value: 0.4983475248425112.\n"
     ]
    },
    {
     "name": "stderr",
     "output_type": "stream",
     "text": [
      "Best trial: 28. Best value: 0.498348:  38%|████████████████▎                          | 38/100 [00:21<00:40,  1.54it/s]"
     ]
    },
    {
     "name": "stdout",
     "output_type": "stream",
     "text": [
      "[I 2024-05-28 22:58:40,832] Trial 37 finished with value: 0.5417090735480884 and parameters: {'n_estimators': 90, 'max_depth': 2}. Best is trial 28 with value: 0.4983475248425112.\n"
     ]
    },
    {
     "name": "stderr",
     "output_type": "stream",
     "text": [
      "Best trial: 28. Best value: 0.498348:  39%|████████████████▊                          | 39/100 [00:21<00:40,  1.49it/s]"
     ]
    },
    {
     "name": "stdout",
     "output_type": "stream",
     "text": [
      "[I 2024-05-28 22:58:41,547] Trial 38 finished with value: 0.5201854480520922 and parameters: {'n_estimators': 95, 'max_depth': 3}. Best is trial 28 with value: 0.4983475248425112.\n"
     ]
    },
    {
     "name": "stderr",
     "output_type": "stream",
     "text": [
      "Best trial: 28. Best value: 0.498348:  40%|█████████████████▏                         | 40/100 [00:22<00:41,  1.45it/s]"
     ]
    },
    {
     "name": "stdout",
     "output_type": "stream",
     "text": [
      "[I 2024-05-28 22:58:42,290] Trial 39 finished with value: 0.5260513592168844 and parameters: {'n_estimators': 100, 'max_depth': 3}. Best is trial 28 with value: 0.4983475248425112.\n"
     ]
    },
    {
     "name": "stderr",
     "output_type": "stream",
     "text": [
      "Best trial: 28. Best value: 0.498348:  41%|█████████████████▋                         | 41/100 [00:23<00:40,  1.45it/s]"
     ]
    },
    {
     "name": "stdout",
     "output_type": "stream",
     "text": [
      "[I 2024-05-28 22:58:42,968] Trial 40 finished with value: 0.5296538809236664 and parameters: {'n_estimators': 85, 'max_depth': 5}. Best is trial 28 with value: 0.4983475248425112.\n"
     ]
    },
    {
     "name": "stderr",
     "output_type": "stream",
     "text": [
      "Best trial: 28. Best value: 0.498348:  42%|██████████████████                         | 42/100 [00:23<00:39,  1.48it/s]"
     ]
    },
    {
     "name": "stdout",
     "output_type": "stream",
     "text": [
      "[I 2024-05-28 22:58:43,609] Trial 41 finished with value: 0.5237867375598666 and parameters: {'n_estimators': 80, 'max_depth': 6}. Best is trial 28 with value: 0.4983475248425112.\n"
     ]
    },
    {
     "name": "stderr",
     "output_type": "stream",
     "text": [
      "Best trial: 28. Best value: 0.498348:  44%|██████████████████▉                        | 44/100 [00:24<00:27,  2.07it/s]"
     ]
    },
    {
     "name": "stdout",
     "output_type": "stream",
     "text": [
      "[I 2024-05-28 22:58:44,177] Trial 42 finished with value: 0.5490350608743039 and parameters: {'n_estimators': 75, 'max_depth': 2}. Best is trial 28 with value: 0.4983475248425112.\n",
      "[I 2024-05-28 22:58:44,290] Trial 43 finished with value: 0.5448179318710241 and parameters: {'n_estimators': 10, 'max_depth': 4}. Best is trial 28 with value: 0.4983475248425112.\n"
     ]
    },
    {
     "name": "stderr",
     "output_type": "stream",
     "text": [
      "Best trial: 28. Best value: 0.498348:  45%|███████████████████▎                       | 45/100 [00:25<00:26,  2.07it/s]"
     ]
    },
    {
     "name": "stdout",
     "output_type": "stream",
     "text": [
      "[I 2024-05-28 22:58:44,775] Trial 44 finished with value: 0.5206487337030984 and parameters: {'n_estimators': 60, 'max_depth': 5}. Best is trial 28 with value: 0.4983475248425112.\n"
     ]
    },
    {
     "name": "stderr",
     "output_type": "stream",
     "text": [
      "Best trial: 28. Best value: 0.498348:  46%|███████████████████▊                       | 46/100 [00:25<00:29,  1.82it/s]"
     ]
    },
    {
     "name": "stdout",
     "output_type": "stream",
     "text": [
      "[I 2024-05-28 22:58:45,475] Trial 45 finished with value: 0.5243278098237679 and parameters: {'n_estimators': 85, 'max_depth': 6}. Best is trial 28 with value: 0.4983475248425112.\n"
     ]
    },
    {
     "name": "stderr",
     "output_type": "stream",
     "text": [
      "Best trial: 28. Best value: 0.498348:  47%|████████████████████▏                      | 47/100 [00:26<00:31,  1.67it/s]"
     ]
    },
    {
     "name": "stdout",
     "output_type": "stream",
     "text": [
      "[I 2024-05-28 22:58:46,196] Trial 46 finished with value: 0.5231268858453155 and parameters: {'n_estimators': 95, 'max_depth': 3}. Best is trial 28 with value: 0.4983475248425112.\n"
     ]
    },
    {
     "name": "stderr",
     "output_type": "stream",
     "text": [
      "Best trial: 28. Best value: 0.498348:  48%|████████████████████▋                      | 48/100 [00:27<00:30,  1.70it/s]"
     ]
    },
    {
     "name": "stdout",
     "output_type": "stream",
     "text": [
      "[I 2024-05-28 22:58:46,754] Trial 47 finished with value: 0.515893649526743 and parameters: {'n_estimators': 65, 'max_depth': 7}. Best is trial 28 with value: 0.4983475248425112.\n"
     ]
    },
    {
     "name": "stderr",
     "output_type": "stream",
     "text": [
      "Best trial: 28. Best value: 0.498348:  49%|█████████████████████                      | 49/100 [00:27<00:23,  2.13it/s]"
     ]
    },
    {
     "name": "stdout",
     "output_type": "stream",
     "text": [
      "[I 2024-05-28 22:58:46,950] Trial 48 finished with value: 0.5366430911327895 and parameters: {'n_estimators': 20, 'max_depth': 5}. Best is trial 28 with value: 0.4983475248425112.\n"
     ]
    },
    {
     "name": "stderr",
     "output_type": "stream",
     "text": [
      "Best trial: 28. Best value: 0.498348:  50%|█████████████████████▌                     | 50/100 [00:27<00:25,  1.93it/s]"
     ]
    },
    {
     "name": "stdout",
     "output_type": "stream",
     "text": [
      "[I 2024-05-28 22:58:47,581] Trial 49 finished with value: 0.5210902528192713 and parameters: {'n_estimators': 80, 'max_depth': 4}. Best is trial 28 with value: 0.4983475248425112.\n"
     ]
    },
    {
     "name": "stderr",
     "output_type": "stream",
     "text": [
      "Best trial: 28. Best value: 0.498348:  51%|█████████████████████▉                     | 51/100 [00:28<00:28,  1.72it/s]"
     ]
    },
    {
     "name": "stdout",
     "output_type": "stream",
     "text": [
      "[I 2024-05-28 22:58:48,305] Trial 50 finished with value: 0.5227733171940684 and parameters: {'n_estimators': 90, 'max_depth': 6}. Best is trial 28 with value: 0.4983475248425112.\n"
     ]
    },
    {
     "name": "stderr",
     "output_type": "stream",
     "text": [
      "Best trial: 28. Best value: 0.498348:  52%|██████████████████████▎                    | 52/100 [00:29<00:28,  1.70it/s]"
     ]
    },
    {
     "name": "stdout",
     "output_type": "stream",
     "text": [
      "[I 2024-05-28 22:58:48,915] Trial 51 finished with value: 0.5204430438524278 and parameters: {'n_estimators': 70, 'max_depth': 10}. Best is trial 28 with value: 0.4983475248425112.\n"
     ]
    },
    {
     "name": "stderr",
     "output_type": "stream",
     "text": [
      "Best trial: 28. Best value: 0.498348:  53%|██████████████████████▊                    | 53/100 [00:29<00:28,  1.68it/s]"
     ]
    },
    {
     "name": "stdout",
     "output_type": "stream",
     "text": [
      "[I 2024-05-28 22:58:49,527] Trial 52 finished with value: 0.5220862667883862 and parameters: {'n_estimators': 70, 'max_depth': 8}. Best is trial 28 with value: 0.4983475248425112.\n"
     ]
    },
    {
     "name": "stderr",
     "output_type": "stream",
     "text": [
      "Best trial: 28. Best value: 0.498348:  54%|███████████████████████▏                   | 54/100 [00:30<00:26,  1.72it/s]"
     ]
    },
    {
     "name": "stdout",
     "output_type": "stream",
     "text": [
      "[I 2024-05-28 22:58:50,070] Trial 53 finished with value: 0.5114937138885562 and parameters: {'n_estimators': 60, 'max_depth': 10}. Best is trial 28 with value: 0.4983475248425112.\n"
     ]
    },
    {
     "name": "stderr",
     "output_type": "stream",
     "text": [
      "Best trial: 28. Best value: 0.498348:  55%|███████████████████████▋                   | 55/100 [00:30<00:26,  1.67it/s]"
     ]
    },
    {
     "name": "stdout",
     "output_type": "stream",
     "text": [
      "[I 2024-05-28 22:58:50,716] Trial 54 finished with value: 0.5254287978522929 and parameters: {'n_estimators': 75, 'max_depth': 9}. Best is trial 28 with value: 0.4983475248425112.\n"
     ]
    },
    {
     "name": "stderr",
     "output_type": "stream",
     "text": [
      "Best trial: 28. Best value: 0.498348:  56%|████████████████████████                   | 56/100 [00:31<00:24,  1.81it/s]"
     ]
    },
    {
     "name": "stdout",
     "output_type": "stream",
     "text": [
      "[I 2024-05-28 22:58:51,164] Trial 55 finished with value: 0.5156867659479587 and parameters: {'n_estimators': 50, 'max_depth': 7}. Best is trial 28 with value: 0.4983475248425112.\n"
     ]
    },
    {
     "name": "stderr",
     "output_type": "stream",
     "text": [
      "Best trial: 28. Best value: 0.498348:  57%|████████████████████████▌                  | 57/100 [00:32<00:25,  1.70it/s]"
     ]
    },
    {
     "name": "stdout",
     "output_type": "stream",
     "text": [
      "[I 2024-05-28 22:58:51,834] Trial 56 finished with value: 0.5202417870821732 and parameters: {'n_estimators': 80, 'max_depth': 8}. Best is trial 28 with value: 0.4983475248425112.\n"
     ]
    },
    {
     "name": "stderr",
     "output_type": "stream",
     "text": [
      "Best trial: 28. Best value: 0.498348:  58%|████████████████████████▉                  | 58/100 [00:32<00:26,  1.61it/s]"
     ]
    },
    {
     "name": "stdout",
     "output_type": "stream",
     "text": [
      "[I 2024-05-28 22:58:52,526] Trial 57 finished with value: 0.5148857750244922 and parameters: {'n_estimators': 85, 'max_depth': 6}. Best is trial 28 with value: 0.4983475248425112.\n"
     ]
    },
    {
     "name": "stderr",
     "output_type": "stream",
     "text": [
      "Best trial: 28. Best value: 0.498348:  59%|█████████████████████████▎                 | 59/100 [00:33<00:23,  1.72it/s]"
     ]
    },
    {
     "name": "stdout",
     "output_type": "stream",
     "text": [
      "[I 2024-05-28 22:58:53,022] Trial 58 finished with value: 0.6017217574770609 and parameters: {'n_estimators': 65, 'max_depth': 1}. Best is trial 28 with value: 0.4983475248425112.\n"
     ]
    },
    {
     "name": "stderr",
     "output_type": "stream",
     "text": [
      "Best trial: 28. Best value: 0.498348:  60%|█████████████████████████▊                 | 60/100 [00:33<00:24,  1.65it/s]"
     ]
    },
    {
     "name": "stdout",
     "output_type": "stream",
     "text": [
      "[I 2024-05-28 22:58:53,686] Trial 59 finished with value: 0.5192555431483089 and parameters: {'n_estimators': 75, 'max_depth': 10}. Best is trial 28 with value: 0.4983475248425112.\n"
     ]
    },
    {
     "name": "stderr",
     "output_type": "stream",
     "text": [
      "Best trial: 28. Best value: 0.498348:  61%|██████████████████████████▏                | 61/100 [00:34<00:23,  1.63it/s]"
     ]
    },
    {
     "name": "stdout",
     "output_type": "stream",
     "text": [
      "[I 2024-05-28 22:58:54,309] Trial 60 finished with value: 0.527016966769368 and parameters: {'n_estimators': 70, 'max_depth': 8}. Best is trial 28 with value: 0.4983475248425112.\n"
     ]
    },
    {
     "name": "stderr",
     "output_type": "stream",
     "text": [
      "Best trial: 28. Best value: 0.498348:  62%|██████████████████████████▋                | 62/100 [00:35<00:21,  1.79it/s]"
     ]
    },
    {
     "name": "stdout",
     "output_type": "stream",
     "text": [
      "[I 2024-05-28 22:58:54,741] Trial 61 finished with value: 0.5263192045878865 and parameters: {'n_estimators': 50, 'max_depth': 6}. Best is trial 28 with value: 0.4983475248425112.\n"
     ]
    },
    {
     "name": "stderr",
     "output_type": "stream",
     "text": [
      "Best trial: 28. Best value: 0.498348:  63%|███████████████████████████                | 63/100 [00:35<00:19,  1.89it/s]"
     ]
    },
    {
     "name": "stdout",
     "output_type": "stream",
     "text": [
      "[I 2024-05-28 22:58:55,203] Trial 62 finished with value: 0.5008878754225511 and parameters: {'n_estimators': 55, 'max_depth': 5}. Best is trial 28 with value: 0.4983475248425112.\n"
     ]
    },
    {
     "name": "stderr",
     "output_type": "stream",
     "text": [
      "Best trial: 28. Best value: 0.498348:  64%|███████████████████████████▌               | 64/100 [00:35<00:17,  2.05it/s]"
     ]
    },
    {
     "name": "stdout",
     "output_type": "stream",
     "text": [
      "[I 2024-05-28 22:58:55,596] Trial 63 finished with value: 0.5104038657413361 and parameters: {'n_estimators': 45, 'max_depth': 5}. Best is trial 28 with value: 0.4983475248425112.\n"
     ]
    },
    {
     "name": "stderr",
     "output_type": "stream",
     "text": [
      "Best trial: 28. Best value: 0.498348:  65%|███████████████████████████▉               | 65/100 [00:36<00:17,  2.06it/s]"
     ]
    },
    {
     "name": "stdout",
     "output_type": "stream",
     "text": [
      "[I 2024-05-28 22:58:56,076] Trial 64 finished with value: 0.5192635635072294 and parameters: {'n_estimators': 55, 'max_depth': 7}. Best is trial 28 with value: 0.4983475248425112.\n"
     ]
    },
    {
     "name": "stderr",
     "output_type": "stream",
     "text": [
      "Best trial: 28. Best value: 0.498348:  66%|████████████████████████████▍              | 66/100 [00:36<00:16,  2.04it/s]"
     ]
    },
    {
     "name": "stdout",
     "output_type": "stream",
     "text": [
      "[I 2024-05-28 22:58:56,579] Trial 65 finished with value: 0.5117943938369962 and parameters: {'n_estimators': 60, 'max_depth': 5}. Best is trial 28 with value: 0.4983475248425112.\n"
     ]
    },
    {
     "name": "stderr",
     "output_type": "stream",
     "text": [
      "Best trial: 28. Best value: 0.498348:  67%|████████████████████████████▊              | 67/100 [00:37<00:16,  1.98it/s]"
     ]
    },
    {
     "name": "stdout",
     "output_type": "stream",
     "text": [
      "[I 2024-05-28 22:58:57,114] Trial 66 finished with value: 0.5295064796131763 and parameters: {'n_estimators': 65, 'max_depth': 4}. Best is trial 28 with value: 0.4983475248425112.\n"
     ]
    },
    {
     "name": "stderr",
     "output_type": "stream",
     "text": [
      "Best trial: 28. Best value: 0.498348:  68%|█████████████████████████████▏             | 68/100 [00:37<00:15,  2.09it/s]"
     ]
    },
    {
     "name": "stdout",
     "output_type": "stream",
     "text": [
      "[I 2024-05-28 22:58:57,528] Trial 67 finished with value: 0.5164390807986246 and parameters: {'n_estimators': 45, 'max_depth': 9}. Best is trial 28 with value: 0.4983475248425112.\n"
     ]
    },
    {
     "name": "stderr",
     "output_type": "stream",
     "text": [
      "Best trial: 28. Best value: 0.498348:  69%|█████████████████████████████▋             | 69/100 [00:38<00:15,  1.95it/s]"
     ]
    },
    {
     "name": "stdout",
     "output_type": "stream",
     "text": [
      "[I 2024-05-28 22:58:58,128] Trial 68 finished with value: 0.5119197772125799 and parameters: {'n_estimators': 70, 'max_depth': 7}. Best is trial 28 with value: 0.4983475248425112.\n"
     ]
    },
    {
     "name": "stderr",
     "output_type": "stream",
     "text": [
      "Best trial: 28. Best value: 0.498348:  70%|██████████████████████████████             | 70/100 [00:38<00:16,  1.87it/s]"
     ]
    },
    {
     "name": "stdout",
     "output_type": "stream",
     "text": [
      "[I 2024-05-28 22:58:58,714] Trial 69 finished with value: 0.5157219689579622 and parameters: {'n_estimators': 75, 'max_depth': 3}. Best is trial 28 with value: 0.4983475248425112.\n"
     ]
    },
    {
     "name": "stderr",
     "output_type": "stream",
     "text": [
      "Best trial: 28. Best value: 0.498348:  71%|██████████████████████████████▌            | 71/100 [00:39<00:17,  1.65it/s]"
     ]
    },
    {
     "name": "stdout",
     "output_type": "stream",
     "text": [
      "[I 2024-05-28 22:58:59,486] Trial 70 finished with value: 0.5115646157155148 and parameters: {'n_estimators': 95, 'max_depth': 4}. Best is trial 28 with value: 0.4983475248425112.\n"
     ]
    },
    {
     "name": "stderr",
     "output_type": "stream",
     "text": [
      "Best trial: 28. Best value: 0.498348:  72%|██████████████████████████████▉            | 72/100 [00:40<00:15,  1.85it/s]"
     ]
    },
    {
     "name": "stdout",
     "output_type": "stream",
     "text": [
      "[I 2024-05-28 22:58:59,875] Trial 71 finished with value: 0.5168505588413479 and parameters: {'n_estimators': 45, 'max_depth': 5}. Best is trial 28 with value: 0.4983475248425112.\n"
     ]
    },
    {
     "name": "stderr",
     "output_type": "stream",
     "text": [
      "Best trial: 28. Best value: 0.498348:  73%|███████████████████████████████▍           | 73/100 [00:40<00:12,  2.12it/s]"
     ]
    },
    {
     "name": "stdout",
     "output_type": "stream",
     "text": [
      "[I 2024-05-28 22:59:00,184] Trial 72 finished with value: 0.5211806783538162 and parameters: {'n_estimators': 35, 'max_depth': 5}. Best is trial 28 with value: 0.4983475248425112.\n"
     ]
    },
    {
     "name": "stderr",
     "output_type": "stream",
     "text": [
      "Best trial: 28. Best value: 0.498348:  74%|███████████████████████████████▊           | 74/100 [00:40<00:11,  2.24it/s]"
     ]
    },
    {
     "name": "stdout",
     "output_type": "stream",
     "text": [
      "[I 2024-05-28 22:59:00,573] Trial 73 finished with value: 0.5201626704055896 and parameters: {'n_estimators': 45, 'max_depth': 5}. Best is trial 28 with value: 0.4983475248425112.\n"
     ]
    },
    {
     "name": "stderr",
     "output_type": "stream",
     "text": [
      "Best trial: 28. Best value: 0.498348:  75%|████████████████████████████████▎          | 75/100 [00:41<00:11,  2.26it/s]"
     ]
    },
    {
     "name": "stdout",
     "output_type": "stream",
     "text": [
      "[I 2024-05-28 22:59:01,003] Trial 74 finished with value: 0.5198029651149872 and parameters: {'n_estimators': 50, 'max_depth': 6}. Best is trial 28 with value: 0.4983475248425112.\n"
     ]
    },
    {
     "name": "stderr",
     "output_type": "stream",
     "text": [
      "Best trial: 28. Best value: 0.498348:  76%|████████████████████████████████▋          | 76/100 [00:41<00:10,  2.20it/s]"
     ]
    },
    {
     "name": "stdout",
     "output_type": "stream",
     "text": [
      "[I 2024-05-28 22:59:01,487] Trial 75 finished with value: 0.5128332879998088 and parameters: {'n_estimators': 55, 'max_depth': 6}. Best is trial 28 with value: 0.4983475248425112.\n"
     ]
    },
    {
     "name": "stderr",
     "output_type": "stream",
     "text": [
      "Best trial: 28. Best value: 0.498348:  77%|█████████████████████████████████          | 77/100 [00:42<00:11,  1.99it/s]"
     ]
    },
    {
     "name": "stdout",
     "output_type": "stream",
     "text": [
      "[I 2024-05-28 22:59:02,104] Trial 76 finished with value: 0.5398803228606981 and parameters: {'n_estimators': 80, 'max_depth': 2}. Best is trial 28 with value: 0.4983475248425112.\n"
     ]
    },
    {
     "name": "stderr",
     "output_type": "stream",
     "text": [
      "Best trial: 28. Best value: 0.498348:  78%|█████████████████████████████████▌         | 78/100 [00:43<00:12,  1.80it/s]"
     ]
    },
    {
     "name": "stdout",
     "output_type": "stream",
     "text": [
      "[I 2024-05-28 22:59:02,782] Trial 77 finished with value: 0.5173627691677833 and parameters: {'n_estimators': 85, 'max_depth': 4}. Best is trial 28 with value: 0.4983475248425112.\n"
     ]
    },
    {
     "name": "stderr",
     "output_type": "stream",
     "text": [
      "Best trial: 28. Best value: 0.498348:  79%|█████████████████████████████████▉         | 79/100 [00:43<00:10,  2.01it/s]"
     ]
    },
    {
     "name": "stdout",
     "output_type": "stream",
     "text": [
      "[I 2024-05-28 22:59:03,141] Trial 78 finished with value: 0.5074318009778067 and parameters: {'n_estimators': 40, 'max_depth': 5}. Best is trial 28 with value: 0.4983475248425112.\n"
     ]
    },
    {
     "name": "stderr",
     "output_type": "stream",
     "text": [
      "Best trial: 28. Best value: 0.498348:  80%|██████████████████████████████████▍        | 80/100 [00:44<00:11,  1.74it/s]"
     ]
    },
    {
     "name": "stdout",
     "output_type": "stream",
     "text": [
      "[I 2024-05-28 22:59:03,896] Trial 79 finished with value: 0.5072227494805291 and parameters: {'n_estimators': 90, 'max_depth': 6}. Best is trial 28 with value: 0.4983475248425112.\n"
     ]
    },
    {
     "name": "stderr",
     "output_type": "stream",
     "text": [
      "Best trial: 28. Best value: 0.498348:  81%|██████████████████████████████████▊        | 81/100 [00:44<00:11,  1.60it/s]"
     ]
    },
    {
     "name": "stdout",
     "output_type": "stream",
     "text": [
      "[I 2024-05-28 22:59:04,642] Trial 80 finished with value: 0.504889544843801 and parameters: {'n_estimators': 90, 'max_depth': 6}. Best is trial 28 with value: 0.4983475248425112.\n"
     ]
    },
    {
     "name": "stderr",
     "output_type": "stream",
     "text": [
      "Best trial: 28. Best value: 0.498348:  82%|███████████████████████████████████▎       | 82/100 [00:45<00:12,  1.45it/s]"
     ]
    },
    {
     "name": "stdout",
     "output_type": "stream",
     "text": [
      "[I 2024-05-28 22:59:05,479] Trial 81 finished with value: 0.52079953085014 and parameters: {'n_estimators': 100, 'max_depth': 6}. Best is trial 28 with value: 0.4983475248425112.\n"
     ]
    },
    {
     "name": "stderr",
     "output_type": "stream",
     "text": [
      "Best trial: 28. Best value: 0.498348:  83%|███████████████████████████████████▋       | 83/100 [00:46<00:12,  1.41it/s]"
     ]
    },
    {
     "name": "stdout",
     "output_type": "stream",
     "text": [
      "[I 2024-05-28 22:59:06,240] Trial 82 finished with value: 0.5174317976000051 and parameters: {'n_estimators': 90, 'max_depth': 6}. Best is trial 28 with value: 0.4983475248425112.\n"
     ]
    },
    {
     "name": "stderr",
     "output_type": "stream",
     "text": [
      "Best trial: 28. Best value: 0.498348:  84%|████████████████████████████████████       | 84/100 [00:47<00:11,  1.37it/s]"
     ]
    },
    {
     "name": "stdout",
     "output_type": "stream",
     "text": [
      "[I 2024-05-28 22:59:07,006] Trial 83 finished with value: 0.5239782994613195 and parameters: {'n_estimators': 95, 'max_depth': 5}. Best is trial 28 with value: 0.4983475248425112.\n"
     ]
    },
    {
     "name": "stderr",
     "output_type": "stream",
     "text": [
      "Best trial: 28. Best value: 0.498348:  85%|████████████████████████████████████▌      | 85/100 [00:48<00:11,  1.35it/s]"
     ]
    },
    {
     "name": "stdout",
     "output_type": "stream",
     "text": [
      "[I 2024-05-28 22:59:07,786] Trial 84 finished with value: 0.5176428084151505 and parameters: {'n_estimators': 90, 'max_depth': 7}. Best is trial 28 with value: 0.4983475248425112.\n"
     ]
    },
    {
     "name": "stderr",
     "output_type": "stream",
     "text": [
      "Best trial: 28. Best value: 0.498348:  86%|████████████████████████████████████▉      | 86/100 [00:48<00:08,  1.66it/s]"
     ]
    },
    {
     "name": "stdout",
     "output_type": "stream",
     "text": [
      "[I 2024-05-28 22:59:08,062] Trial 85 finished with value: 0.5330404329384804 and parameters: {'n_estimators': 30, 'max_depth': 6}. Best is trial 28 with value: 0.4983475248425112.\n"
     ]
    },
    {
     "name": "stderr",
     "output_type": "stream",
     "text": [
      "Best trial: 28. Best value: 0.498348:  87%|█████████████████████████████████████▍     | 87/100 [00:49<00:08,  1.56it/s]"
     ]
    },
    {
     "name": "stdout",
     "output_type": "stream",
     "text": [
      "[I 2024-05-28 22:59:08,796] Trial 86 finished with value: 0.5218947459162447 and parameters: {'n_estimators': 90, 'max_depth': 5}. Best is trial 28 with value: 0.4983475248425112.\n"
     ]
    },
    {
     "name": "stderr",
     "output_type": "stream",
     "text": [
      "Best trial: 28. Best value: 0.498348:  88%|█████████████████████████████████████▊     | 88/100 [00:49<00:06,  1.96it/s]"
     ]
    },
    {
     "name": "stdout",
     "output_type": "stream",
     "text": [
      "[I 2024-05-28 22:59:08,998] Trial 87 finished with value: 0.5279270463590107 and parameters: {'n_estimators': 20, 'max_depth': 7}. Best is trial 28 with value: 0.4983475248425112.\n"
     ]
    },
    {
     "name": "stderr",
     "output_type": "stream",
     "text": [
      "Best trial: 28. Best value: 0.498348:  90%|██████████████████████████████████████▋    | 90/100 [00:50<00:04,  2.30it/s]"
     ]
    },
    {
     "name": "stdout",
     "output_type": "stream",
     "text": [
      "[I 2024-05-28 22:59:09,668] Trial 88 finished with value: 0.5220137337868065 and parameters: {'n_estimators': 80, 'max_depth': 6}. Best is trial 28 with value: 0.4983475248425112.\n",
      "[I 2024-05-28 22:59:09,814] Trial 89 finished with value: 0.5197148205690544 and parameters: {'n_estimators': 15, 'max_depth': 3}. Best is trial 28 with value: 0.4983475248425112.\n"
     ]
    },
    {
     "name": "stderr",
     "output_type": "stream",
     "text": [
      "Best trial: 28. Best value: 0.498348:  91%|███████████████████████████████████████▏   | 91/100 [00:50<00:03,  2.67it/s]"
     ]
    },
    {
     "name": "stdout",
     "output_type": "stream",
     "text": [
      "[I 2024-05-28 22:59:10,050] Trial 90 finished with value: 0.5348237039251313 and parameters: {'n_estimators': 25, 'max_depth': 5}. Best is trial 28 with value: 0.4983475248425112.\n"
     ]
    },
    {
     "name": "stderr",
     "output_type": "stream",
     "text": [
      "Best trial: 28. Best value: 0.498348:  92%|███████████████████████████████████████▌   | 92/100 [00:51<00:03,  2.06it/s]"
     ]
    },
    {
     "name": "stdout",
     "output_type": "stream",
     "text": [
      "[I 2024-05-28 22:59:10,795] Trial 91 finished with value: 0.5106264854770124 and parameters: {'n_estimators': 85, 'max_depth': 9}. Best is trial 28 with value: 0.4983475248425112.\n"
     ]
    },
    {
     "name": "stderr",
     "output_type": "stream",
     "text": [
      "Best trial: 28. Best value: 0.498348:  93%|███████████████████████████████████████▉   | 93/100 [00:51<00:04,  1.73it/s]"
     ]
    },
    {
     "name": "stdout",
     "output_type": "stream",
     "text": [
      "[I 2024-05-28 22:59:11,586] Trial 92 finished with value: 0.5097605971972865 and parameters: {'n_estimators': 95, 'max_depth': 6}. Best is trial 28 with value: 0.4983475248425112.\n"
     ]
    },
    {
     "name": "stderr",
     "output_type": "stream",
     "text": [
      "Best trial: 28. Best value: 0.498348:  94%|████████████████████████████████████████▍  | 94/100 [00:52<00:03,  1.77it/s]"
     ]
    },
    {
     "name": "stdout",
     "output_type": "stream",
     "text": [
      "[I 2024-05-28 22:59:12,126] Trial 93 finished with value: 0.5309902319682284 and parameters: {'n_estimators': 65, 'max_depth': 4}. Best is trial 28 with value: 0.4983475248425112.\n"
     ]
    },
    {
     "name": "stderr",
     "output_type": "stream",
     "text": [
      "Best trial: 28. Best value: 0.498348:  95%|████████████████████████████████████████▊  | 95/100 [00:53<00:02,  1.70it/s]"
     ]
    },
    {
     "name": "stdout",
     "output_type": "stream",
     "text": [
      "[I 2024-05-28 22:59:12,769] Trial 94 finished with value: 0.5268651583539455 and parameters: {'n_estimators': 75, 'max_depth': 6}. Best is trial 28 with value: 0.4983475248425112.\n"
     ]
    },
    {
     "name": "stderr",
     "output_type": "stream",
     "text": [
      "Best trial: 28. Best value: 0.498348:  96%|█████████████████████████████████████████▎ | 96/100 [00:53<00:02,  1.70it/s]"
     ]
    },
    {
     "name": "stdout",
     "output_type": "stream",
     "text": [
      "[I 2024-05-28 22:59:13,355] Trial 95 finished with value: 0.5314021534758606 and parameters: {'n_estimators': 70, 'max_depth': 5}. Best is trial 28 with value: 0.4983475248425112.\n"
     ]
    },
    {
     "name": "stderr",
     "output_type": "stream",
     "text": [
      "Best trial: 28. Best value: 0.498348:  97%|█████████████████████████████████████████▋ | 97/100 [00:54<00:01,  1.59it/s]"
     ]
    },
    {
     "name": "stdout",
     "output_type": "stream",
     "text": [
      "[I 2024-05-28 22:59:14,081] Trial 96 finished with value: 0.5223370802136282 and parameters: {'n_estimators': 85, 'max_depth': 7}. Best is trial 28 with value: 0.4983475248425112.\n"
     ]
    },
    {
     "name": "stderr",
     "output_type": "stream",
     "text": [
      "Best trial: 28. Best value: 0.498348:  98%|██████████████████████████████████████████▏| 98/100 [00:55<00:01,  1.56it/s]"
     ]
    },
    {
     "name": "stdout",
     "output_type": "stream",
     "text": [
      "[I 2024-05-28 22:59:14,745] Trial 97 finished with value: 0.51440097525642 and parameters: {'n_estimators': 75, 'max_depth': 8}. Best is trial 28 with value: 0.4983475248425112.\n"
     ]
    },
    {
     "name": "stderr",
     "output_type": "stream",
     "text": [
      "Best trial: 28. Best value: 0.498348:  99%|██████████████████████████████████████████▌| 99/100 [00:55<00:00,  1.52it/s]"
     ]
    },
    {
     "name": "stdout",
     "output_type": "stream",
     "text": [
      "[I 2024-05-28 22:59:15,449] Trial 98 finished with value: 0.5241125065818288 and parameters: {'n_estimators': 80, 'max_depth': 10}. Best is trial 28 with value: 0.4983475248425112.\n"
     ]
    },
    {
     "name": "stderr",
     "output_type": "stream",
     "text": [
      "Best trial: 28. Best value: 0.498348: 100%|██████████████████████████████████████████| 100/100 [00:56<00:00,  1.77it/s]"
     ]
    },
    {
     "name": "stdout",
     "output_type": "stream",
     "text": [
      "[I 2024-05-28 22:59:16,182] Trial 99 finished with value: 0.6015875376544945 and parameters: {'n_estimators': 100, 'max_depth': 1}. Best is trial 28 with value: 0.4983475248425112.\n",
      "\n",
      " \n",
      " best params:  {'n_estimators': 65, 'max_depth': 6} \n",
      " \n",
      " best score:  [0.4983475248425112] \n",
      "\n"
     ]
    },
    {
     "name": "stderr",
     "output_type": "stream",
     "text": [
      "\n"
     ]
    }
   ],
   "source": [
    "rf_best_params,rf_best_mae = optimizer_optuna(n_trials = 100, algo=\"TPE\", optuna_objective=rf_objective, data=data)"
   ]
  },
  {
   "cell_type": "code",
   "execution_count": 43,
   "id": "bfc70e0b",
   "metadata": {},
   "outputs": [],
   "source": [
    "val_ys,pre_ys= RF_train(params=rf_best_params,data=data,Output=True)"
   ]
  },
  {
   "cell_type": "code",
   "execution_count": 44,
   "id": "46ea7923",
   "metadata": {},
   "outputs": [
    {
     "name": "stdout",
     "output_type": "stream",
     "text": [
      "RF_MAE: 0.3115652916114944\n",
      "RF_MSE: 0.16218628418559444\n",
      "RF_R2: 0.26089065574594184\n"
     ]
    }
   ],
   "source": [
    "# 导入机器学习包\n",
    "import sklearn.metrics as metrics\n",
    "rf_val = [a for i in val_ys for a in i]\n",
    "rf_pre = [a for i in pre_ys for a in i]\n",
    "\n",
    "rf_val = np.array(rf_val) * scaler.scale_[-1] + scaler.mean_[-1] \n",
    "rf_pre = np.array(rf_pre) * scaler.scale_[-1] + scaler.mean_[-1] \n",
    "# 计算MAE，MSE和R2\n",
    "rf_mae = metrics.mean_absolute_error(rf_val, rf_pre)\n",
    "rf_mse = metrics.mean_squared_error(rf_val, rf_pre)\n",
    "rf_r2 = metrics.r2_score(rf_val, rf_pre)\n",
    "\n",
    "# 打印结果\n",
    "print(\"RF_MAE:\", rf_mae)\n",
    "print(\"RF_MSE:\", rf_mse)\n",
    "print(\"RF_R2:\", rf_r2)"
   ]
  },
  {
   "cell_type": "code",
   "execution_count": 45,
   "id": "c401c9ed",
   "metadata": {},
   "outputs": [],
   "source": [
    "RF_pre_data = pd.concat((pd.DataFrame(rf_val),pd.DataFrame(rf_pre)),axis = 1)\n",
    "RF_pre_data.columns = [\"RF_Actual\",\"RF_Predict\"]\n",
    "RF_pre_data.to_excel(\"RF_pre_data.xlsx\",index =False)"
   ]
  },
  {
   "cell_type": "markdown",
   "id": "4515f44c",
   "metadata": {},
   "source": [
    "# XGBOOST"
   ]
  },
  {
   "cell_type": "code",
   "execution_count": 46,
   "id": "d7dab39e",
   "metadata": {},
   "outputs": [],
   "source": [
    "import xgboost as xgb"
   ]
  },
  {
   "cell_type": "code",
   "execution_count": 47,
   "id": "c13539ef",
   "metadata": {},
   "outputs": [],
   "source": [
    "def xgb_train(params, data, data2=None, Predict=False, Output=False):\n",
    "    dataset = np.array(data)\n",
    "    x = dataset[:, :-1]\n",
    "    y = dataset[:, -1:]\n",
    "    if Predict is True:\n",
    "        test_x = np.array(data2)\n",
    "    n_splits = 5\n",
    "    skf = KFold(n_splits=n_splits, shuffle=True, random_state=2020)\n",
    "    min_mae = []\n",
    "    pre = 0\n",
    "    \n",
    "    val_ys = []\n",
    "    pre_ys = []\n",
    "    evals_result = {}\n",
    "    for i, (trn_idx, val_idx) in enumerate(skf.split(x, y)):\n",
    "        trn_x, trn_y = x[trn_idx], y[trn_idx]\n",
    "        val_x, val_y = x[val_idx], y[val_idx]\n",
    "        dataTrain = xgb.DMatrix(trn_x, trn_y)\n",
    "        dataVal = xgb.DMatrix(val_x, val_y)\n",
    "        watchlist = [(dataVal, 'test'), (dataTrain, 'train')]\n",
    "        if Predict is True:\n",
    "            dataTest = xgb.DMatrix(test_x)\n",
    "            bst = xgb.train(params=params, dtrain=dataTrain, num_boost_round=5000, evals=watchlist,\n",
    "                            callbacks=[xgb.callback.EarlyStopping(50)])\n",
    "            pre += bst.predict(dataTest) / n_splits\n",
    "\n",
    "        \n",
    "        elif Output is True:\n",
    "            bst = xgb.train(params=params, dtrain=dataTrain, num_boost_round=5000, evals=watchlist,\n",
    "                            callbacks=[xgb.callback.EarlyStopping(50)],verbose_eval=False)\n",
    "            val_ys.append(val_y)\n",
    "            pre_ys.append(bst.predict(xgb.DMatrix(val_x)))\n",
    "            \n",
    "\n",
    "        else:\n",
    "            bst = xgb.train(params=params, dtrain=dataTrain, num_boost_round=5000, evals=watchlist,\n",
    "                            evals_result=evals_result, callbacks=[xgb.callback.EarlyStopping(50)],verbose_eval=False)\n",
    "            min_mae.append(min(list(evals_result[\"test\"].values())[0]))\n",
    "\n",
    "\n",
    "    if Predict is True:\n",
    "        return pre\n",
    "    elif Output is True:\n",
    "        return val_ys, pre_ys\n",
    "    else:\n",
    "        return np.array(min_mae).mean()\n",
    "    \n",
    "    \n",
    "    \n",
    "def xgb_objective(trial, data):\n",
    "    params = {\n",
    "        'subsample': trial.suggest_float(\"subsample\", 0.2, 0.8),\n",
    "        'eta': trial.suggest_float(\"eta\", 0.01, 0.1, step=0.01),\n",
    "        'max_depth': trial.suggest_int(\"max_depth\", 1, 5, 1),\n",
    "        'colsample_bytree': trial.suggest_float(\"colsample_bytree\", 0.2, 0.8, step=0.1),\n",
    "        'gamma': trial.suggest_float(\"gamma\", 0, 1),\n",
    "        'eval_metric': \"mae\",\n",
    "        \"verbose\":0\n",
    "    }\n",
    "    loss = xgb_train(params, data)\n",
    "\n",
    "    return loss"
   ]
  },
  {
   "cell_type": "code",
   "execution_count": 48,
   "id": "92cd5d6a",
   "metadata": {},
   "outputs": [],
   "source": [
    "def get_prediction(params, data1, data2):\n",
    "    pre_reslust = xgb_train(params=params, data=data1, data2=data2, Predict=True)\n",
    "    return pre_reslust"
   ]
  },
  {
   "cell_type": "code",
   "execution_count": 49,
   "id": "fadd684b",
   "metadata": {},
   "outputs": [],
   "source": [
    "file_path = \"./BIC筛选后特征数据集.xlsx\"\n",
    "data = read_data(file_path)"
   ]
  },
  {
   "cell_type": "code",
   "execution_count": 50,
   "id": "bb115bc2",
   "metadata": {},
   "outputs": [
    {
     "name": "stderr",
     "output_type": "stream",
     "text": [
      "[I 2024-05-28 22:59:16,974] A new study created in memory with name: no-name-f9076e55-8515-4190-9a0e-bfd6ee0c9015\n",
      "Best trial: 0. Best value: 0.609565:   1%|▍                                            | 1/100 [00:09<16:09,  9.79s/it]"
     ]
    },
    {
     "name": "stdout",
     "output_type": "stream",
     "text": [
      "[I 2024-05-28 22:59:26,763] Trial 0 finished with value: 0.6095653635058282 and parameters: {'subsample': 0.5278271063863788, 'eta': 0.04, 'max_depth': 1, 'colsample_bytree': 0.30000000000000004, 'gamma': 0.7678297800649218}. Best is trial 0 with value: 0.6095653635058282.\n"
     ]
    },
    {
     "name": "stderr",
     "output_type": "stream",
     "text": [
      "Best trial: 1. Best value: 0.607552:   2%|▉                                            | 2/100 [00:32<28:09, 17.24s/it]"
     ]
    },
    {
     "name": "stdout",
     "output_type": "stream",
     "text": [
      "[I 2024-05-28 22:59:49,224] Trial 1 finished with value: 0.6075521642018271 and parameters: {'subsample': 0.26429177120555, 'eta': 0.02, 'max_depth': 1, 'colsample_bytree': 0.5, 'gamma': 0.4162526004084376}. Best is trial 1 with value: 0.6075521642018271.\n"
     ]
    },
    {
     "name": "stderr",
     "output_type": "stream",
     "text": [
      "Best trial: 1. Best value: 0.607552:   3%|█▎                                           | 3/100 [00:41<21:48, 13.49s/it]"
     ]
    },
    {
     "name": "stdout",
     "output_type": "stream",
     "text": [
      "[I 2024-05-28 22:59:58,240] Trial 2 finished with value: 0.6307409566557169 and parameters: {'subsample': 0.7852974333432774, 'eta': 0.060000000000000005, 'max_depth': 5, 'colsample_bytree': 0.4, 'gamma': 0.11279537142205676}. Best is trial 1 with value: 0.6075521642018271.\n"
     ]
    },
    {
     "name": "stderr",
     "output_type": "stream",
     "text": [
      "Best trial: 3. Best value: 0.587695:   4%|█▊                                           | 4/100 [00:47<16:49, 10.51s/it]"
     ]
    },
    {
     "name": "stdout",
     "output_type": "stream",
     "text": [
      "[I 2024-05-28 23:00:04,199] Trial 3 finished with value: 0.5876945056831058 and parameters: {'subsample': 0.2909439995572677, 'eta': 0.09, 'max_depth': 2, 'colsample_bytree': 0.4, 'gamma': 0.556096607369538}. Best is trial 3 with value: 0.5876945056831058.\n"
     ]
    },
    {
     "name": "stderr",
     "output_type": "stream",
     "text": [
      "Best trial: 3. Best value: 0.587695:   5%|██▎                                          | 5/100 [00:54<15:03,  9.51s/it]"
     ]
    },
    {
     "name": "stdout",
     "output_type": "stream",
     "text": [
      "[I 2024-05-28 23:00:11,926] Trial 4 finished with value: 0.6019063972800538 and parameters: {'subsample': 0.7041713716951126, 'eta': 0.06999999999999999, 'max_depth': 4, 'colsample_bytree': 0.7, 'gamma': 0.680545402805501}. Best is trial 3 with value: 0.5876945056831058.\n"
     ]
    },
    {
     "name": "stderr",
     "output_type": "stream",
     "text": [
      "Best trial: 3. Best value: 0.587695:   6%|██▋                                          | 6/100 [01:05<15:13,  9.72s/it]"
     ]
    },
    {
     "name": "stdout",
     "output_type": "stream",
     "text": [
      "[I 2024-05-28 23:00:22,049] Trial 5 finished with value: 0.6096930555108449 and parameters: {'subsample': 0.3643152703042004, 'eta': 0.05, 'max_depth': 4, 'colsample_bytree': 0.2, 'gamma': 0.8435926831953174}. Best is trial 3 with value: 0.5876945056831058.\n"
     ]
    },
    {
     "name": "stderr",
     "output_type": "stream",
     "text": [
      "Best trial: 3. Best value: 0.587695:   7%|███▏                                         | 7/100 [01:34<24:50, 16.02s/it]"
     ]
    },
    {
     "name": "stdout",
     "output_type": "stream",
     "text": [
      "[I 2024-05-28 23:00:51,053] Trial 6 finished with value: 0.6030899252081154 and parameters: {'subsample': 0.24199666085323276, 'eta': 0.02, 'max_depth': 1, 'colsample_bytree': 0.8, 'gamma': 0.29801971007368455}. Best is trial 3 with value: 0.5876945056831058.\n"
     ]
    },
    {
     "name": "stderr",
     "output_type": "stream",
     "text": [
      "Best trial: 3. Best value: 0.587695:   8%|███▌                                         | 8/100 [01:46<22:51, 14.90s/it]"
     ]
    },
    {
     "name": "stdout",
     "output_type": "stream",
     "text": [
      "[I 2024-05-28 23:01:03,560] Trial 7 finished with value: 0.5907088144601363 and parameters: {'subsample': 0.43895819231974714, 'eta': 0.08, 'max_depth': 3, 'colsample_bytree': 0.7, 'gamma': 0.07196450179066272}. Best is trial 3 with value: 0.5876945056831058.\n"
     ]
    },
    {
     "name": "stderr",
     "output_type": "stream",
     "text": [
      "Best trial: 3. Best value: 0.587695:   9%|████                                         | 9/100 [02:07<25:20, 16.71s/it]"
     ]
    },
    {
     "name": "stdout",
     "output_type": "stream",
     "text": [
      "[I 2024-05-28 23:01:24,236] Trial 8 finished with value: 0.6126595410612831 and parameters: {'subsample': 0.4512545758049991, 'eta': 0.02, 'max_depth': 1, 'colsample_bytree': 0.30000000000000004, 'gamma': 0.8224589008482452}. Best is trial 3 with value: 0.5876945056831058.\n"
     ]
    },
    {
     "name": "stderr",
     "output_type": "stream",
     "text": [
      "Best trial: 9. Best value: 0.58597:  10%|████▌                                        | 10/100 [02:16<21:45, 14.50s/it]"
     ]
    },
    {
     "name": "stdout",
     "output_type": "stream",
     "text": [
      "[I 2024-05-28 23:01:33,793] Trial 9 finished with value: 0.585969610772757 and parameters: {'subsample': 0.37376402560151767, 'eta': 0.09999999999999999, 'max_depth': 2, 'colsample_bytree': 0.4, 'gamma': 0.7167104183733801}. Best is trial 9 with value: 0.585969610772757.\n"
     ]
    },
    {
     "name": "stderr",
     "output_type": "stream",
     "text": [
      "Best trial: 9. Best value: 0.58597:  11%|████▉                                        | 11/100 [02:21<17:06, 11.53s/it]"
     ]
    },
    {
     "name": "stdout",
     "output_type": "stream",
     "text": [
      "[I 2024-05-28 23:01:38,600] Trial 10 finished with value: 0.5941385026157333 and parameters: {'subsample': 0.5603915298712469, 'eta': 0.09999999999999999, 'max_depth': 3, 'colsample_bytree': 0.6000000000000001, 'gamma': 0.9720963844875316}. Best is trial 9 with value: 0.585969610772757.\n"
     ]
    },
    {
     "name": "stderr",
     "output_type": "stream",
     "text": [
      "Best trial: 9. Best value: 0.58597:  12%|█████▍                                       | 12/100 [02:31<16:16, 11.10s/it]"
     ]
    },
    {
     "name": "stdout",
     "output_type": "stream",
     "text": [
      "[I 2024-05-28 23:01:48,696] Trial 11 finished with value: 0.5875877587556623 and parameters: {'subsample': 0.3257960236540521, 'eta': 0.09999999999999999, 'max_depth': 2, 'colsample_bytree': 0.4, 'gamma': 0.5782634088962791}. Best is trial 9 with value: 0.585969610772757.\n"
     ]
    },
    {
     "name": "stderr",
     "output_type": "stream",
     "text": [
      "Best trial: 12. Best value: 0.584221:  13%|█████▌                                     | 13/100 [02:39<14:45, 10.18s/it]"
     ]
    },
    {
     "name": "stdout",
     "output_type": "stream",
     "text": [
      "[I 2024-05-28 23:01:56,759] Trial 12 finished with value: 0.5842212996661555 and parameters: {'subsample': 0.3661297090677139, 'eta': 0.09999999999999999, 'max_depth': 2, 'colsample_bytree': 0.5, 'gamma': 0.5804590673548847}. Best is trial 12 with value: 0.5842212996661555.\n"
     ]
    },
    {
     "name": "stderr",
     "output_type": "stream",
     "text": [
      "Best trial: 12. Best value: 0.584221:  14%|██████                                     | 14/100 [02:48<14:02,  9.80s/it]"
     ]
    },
    {
     "name": "stdout",
     "output_type": "stream",
     "text": [
      "[I 2024-05-28 23:02:05,678] Trial 13 finished with value: 0.5853148513703026 and parameters: {'subsample': 0.21200079201916294, 'eta': 0.08, 'max_depth': 2, 'colsample_bytree': 0.5, 'gamma': 0.6365818078829438}. Best is trial 12 with value: 0.5842212996661555.\n"
     ]
    },
    {
     "name": "stderr",
     "output_type": "stream",
     "text": [
      "Best trial: 12. Best value: 0.584221:  15%|██████▍                                    | 15/100 [02:58<13:40,  9.65s/it]"
     ]
    },
    {
     "name": "stdout",
     "output_type": "stream",
     "text": [
      "[I 2024-05-28 23:02:14,993] Trial 14 finished with value: 0.594163707114648 and parameters: {'subsample': 0.2081901116173611, 'eta': 0.08, 'max_depth': 2, 'colsample_bytree': 0.6000000000000001, 'gamma': 0.440720814683137}. Best is trial 12 with value: 0.5842212996661555.\n"
     ]
    },
    {
     "name": "stderr",
     "output_type": "stream",
     "text": [
      "Best trial: 12. Best value: 0.584221:  16%|██████▉                                    | 16/100 [03:06<13:04,  9.34s/it]"
     ]
    },
    {
     "name": "stdout",
     "output_type": "stream",
     "text": [
      "[I 2024-05-28 23:02:23,622] Trial 15 finished with value: 0.5900636962088553 and parameters: {'subsample': 0.2044504944268105, 'eta': 0.08, 'max_depth': 3, 'colsample_bytree': 0.5, 'gamma': 0.6316431273471851}. Best is trial 12 with value: 0.5842212996661555.\n"
     ]
    },
    {
     "name": "stderr",
     "output_type": "stream",
     "text": [
      "Best trial: 12. Best value: 0.584221:  17%|███████▎                                   | 17/100 [03:18<13:46,  9.96s/it]"
     ]
    },
    {
     "name": "stdout",
     "output_type": "stream",
     "text": [
      "[I 2024-05-28 23:02:35,009] Trial 16 finished with value: 0.593791487930761 and parameters: {'subsample': 0.3157721107058584, 'eta': 0.06999999999999999, 'max_depth': 2, 'colsample_bytree': 0.6000000000000001, 'gamma': 0.4807963674218198}. Best is trial 12 with value: 0.5842212996661555.\n"
     ]
    },
    {
     "name": "stderr",
     "output_type": "stream",
     "text": [
      "Best trial: 12. Best value: 0.584221:  18%|███████▋                                   | 18/100 [03:26<12:49,  9.39s/it]"
     ]
    },
    {
     "name": "stdout",
     "output_type": "stream",
     "text": [
      "[I 2024-05-28 23:02:43,067] Trial 17 finished with value: 0.6060336147441758 and parameters: {'subsample': 0.26692817858068174, 'eta': 0.09, 'max_depth': 4, 'colsample_bytree': 0.5, 'gamma': 0.619552340683029}. Best is trial 12 with value: 0.5842212996661555.\n"
     ]
    },
    {
     "name": "stderr",
     "output_type": "stream",
     "text": [
      "Best trial: 12. Best value: 0.584221:  19%|████████▏                                  | 19/100 [03:43<15:55, 11.80s/it]"
     ]
    },
    {
     "name": "stdout",
     "output_type": "stream",
     "text": [
      "[I 2024-05-28 23:03:00,489] Trial 18 finished with value: 0.5933969631494171 and parameters: {'subsample': 0.385701772313379, 'eta': 0.04, 'max_depth': 2, 'colsample_bytree': 0.7, 'gamma': 0.332631353768982}. Best is trial 12 with value: 0.5842212996661555.\n"
     ]
    },
    {
     "name": "stderr",
     "output_type": "stream",
     "text": [
      "Best trial: 12. Best value: 0.584221:  20%|████████▌                                  | 20/100 [03:52<14:38, 10.98s/it]"
     ]
    },
    {
     "name": "stdout",
     "output_type": "stream",
     "text": [
      "[I 2024-05-28 23:03:09,543] Trial 19 finished with value: 0.5955644814486523 and parameters: {'subsample': 0.20406175315796737, 'eta': 0.09, 'max_depth': 3, 'colsample_bytree': 0.30000000000000004, 'gamma': 0.5344579627635777}. Best is trial 12 with value: 0.5842212996661555.\n"
     ]
    },
    {
     "name": "stderr",
     "output_type": "stream",
     "text": [
      "Best trial: 12. Best value: 0.584221:  21%|█████████                                  | 21/100 [04:00<13:20, 10.13s/it]"
     ]
    },
    {
     "name": "stdout",
     "output_type": "stream",
     "text": [
      "[I 2024-05-28 23:03:17,715] Trial 20 finished with value: 0.5919911185657416 and parameters: {'subsample': 0.2922374642826274, 'eta': 0.06999999999999999, 'max_depth': 5, 'colsample_bytree': 0.6000000000000001, 'gamma': 0.6968843491913594}. Best is trial 12 with value: 0.5842212996661555.\n"
     ]
    },
    {
     "name": "stderr",
     "output_type": "stream",
     "text": [
      "Best trial: 21. Best value: 0.583951:  22%|█████████▍                                 | 22/100 [04:07<11:43,  9.02s/it]"
     ]
    },
    {
     "name": "stdout",
     "output_type": "stream",
     "text": [
      "[I 2024-05-28 23:03:24,128] Trial 21 finished with value: 0.5839510818201022 and parameters: {'subsample': 0.3499753226475621, 'eta': 0.09999999999999999, 'max_depth': 2, 'colsample_bytree': 0.5, 'gamma': 0.7415765578871643}. Best is trial 21 with value: 0.5839510818201022.\n"
     ]
    },
    {
     "name": "stderr",
     "output_type": "stream",
     "text": [
      "Best trial: 22. Best value: 0.579667:  23%|█████████▉                                 | 23/100 [04:14<10:47,  8.41s/it]"
     ]
    },
    {
     "name": "stdout",
     "output_type": "stream",
     "text": [
      "[I 2024-05-28 23:03:31,118] Trial 22 finished with value: 0.5796672411519441 and parameters: {'subsample': 0.342197397050526, 'eta': 0.09999999999999999, 'max_depth': 2, 'colsample_bytree': 0.5, 'gamma': 0.7884100049101788}. Best is trial 22 with value: 0.5796672411519441.\n"
     ]
    },
    {
     "name": "stderr",
     "output_type": "stream",
     "text": [
      "Best trial: 22. Best value: 0.579667:  24%|██████████▎                                | 24/100 [04:21<10:20,  8.16s/it]"
     ]
    },
    {
     "name": "stdout",
     "output_type": "stream",
     "text": [
      "[I 2024-05-28 23:03:38,698] Trial 23 finished with value: 0.5902092758390676 and parameters: {'subsample': 0.4321139252578252, 'eta': 0.09999999999999999, 'max_depth': 1, 'colsample_bytree': 0.5, 'gamma': 0.9065708355899298}. Best is trial 22 with value: 0.5796672411519441.\n"
     ]
    },
    {
     "name": "stderr",
     "output_type": "stream",
     "text": [
      "Best trial: 24. Best value: 0.576322:  25%|██████████▊                                | 25/100 [04:28<09:50,  7.87s/it]"
     ]
    },
    {
     "name": "stdout",
     "output_type": "stream",
     "text": [
      "[I 2024-05-28 23:03:45,900] Trial 24 finished with value: 0.5763222440881519 and parameters: {'subsample': 0.3422348664487093, 'eta': 0.09, 'max_depth': 2, 'colsample_bytree': 0.5, 'gamma': 0.7600190498890979}. Best is trial 24 with value: 0.5763222440881519.\n"
     ]
    },
    {
     "name": "stderr",
     "output_type": "stream",
     "text": [
      "Best trial: 24. Best value: 0.576322:  26%|███████████▏                               | 26/100 [04:37<09:59,  8.10s/it]"
     ]
    },
    {
     "name": "stdout",
     "output_type": "stream",
     "text": [
      "[I 2024-05-28 23:03:54,536] Trial 25 finished with value: 0.5769015863132866 and parameters: {'subsample': 0.32850385170896357, 'eta': 0.09, 'max_depth': 3, 'colsample_bytree': 0.6000000000000001, 'gamma': 0.7870835373546465}. Best is trial 24 with value: 0.5763222440881519.\n"
     ]
    },
    {
     "name": "stderr",
     "output_type": "stream",
     "text": [
      "Best trial: 24. Best value: 0.576322:  27%|███████████▌                               | 27/100 [04:45<09:48,  8.06s/it]"
     ]
    },
    {
     "name": "stdout",
     "output_type": "stream",
     "text": [
      "[I 2024-05-28 23:04:02,504] Trial 26 finished with value: 0.6053345606554353 and parameters: {'subsample': 0.29359693341580373, 'eta': 0.09, 'max_depth': 3, 'colsample_bytree': 0.8, 'gamma': 0.9977348595484536}. Best is trial 24 with value: 0.5763222440881519.\n"
     ]
    },
    {
     "name": "stderr",
     "output_type": "stream",
     "text": [
      "Best trial: 24. Best value: 0.576322:  28%|████████████                               | 28/100 [04:55<10:17,  8.57s/it]"
     ]
    },
    {
     "name": "stdout",
     "output_type": "stream",
     "text": [
      "[I 2024-05-28 23:04:12,264] Trial 27 finished with value: 0.5814811684785114 and parameters: {'subsample': 0.4049596947545861, 'eta': 0.060000000000000005, 'max_depth': 4, 'colsample_bytree': 0.6000000000000001, 'gamma': 0.7889282520459551}. Best is trial 24 with value: 0.5763222440881519.\n"
     ]
    },
    {
     "name": "stderr",
     "output_type": "stream",
     "text": [
      "Best trial: 24. Best value: 0.576322:  29%|████████████▍                              | 29/100 [05:02<09:46,  8.26s/it]"
     ]
    },
    {
     "name": "stdout",
     "output_type": "stream",
     "text": [
      "[I 2024-05-28 23:04:19,807] Trial 28 finished with value: 0.5826450102490143 and parameters: {'subsample': 0.3313585199637528, 'eta': 0.09, 'max_depth': 3, 'colsample_bytree': 0.7, 'gamma': 0.8658424873242219}. Best is trial 24 with value: 0.5763222440881519.\n"
     ]
    },
    {
     "name": "stderr",
     "output_type": "stream",
     "text": [
      "Best trial: 24. Best value: 0.576322:  30%|████████████▉                              | 30/100 [05:17<11:46, 10.09s/it]"
     ]
    },
    {
     "name": "stdout",
     "output_type": "stream",
     "text": [
      "[I 2024-05-28 23:04:34,168] Trial 29 finished with value: 0.6085563848928913 and parameters: {'subsample': 0.5002131460342056, 'eta': 0.04, 'max_depth': 1, 'colsample_bytree': 0.4, 'gamma': 0.7927157732972265}. Best is trial 24 with value: 0.5763222440881519.\n"
     ]
    },
    {
     "name": "stderr",
     "output_type": "stream",
     "text": [
      "Best trial: 24. Best value: 0.576322:  31%|█████████████▎                             | 31/100 [05:27<11:39, 10.14s/it]"
     ]
    },
    {
     "name": "stdout",
     "output_type": "stream",
     "text": [
      "[I 2024-05-28 23:04:44,412] Trial 30 finished with value: 0.5888797855544565 and parameters: {'subsample': 0.32788056211850164, 'eta': 0.06999999999999999, 'max_depth': 3, 'colsample_bytree': 0.6000000000000001, 'gamma': 0.9110622575367451}. Best is trial 24 with value: 0.5763222440881519.\n"
     ]
    },
    {
     "name": "stderr",
     "output_type": "stream",
     "text": [
      "Best trial: 24. Best value: 0.576322:  32%|█████████████▊                             | 32/100 [05:37<11:26, 10.09s/it]"
     ]
    },
    {
     "name": "stdout",
     "output_type": "stream",
     "text": [
      "[I 2024-05-28 23:04:54,395] Trial 31 finished with value: 0.583391029568578 and parameters: {'subsample': 0.4069867948828112, 'eta': 0.060000000000000005, 'max_depth': 4, 'colsample_bytree': 0.6000000000000001, 'gamma': 0.7730897061954385}. Best is trial 24 with value: 0.5763222440881519.\n"
     ]
    },
    {
     "name": "stderr",
     "output_type": "stream",
     "text": [
      "Best trial: 24. Best value: 0.576322:  33%|██████████████▏                            | 33/100 [06:06<17:28, 15.65s/it]"
     ]
    },
    {
     "name": "stdout",
     "output_type": "stream",
     "text": [
      "[I 2024-05-28 23:05:23,003] Trial 32 finished with value: 0.5954233212234533 and parameters: {'subsample': 0.4030189898677676, 'eta': 0.01, 'max_depth': 4, 'colsample_bytree': 0.6000000000000001, 'gamma': 0.7648988366232479}. Best is trial 24 with value: 0.5763222440881519.\n"
     ]
    },
    {
     "name": "stderr",
     "output_type": "stream",
     "text": [
      "Best trial: 24. Best value: 0.576322:  34%|██████████████▌                            | 34/100 [06:16<15:24, 14.01s/it]"
     ]
    },
    {
     "name": "stdout",
     "output_type": "stream",
     "text": [
      "[I 2024-05-28 23:05:33,188] Trial 33 finished with value: 0.5902951532934347 and parameters: {'subsample': 0.46187205007997295, 'eta': 0.05, 'max_depth': 5, 'colsample_bytree': 0.5, 'gamma': 0.821259463095229}. Best is trial 24 with value: 0.5763222440881519.\n"
     ]
    },
    {
     "name": "stderr",
     "output_type": "stream",
     "text": [
      "Best trial: 24. Best value: 0.576322:  35%|███████████████                            | 35/100 [06:30<15:22, 14.20s/it]"
     ]
    },
    {
     "name": "stdout",
     "output_type": "stream",
     "text": [
      "[I 2024-05-28 23:05:47,825] Trial 34 finished with value: 0.5972563447943633 and parameters: {'subsample': 0.2695525508289278, 'eta': 0.03, 'max_depth': 4, 'colsample_bytree': 0.7, 'gamma': 0.7466410744412407}. Best is trial 24 with value: 0.5763222440881519.\n"
     ]
    },
    {
     "name": "stderr",
     "output_type": "stream",
     "text": [
      "Best trial: 24. Best value: 0.576322:  36%|███████████████▍                           | 36/100 [06:41<13:54, 13.05s/it]"
     ]
    },
    {
     "name": "stdout",
     "output_type": "stream",
     "text": [
      "[I 2024-05-28 23:05:58,190] Trial 35 finished with value: 0.5875934554169467 and parameters: {'subsample': 0.35132688377965915, 'eta': 0.060000000000000005, 'max_depth': 5, 'colsample_bytree': 0.4, 'gamma': 0.6688302947530993}. Best is trial 24 with value: 0.5763222440881519.\n"
     ]
    },
    {
     "name": "stderr",
     "output_type": "stream",
     "text": [
      "Best trial: 24. Best value: 0.576322:  37%|███████████████▉                           | 37/100 [06:48<11:47, 11.23s/it]"
     ]
    },
    {
     "name": "stdout",
     "output_type": "stream",
     "text": [
      "[I 2024-05-28 23:06:05,167] Trial 36 finished with value: 0.584606273871833 and parameters: {'subsample': 0.3840295001177561, 'eta': 0.09, 'max_depth': 3, 'colsample_bytree': 0.6000000000000001, 'gamma': 0.8815856352257325}. Best is trial 24 with value: 0.5763222440881519.\n"
     ]
    },
    {
     "name": "stderr",
     "output_type": "stream",
     "text": [
      "Best trial: 24. Best value: 0.576322:  38%|████████████████▎                          | 38/100 [06:55<10:15,  9.93s/it]"
     ]
    },
    {
     "name": "stdout",
     "output_type": "stream",
     "text": [
      "[I 2024-05-28 23:06:12,058] Trial 37 finished with value: 0.5860645331361372 and parameters: {'subsample': 0.2959397912437769, 'eta': 0.08, 'max_depth': 4, 'colsample_bytree': 0.5, 'gamma': 0.8032136988267914}. Best is trial 24 with value: 0.5763222440881519.\n"
     ]
    },
    {
     "name": "stderr",
     "output_type": "stream",
     "text": [
      "Best trial: 24. Best value: 0.576322:  39%|████████████████▊                          | 39/100 [07:07<10:55, 10.75s/it]"
     ]
    },
    {
     "name": "stdout",
     "output_type": "stream",
     "text": [
      "[I 2024-05-28 23:06:24,737] Trial 38 finished with value: 0.5998669732712965 and parameters: {'subsample': 0.41499337779115936, 'eta': 0.05, 'max_depth': 1, 'colsample_bytree': 0.2, 'gamma': 0.681979116143466}. Best is trial 24 with value: 0.5763222440881519.\n"
     ]
    },
    {
     "name": "stderr",
     "output_type": "stream",
     "text": [
      "Best trial: 24. Best value: 0.576322:  40%|█████████████████▏                         | 40/100 [07:13<09:13,  9.23s/it]"
     ]
    },
    {
     "name": "stdout",
     "output_type": "stream",
     "text": [
      "[I 2024-05-28 23:06:30,427] Trial 39 finished with value: 0.5934623756931852 and parameters: {'subsample': 0.2576877502289224, 'eta': 0.09, 'max_depth': 3, 'colsample_bytree': 0.7, 'gamma': 0.9521607229163178}. Best is trial 24 with value: 0.5763222440881519.\n"
     ]
    },
    {
     "name": "stderr",
     "output_type": "stream",
     "text": [
      "Best trial: 24. Best value: 0.576322:  41%|█████████████████▋                         | 41/100 [07:26<10:07, 10.30s/it]"
     ]
    },
    {
     "name": "stdout",
     "output_type": "stream",
     "text": [
      "[I 2024-05-28 23:06:43,202] Trial 40 finished with value: 0.5972773326290906 and parameters: {'subsample': 0.46913004544246406, 'eta': 0.03, 'max_depth': 2, 'colsample_bytree': 0.8, 'gamma': 0.8537358916624129}. Best is trial 24 with value: 0.5763222440881519.\n"
     ]
    },
    {
     "name": "stderr",
     "output_type": "stream",
     "text": [
      "Best trial: 24. Best value: 0.576322:  42%|██████████████████                         | 42/100 [07:31<08:30,  8.81s/it]"
     ]
    },
    {
     "name": "stdout",
     "output_type": "stream",
     "text": [
      "[I 2024-05-28 23:06:48,540] Trial 41 finished with value: 0.5899526279176707 and parameters: {'subsample': 0.3549581412332103, 'eta': 0.09, 'max_depth': 3, 'colsample_bytree': 0.7, 'gamma': 0.8588144036784037}. Best is trial 24 with value: 0.5763222440881519.\n"
     ]
    },
    {
     "name": "stderr",
     "output_type": "stream",
     "text": [
      "Best trial: 24. Best value: 0.576322:  43%|██████████████████▍                        | 43/100 [07:38<07:44,  8.15s/it]"
     ]
    },
    {
     "name": "stdout",
     "output_type": "stream",
     "text": [
      "[I 2024-05-28 23:06:55,156] Trial 42 finished with value: 0.5879340442612875 and parameters: {'subsample': 0.3315357408630678, 'eta': 0.08, 'max_depth': 3, 'colsample_bytree': 0.7, 'gamma': 0.7382351535976868}. Best is trial 24 with value: 0.5763222440881519.\n"
     ]
    },
    {
     "name": "stderr",
     "output_type": "stream",
     "text": [
      "Best trial: 24. Best value: 0.576322:  44%|██████████████████▉                        | 44/100 [07:43<06:53,  7.38s/it]"
     ]
    },
    {
     "name": "stdout",
     "output_type": "stream",
     "text": [
      "[I 2024-05-28 23:07:00,739] Trial 43 finished with value: 0.5819849848126373 and parameters: {'subsample': 0.3122244338077931, 'eta': 0.09, 'max_depth': 4, 'colsample_bytree': 0.6000000000000001, 'gamma': 0.9343533328293498}. Best is trial 24 with value: 0.5763222440881519.\n"
     ]
    },
    {
     "name": "stderr",
     "output_type": "stream",
     "text": [
      "Best trial: 24. Best value: 0.576322:  45%|███████████████████▎                       | 45/100 [07:47<05:45,  6.29s/it]"
     ]
    },
    {
     "name": "stdout",
     "output_type": "stream",
     "text": [
      "[I 2024-05-28 23:07:04,480] Trial 44 finished with value: 0.5943007816628053 and parameters: {'subsample': 0.24397365412619393, 'eta': 0.09999999999999999, 'max_depth': 4, 'colsample_bytree': 0.6000000000000001, 'gamma': 0.9503667817226249}. Best is trial 24 with value: 0.5763222440881519.\n"
     ]
    },
    {
     "name": "stderr",
     "output_type": "stream",
     "text": [
      "Best trial: 24. Best value: 0.576322:  46%|███████████████████▊                       | 46/100 [07:53<05:29,  6.11s/it]"
     ]
    },
    {
     "name": "stdout",
     "output_type": "stream",
     "text": [
      "[I 2024-05-28 23:07:10,173] Trial 45 finished with value: 0.5980266984511653 and parameters: {'subsample': 0.3839948623256776, 'eta': 0.06999999999999999, 'max_depth': 5, 'colsample_bytree': 0.5, 'gamma': 0.8047727463939118}. Best is trial 24 with value: 0.5763222440881519.\n"
     ]
    },
    {
     "name": "stderr",
     "output_type": "stream",
     "text": [
      "Best trial: 24. Best value: 0.576322:  47%|████████████████████▏                      | 47/100 [07:59<05:25,  6.14s/it]"
     ]
    },
    {
     "name": "stdout",
     "output_type": "stream",
     "text": [
      "[I 2024-05-28 23:07:16,384] Trial 46 finished with value: 0.5813318702797202 and parameters: {'subsample': 0.30351875125551486, 'eta': 0.08, 'max_depth': 4, 'colsample_bytree': 0.6000000000000001, 'gamma': 0.9226132259344487}. Best is trial 24 with value: 0.5763222440881519.\n"
     ]
    },
    {
     "name": "stderr",
     "output_type": "stream",
     "text": [
      "Best trial: 24. Best value: 0.576322:  48%|████████████████████▋                      | 48/100 [08:05<05:21,  6.18s/it]"
     ]
    },
    {
     "name": "stdout",
     "output_type": "stream",
     "text": [
      "[I 2024-05-28 23:07:22,668] Trial 47 finished with value: 0.5960176527581137 and parameters: {'subsample': 0.2819471226053369, 'eta': 0.060000000000000005, 'max_depth': 2, 'colsample_bytree': 0.4, 'gamma': 0.9028999855461816}. Best is trial 24 with value: 0.5763222440881519.\n"
     ]
    },
    {
     "name": "stderr",
     "output_type": "stream",
     "text": [
      "Best trial: 24. Best value: 0.576322:  49%|█████████████████████                      | 49/100 [08:11<05:11,  6.10s/it]"
     ]
    },
    {
     "name": "stdout",
     "output_type": "stream",
     "text": [
      "[I 2024-05-28 23:07:28,572] Trial 48 finished with value: 0.5875103769675437 and parameters: {'subsample': 0.3554374397672474, 'eta': 0.09999999999999999, 'max_depth': 4, 'colsample_bytree': 0.5, 'gamma': 0.8349296717800349}. Best is trial 24 with value: 0.5763222440881519.\n"
     ]
    },
    {
     "name": "stderr",
     "output_type": "stream",
     "text": [
      "Best trial: 24. Best value: 0.576322:  50%|█████████████████████▌                     | 50/100 [08:16<04:44,  5.70s/it]"
     ]
    },
    {
     "name": "stdout",
     "output_type": "stream",
     "text": [
      "[I 2024-05-28 23:07:33,334] Trial 49 finished with value: 0.6005808485246709 and parameters: {'subsample': 0.24404010032959902, 'eta': 0.08, 'max_depth': 2, 'colsample_bytree': 0.30000000000000004, 'gamma': 0.7322714229717796}. Best is trial 24 with value: 0.5763222440881519.\n"
     ]
    },
    {
     "name": "stderr",
     "output_type": "stream",
     "text": [
      "Best trial: 24. Best value: 0.576322:  51%|█████████████████████▉                     | 51/100 [08:24<05:10,  6.34s/it]"
     ]
    },
    {
     "name": "stdout",
     "output_type": "stream",
     "text": [
      "[I 2024-05-28 23:07:41,168] Trial 50 finished with value: 0.5831613106558613 and parameters: {'subsample': 0.30601273134776896, 'eta': 0.06999999999999999, 'max_depth': 4, 'colsample_bytree': 0.6000000000000001, 'gamma': 0.7848654239278825}. Best is trial 24 with value: 0.5763222440881519.\n"
     ]
    },
    {
     "name": "stderr",
     "output_type": "stream",
     "text": [
      "Best trial: 24. Best value: 0.576322:  52%|██████████████████████▎                    | 52/100 [08:30<05:00,  6.26s/it]"
     ]
    },
    {
     "name": "stdout",
     "output_type": "stream",
     "text": [
      "[I 2024-05-28 23:07:47,240] Trial 51 finished with value: 0.5894657465237854 and parameters: {'subsample': 0.3165155427513408, 'eta': 0.09, 'max_depth': 4, 'colsample_bytree': 0.6000000000000001, 'gamma': 0.9280119650085339}. Best is trial 24 with value: 0.5763222440881519.\n"
     ]
    },
    {
     "name": "stderr",
     "output_type": "stream",
     "text": [
      "Best trial: 24. Best value: 0.576322:  53%|██████████████████████▊                    | 53/100 [08:34<04:27,  5.69s/it]"
     ]
    },
    {
     "name": "stdout",
     "output_type": "stream",
     "text": [
      "[I 2024-05-28 23:07:51,616] Trial 52 finished with value: 0.5796584528965363 and parameters: {'subsample': 0.33739029292678036, 'eta': 0.09999999999999999, 'max_depth': 4, 'colsample_bytree': 0.6000000000000001, 'gamma': 0.8737122796066502}. Best is trial 24 with value: 0.5763222440881519.\n"
     ]
    },
    {
     "name": "stderr",
     "output_type": "stream",
     "text": [
      "Best trial: 24. Best value: 0.576322:  54%|███████████████████████▏                   | 54/100 [08:39<04:09,  5.43s/it]"
     ]
    },
    {
     "name": "stdout",
     "output_type": "stream",
     "text": [
      "[I 2024-05-28 23:07:56,414] Trial 53 finished with value: 0.586973676941209 and parameters: {'subsample': 0.34525796792077657, 'eta': 0.09999999999999999, 'max_depth': 5, 'colsample_bytree': 0.5, 'gamma': 0.8367403690446336}. Best is trial 24 with value: 0.5763222440881519.\n"
     ]
    },
    {
     "name": "stderr",
     "output_type": "stream",
     "text": [
      "Best trial: 24. Best value: 0.576322:  55%|███████████████████████▋                   | 55/100 [08:44<03:59,  5.33s/it]"
     ]
    },
    {
     "name": "stdout",
     "output_type": "stream",
     "text": [
      "[I 2024-05-28 23:08:01,515] Trial 54 finished with value: 0.5990396290950045 and parameters: {'subsample': 0.3695251520955787, 'eta': 0.09999999999999999, 'max_depth': 4, 'colsample_bytree': 0.6000000000000001, 'gamma': 0.8950374384448654}. Best is trial 24 with value: 0.5763222440881519.\n"
     ]
    },
    {
     "name": "stderr",
     "output_type": "stream",
     "text": [
      "Best trial: 24. Best value: 0.576322:  56%|████████████████████████                   | 56/100 [08:48<03:37,  4.94s/it]"
     ]
    },
    {
     "name": "stdout",
     "output_type": "stream",
     "text": [
      "[I 2024-05-28 23:08:05,552] Trial 55 finished with value: 0.5877530470274497 and parameters: {'subsample': 0.27851504424019735, 'eta': 0.08, 'max_depth': 4, 'colsample_bytree': 0.5, 'gamma': 0.9928183860173541}. Best is trial 24 with value: 0.5763222440881519.\n"
     ]
    },
    {
     "name": "stderr",
     "output_type": "stream",
     "text": [
      "Best trial: 24. Best value: 0.576322:  57%|████████████████████████▌                  | 57/100 [08:55<03:55,  5.48s/it]"
     ]
    },
    {
     "name": "stdout",
     "output_type": "stream",
     "text": [
      "[I 2024-05-28 23:08:12,291] Trial 56 finished with value: 0.5923928314266537 and parameters: {'subsample': 0.37405267304359185, 'eta': 0.09, 'max_depth': 2, 'colsample_bytree': 0.4, 'gamma': 0.7152630788015322}. Best is trial 24 with value: 0.5763222440881519.\n"
     ]
    },
    {
     "name": "stderr",
     "output_type": "stream",
     "text": [
      "Best trial: 57. Best value: 0.563519:  58%|████████████████████████▉                  | 58/100 [08:59<03:34,  5.11s/it]"
     ]
    },
    {
     "name": "stdout",
     "output_type": "stream",
     "text": [
      "[I 2024-05-28 23:08:16,542] Trial 57 finished with value: 0.56351861745605 and parameters: {'subsample': 0.3310132690432152, 'eta': 0.09999999999999999, 'max_depth': 3, 'colsample_bytree': 0.6000000000000001, 'gamma': 0.8572399092445809}. Best is trial 57 with value: 0.56351861745605.\n"
     ]
    },
    {
     "name": "stderr",
     "output_type": "stream",
     "text": [
      "Best trial: 57. Best value: 0.563519:  59%|█████████████████████████▎                 | 59/100 [09:04<03:26,  5.05s/it]"
     ]
    },
    {
     "name": "stdout",
     "output_type": "stream",
     "text": [
      "[I 2024-05-28 23:08:21,442] Trial 58 finished with value: 0.5896643055022519 and parameters: {'subsample': 0.23508702847920498, 'eta': 0.09999999999999999, 'max_depth': 3, 'colsample_bytree': 0.7, 'gamma': 0.8713995550618657}. Best is trial 57 with value: 0.56351861745605.\n"
     ]
    },
    {
     "name": "stderr",
     "output_type": "stream",
     "text": [
      "Best trial: 57. Best value: 0.563519:  60%|█████████████████████████▊                 | 60/100 [09:08<03:10,  4.77s/it]"
     ]
    },
    {
     "name": "stdout",
     "output_type": "stream",
     "text": [
      "[I 2024-05-28 23:08:25,559] Trial 59 finished with value: 0.5884652574128214 and parameters: {'subsample': 0.2966341111051295, 'eta': 0.09999999999999999, 'max_depth': 2, 'colsample_bytree': 0.6000000000000001, 'gamma': 0.9716943810015475}. Best is trial 57 with value: 0.56351861745605.\n"
     ]
    },
    {
     "name": "stderr",
     "output_type": "stream",
     "text": [
      "Best trial: 57. Best value: 0.563519:  61%|██████████████████████████▏                | 61/100 [09:13<03:05,  4.74s/it]"
     ]
    },
    {
     "name": "stdout",
     "output_type": "stream",
     "text": [
      "[I 2024-05-28 23:08:30,248] Trial 60 finished with value: 0.5737549124515035 and parameters: {'subsample': 0.3252000602749968, 'eta': 0.09999999999999999, 'max_depth': 3, 'colsample_bytree': 0.5, 'gamma': 0.8284407541310232}. Best is trial 57 with value: 0.56351861745605.\n"
     ]
    },
    {
     "name": "stderr",
     "output_type": "stream",
     "text": [
      "Best trial: 57. Best value: 0.563519:  62%|██████████████████████████▋                | 62/100 [09:18<03:00,  4.76s/it]"
     ]
    },
    {
     "name": "stdout",
     "output_type": "stream",
     "text": [
      "[I 2024-05-28 23:08:35,028] Trial 61 finished with value: 0.5944339123500538 and parameters: {'subsample': 0.3353327368918997, 'eta': 0.09999999999999999, 'max_depth': 3, 'colsample_bytree': 0.5, 'gamma': 0.8258747460454782}. Best is trial 57 with value: 0.56351861745605.\n"
     ]
    },
    {
     "name": "stderr",
     "output_type": "stream",
     "text": [
      "Best trial: 57. Best value: 0.563519:  80%|██████████████████████████████████▍        | 80/100 [10:53<01:50,  5.51s/it]"
     ]
    },
    {
     "name": "stdout",
     "output_type": "stream",
     "text": [
      "[I 2024-05-28 23:10:10,947] Trial 79 finished with value: 0.5812970180941772 and parameters: {'subsample': 0.3365745893705886, 'eta': 0.09999999999999999, 'max_depth': 3, 'colsample_bytree': 0.7, 'gamma': 0.7229163042035974}. Best is trial 57 with value: 0.56351861745605.\n"
     ]
    },
    {
     "name": "stderr",
     "output_type": "stream",
     "text": [
      "Best trial: 57. Best value: 0.563519:  81%|██████████████████████████████████▊        | 81/100 [11:00<01:52,  5.93s/it]"
     ]
    },
    {
     "name": "stdout",
     "output_type": "stream",
     "text": [
      "[I 2024-05-28 23:10:17,863] Trial 80 finished with value: 0.5887924949780269 and parameters: {'subsample': 0.4158488453257122, 'eta': 0.08, 'max_depth': 3, 'colsample_bytree': 0.6000000000000001, 'gamma': 0.7812966658563723}. Best is trial 57 with value: 0.56351861745605.\n"
     ]
    },
    {
     "name": "stderr",
     "output_type": "stream",
     "text": [
      "Best trial: 57. Best value: 0.563519:  82%|███████████████████████████████████▎       | 82/100 [11:05<01:40,  5.60s/it]"
     ]
    },
    {
     "name": "stdout",
     "output_type": "stream",
     "text": [
      "[I 2024-05-28 23:10:22,698] Trial 81 finished with value: 0.5825936336583201 and parameters: {'subsample': 0.3580992065728351, 'eta': 0.09999999999999999, 'max_depth': 2, 'colsample_bytree': 0.5, 'gamma': 0.8164766234124856}. Best is trial 57 with value: 0.56351861745605.\n"
     ]
    },
    {
     "name": "stderr",
     "output_type": "stream",
     "text": [
      "Best trial: 57. Best value: 0.563519:  83%|███████████████████████████████████▋       | 83/100 [11:09<01:28,  5.18s/it]"
     ]
    },
    {
     "name": "stdout",
     "output_type": "stream",
     "text": [
      "[I 2024-05-28 23:10:26,885] Trial 82 finished with value: 0.5876257092921413 and parameters: {'subsample': 0.32258594756066056, 'eta': 0.09999999999999999, 'max_depth': 3, 'colsample_bytree': 0.5, 'gamma': 0.7527457720558207}. Best is trial 57 with value: 0.56351861745605.\n"
     ]
    },
    {
     "name": "stderr",
     "output_type": "stream",
     "text": [
      "Best trial: 57. Best value: 0.563519:  84%|████████████████████████████████████       | 84/100 [11:14<01:18,  4.91s/it]"
     ]
    },
    {
     "name": "stdout",
     "output_type": "stream",
     "text": [
      "[I 2024-05-28 23:10:31,182] Trial 83 finished with value: 0.5922692491983373 and parameters: {'subsample': 0.2904368293280208, 'eta': 0.09, 'max_depth': 2, 'colsample_bytree': 0.5, 'gamma': 0.7918037221983174}. Best is trial 57 with value: 0.56351861745605.\n"
     ]
    },
    {
     "name": "stderr",
     "output_type": "stream",
     "text": [
      "Best trial: 57. Best value: 0.563519:  85%|████████████████████████████████████▌      | 85/100 [11:19<01:13,  4.92s/it]"
     ]
    },
    {
     "name": "stdout",
     "output_type": "stream",
     "text": [
      "[I 2024-05-28 23:10:36,109] Trial 84 finished with value: 0.5886753270051618 and parameters: {'subsample': 0.34616480742529254, 'eta': 0.09999999999999999, 'max_depth': 3, 'colsample_bytree': 0.6000000000000001, 'gamma': 0.8436911815601353}. Best is trial 57 with value: 0.56351861745605.\n"
     ]
    },
    {
     "name": "stderr",
     "output_type": "stream",
     "text": [
      "Best trial: 57. Best value: 0.563519:  86%|████████████████████████████████████▉      | 86/100 [11:24<01:09,  4.94s/it]"
     ]
    },
    {
     "name": "stdout",
     "output_type": "stream",
     "text": [
      "[I 2024-05-28 23:10:41,101] Trial 85 finished with value: 0.5849961051973852 and parameters: {'subsample': 0.37786589542334076, 'eta': 0.09, 'max_depth': 3, 'colsample_bytree': 0.5, 'gamma': 0.8869196734446938}. Best is trial 57 with value: 0.56351861745605.\n"
     ]
    },
    {
     "name": "stderr",
     "output_type": "stream",
     "text": [
      "Best trial: 57. Best value: 0.563519:  87%|█████████████████████████████████████▍     | 87/100 [11:28<01:02,  4.81s/it]"
     ]
    },
    {
     "name": "stdout",
     "output_type": "stream",
     "text": [
      "[I 2024-05-28 23:10:45,600] Trial 86 finished with value: 0.5757425335708304 and parameters: {'subsample': 0.34084440267553306, 'eta': 0.09999999999999999, 'max_depth': 2, 'colsample_bytree': 0.5, 'gamma': 0.7724466020573392}. Best is trial 57 with value: 0.56351861745605.\n"
     ]
    },
    {
     "name": "stderr",
     "output_type": "stream",
     "text": [
      "Best trial: 57. Best value: 0.563519:  88%|█████████████████████████████████████▊     | 88/100 [11:34<01:00,  5.08s/it]"
     ]
    },
    {
     "name": "stdout",
     "output_type": "stream",
     "text": [
      "[I 2024-05-28 23:10:51,317] Trial 87 finished with value: 0.5790844859717333 and parameters: {'subsample': 0.3395674909987772, 'eta': 0.09999999999999999, 'max_depth': 2, 'colsample_bytree': 0.4, 'gamma': 0.6893956037961788}. Best is trial 57 with value: 0.56351861745605.\n"
     ]
    },
    {
     "name": "stderr",
     "output_type": "stream",
     "text": [
      "Best trial: 57. Best value: 0.563519:  89%|██████████████████████████████████████▎    | 89/100 [11:38<00:53,  4.88s/it]"
     ]
    },
    {
     "name": "stdout",
     "output_type": "stream",
     "text": [
      "[I 2024-05-28 23:10:55,727] Trial 88 finished with value: 0.5914205429562623 and parameters: {'subsample': 0.39337352728587216, 'eta': 0.09999999999999999, 'max_depth': 2, 'colsample_bytree': 0.4, 'gamma': 0.6756566876718788}. Best is trial 57 with value: 0.56351861745605.\n"
     ]
    },
    {
     "name": "stderr",
     "output_type": "stream",
     "text": [
      "Best trial: 57. Best value: 0.563519:  90%|██████████████████████████████████████▋    | 90/100 [11:45<00:53,  5.31s/it]"
     ]
    },
    {
     "name": "stdout",
     "output_type": "stream",
     "text": [
      "[I 2024-05-28 23:11:02,043] Trial 89 finished with value: 0.6031718805567294 and parameters: {'subsample': 0.31413511974119296, 'eta': 0.09, 'max_depth': 2, 'colsample_bytree': 0.30000000000000004, 'gamma': 0.7040965607230774}. Best is trial 57 with value: 0.56351861745605.\n"
     ]
    },
    {
     "name": "stderr",
     "output_type": "stream",
     "text": [
      "Best trial: 57. Best value: 0.563519:  91%|███████████████████████████████████████▏   | 91/100 [11:51<00:49,  5.54s/it]"
     ]
    },
    {
     "name": "stdout",
     "output_type": "stream",
     "text": [
      "[I 2024-05-28 23:11:08,108] Trial 90 finished with value: 0.5917920643531218 and parameters: {'subsample': 0.364423268917626, 'eta': 0.08, 'max_depth': 2, 'colsample_bytree': 0.4, 'gamma': 0.7338602413797909}. Best is trial 57 with value: 0.56351861745605.\n"
     ]
    },
    {
     "name": "stderr",
     "output_type": "stream",
     "text": [
      "Best trial: 57. Best value: 0.563519:  92%|███████████████████████████████████████▌   | 92/100 [11:58<00:48,  6.01s/it]"
     ]
    },
    {
     "name": "stdout",
     "output_type": "stream",
     "text": [
      "[I 2024-05-28 23:11:15,208] Trial 91 finished with value: 0.6022920207754858 and parameters: {'subsample': 0.34243787055393876, 'eta': 0.09999999999999999, 'max_depth': 1, 'colsample_bytree': 0.6000000000000001, 'gamma': 0.8198316686399412}. Best is trial 57 with value: 0.56351861745605.\n"
     ]
    },
    {
     "name": "stderr",
     "output_type": "stream",
     "text": [
      "Best trial: 57. Best value: 0.563519:  93%|███████████████████████████████████████▉   | 93/100 [12:03<00:39,  5.65s/it]"
     ]
    },
    {
     "name": "stdout",
     "output_type": "stream",
     "text": [
      "[I 2024-05-28 23:11:20,013] Trial 92 finished with value: 0.5903185129759536 and parameters: {'subsample': 0.327858838465752, 'eta': 0.09999999999999999, 'max_depth': 3, 'colsample_bytree': 0.5, 'gamma': 0.7727319039798474}. Best is trial 57 with value: 0.56351861745605.\n"
     ]
    },
    {
     "name": "stderr",
     "output_type": "stream",
     "text": [
      "Best trial: 57. Best value: 0.563519:  94%|████████████████████████████████████████▍  | 94/100 [12:07<00:31,  5.21s/it]"
     ]
    },
    {
     "name": "stdout",
     "output_type": "stream",
     "text": [
      "[I 2024-05-28 23:11:24,195] Trial 93 finished with value: 0.5878312563807097 and parameters: {'subsample': 0.29794031099385343, 'eta': 0.09999999999999999, 'max_depth': 2, 'colsample_bytree': 0.6000000000000001, 'gamma': 0.8353878359604532}. Best is trial 57 with value: 0.56351861745605.\n"
     ]
    },
    {
     "name": "stderr",
     "output_type": "stream",
     "text": [
      "Best trial: 57. Best value: 0.563519:  95%|████████████████████████████████████████▊  | 95/100 [12:11<00:24,  4.93s/it]"
     ]
    },
    {
     "name": "stdout",
     "output_type": "stream",
     "text": [
      "[I 2024-05-28 23:11:28,465] Trial 94 finished with value: 0.597997667423139 and parameters: {'subsample': 0.3754683688108833, 'eta': 0.09999999999999999, 'max_depth': 3, 'colsample_bytree': 0.5, 'gamma': 0.7962628634867532}. Best is trial 57 with value: 0.56351861745605.\n"
     ]
    },
    {
     "name": "stderr",
     "output_type": "stream",
     "text": [
      "Best trial: 57. Best value: 0.563519:  96%|█████████████████████████████████████████▎ | 96/100 [12:15<00:18,  4.58s/it]"
     ]
    },
    {
     "name": "stdout",
     "output_type": "stream",
     "text": [
      "[I 2024-05-28 23:11:32,243] Trial 95 finished with value: 0.6098686997846201 and parameters: {'subsample': 0.35237902706764146, 'eta': 0.09, 'max_depth': 2, 'colsample_bytree': 0.2, 'gamma': 0.760011952229319}. Best is trial 57 with value: 0.56351861745605.\n"
     ]
    },
    {
     "name": "stderr",
     "output_type": "stream",
     "text": [
      "Best trial: 57. Best value: 0.563519:  97%|█████████████████████████████████████████▋ | 97/100 [12:17<00:11,  3.99s/it]"
     ]
    },
    {
     "name": "stdout",
     "output_type": "stream",
     "text": [
      "[I 2024-05-28 23:11:34,869] Trial 96 finished with value: 0.5840562909828041 and parameters: {'subsample': 0.28406579129662385, 'eta': 0.09999999999999999, 'max_depth': 3, 'colsample_bytree': 0.7, 'gamma': 0.8683389835863958}. Best is trial 57 with value: 0.56351861745605.\n"
     ]
    },
    {
     "name": "stderr",
     "output_type": "stream",
     "text": [
      "Best trial: 57. Best value: 0.563519:  98%|██████████████████████████████████████████▏| 98/100 [12:20<00:07,  3.64s/it]"
     ]
    },
    {
     "name": "stdout",
     "output_type": "stream",
     "text": [
      "[I 2024-05-28 23:11:37,692] Trial 97 finished with value: 0.5795458015985787 and parameters: {'subsample': 0.3103065001431479, 'eta': 0.09, 'max_depth': 3, 'colsample_bytree': 0.4, 'gamma': 0.9208579043570202}. Best is trial 57 with value: 0.56351861745605.\n"
     ]
    },
    {
     "name": "stderr",
     "output_type": "stream",
     "text": [
      "Best trial: 57. Best value: 0.563519:  99%|██████████████████████████████████████████▌| 99/100 [12:34<00:06,  6.61s/it]"
     ]
    },
    {
     "name": "stdout",
     "output_type": "stream",
     "text": [
      "[I 2024-05-28 23:11:51,233] Trial 98 finished with value: 0.5947018034614461 and parameters: {'subsample': 0.30864166677523186, 'eta': 0.01, 'max_depth': 3, 'colsample_bytree': 0.4, 'gamma': 0.9265111528643146}. Best is trial 57 with value: 0.56351861745605.\n"
     ]
    },
    {
     "name": "stderr",
     "output_type": "stream",
     "text": [
      "Best trial: 57. Best value: 0.563519: 100%|██████████████████████████████████████████| 100/100 [12:37<00:00,  7.57s/it]"
     ]
    },
    {
     "name": "stdout",
     "output_type": "stream",
     "text": [
      "[I 2024-05-28 23:11:54,201] Trial 99 finished with value: 0.6013234316830294 and parameters: {'subsample': 0.2774026929378692, 'eta': 0.09, 'max_depth': 3, 'colsample_bytree': 0.30000000000000004, 'gamma': 0.9003852387014646}. Best is trial 57 with value: 0.56351861745605.\n",
      "\n",
      " \n",
      " best params:  {'subsample': 0.3310132690432152, 'eta': 0.09999999999999999, 'max_depth': 3, 'colsample_bytree': 0.6000000000000001, 'gamma': 0.8572399092445809} \n",
      " \n",
      " best score:  [0.56351861745605] \n",
      "\n"
     ]
    },
    {
     "name": "stderr",
     "output_type": "stream",
     "text": [
      "\n"
     ]
    }
   ],
   "source": [
    "xgb_best_params, xgb_best_mae = optimizer_optuna(n_trials=100, algo=\"TPE\", optuna_objective=xgb_objective,\n",
    "                                               data=data)"
   ]
  },
  {
   "cell_type": "code",
   "execution_count": 51,
   "id": "6fe7fe33",
   "metadata": {},
   "outputs": [],
   "source": [
    "val_ys, pre_ys = xgb_train(xgb_best_params, data, data2=None, Predict=False, Output=True)"
   ]
  },
  {
   "cell_type": "code",
   "execution_count": 52,
   "id": "3670b7fe",
   "metadata": {},
   "outputs": [
    {
     "name": "stdout",
     "output_type": "stream",
     "text": [
      "XGB_MAE: 0.30366529795027675\n",
      "XGB_MSE: 0.15263435588997473\n",
      "XGB_R2: 0.30442035059275396\n"
     ]
    }
   ],
   "source": [
    "# 导入机器学习包\n",
    "import sklearn.metrics as metrics\n",
    "xgb_val = [a for i in val_ys for a in i]\n",
    "xgb_pre = [a for i in pre_ys for a in i]\n",
    "xgb_val = np.array(xgb_val) * scaler.scale_[-1] + scaler.mean_[-1] \n",
    "xgb_pre = np.array(xgb_pre) * scaler.scale_[-1] + scaler.mean_[-1] \n",
    "# 计算MAE，MSE和R2\n",
    "xgb_mae = metrics.mean_absolute_error(xgb_val, xgb_pre)\n",
    "xgb_mse = metrics.mean_squared_error(xgb_val, xgb_pre)\n",
    "xgb_r2 = metrics.r2_score(xgb_val, xgb_pre)\n",
    "\n",
    "# 打印结果\n",
    "print(\"XGB_MAE:\", xgb_mae)\n",
    "print(\"XGB_MSE:\", xgb_mse)\n",
    "print(\"XGB_R2:\", xgb_r2)"
   ]
  },
  {
   "cell_type": "code",
   "execution_count": 53,
   "id": "ee8f31e0",
   "metadata": {},
   "outputs": [],
   "source": [
    "XGB_pre_data = pd.concat((pd.DataFrame(xgb_val),pd.DataFrame(xgb_pre)),axis = 1)\n",
    "XGB_pre_data.columns = [\"XGB_Actual\",\"XGB_Predict\"]\n",
    "XGB_pre_data.to_excel(\"XGB_pre_data.xlsx\",index =False)"
   ]
  },
  {
   "cell_type": "markdown",
   "id": "43c7585a",
   "metadata": {},
   "source": [
    "# 神经网络"
   ]
  },
  {
   "cell_type": "code",
   "execution_count": 78,
   "id": "cda6ae6d",
   "metadata": {},
   "outputs": [],
   "source": [
    "import torch\n",
    "import torch.nn as nn\n",
    "import torch.optim as optim\n",
    "import time\n",
    "import pandas as pd\n",
    "import copy\n",
    "import numpy as np\n",
    "device = torch.device('cuda' if torch.cuda.is_available() else 'cpu')\n",
    "\n",
    "# 搭建全连接神经网络回归\n",
    "class MLPregression(nn.Module):\n",
    "    def __init__(self, params, data):\n",
    "        super(MLPregression, self).__init__()\n",
    "        self.layber_number = params[\"layber_number\"]\n",
    "        self.unit = params[\"unit\"]\n",
    "        # 第一个隐含层\n",
    "        self.hidden1 = nn.Linear(in_features=data.shape[-1]-1, out_features=self.unit, bias=True)\n",
    "        # 第二个隐含层\n",
    "        self.hidden2 = nn.Linear(self.unit, self.unit)\n",
    "        # 第三个隐含层\n",
    "        self.hidden3 = nn.Linear(128, 256)\n",
    "        # 回归预测层\n",
    "        self.hidden5 = nn.Linear(self.unit, 64)\n",
    "        self.predict = nn.Linear(64, 1)\n",
    "        self.relu = nn.functional.relu\n",
    "        self.dropout = nn.Dropout(params[\"drop_out\"])\n",
    "\n",
    "    # 定义网络前向传播路径\n",
    "    def forward(self, x):\n",
    "        x = self.relu(self.hidden1(x))\n",
    "        for i in range(self.layber_number):\n",
    "            x = self.dropout(self.relu(self.hidden2(x)))\n",
    "        x = self.dropout(self.relu(self.hidden5(x)))\n",
    "        output = self.predict(x)\n",
    "        # 输出一个一维向量\n",
    "        return output[:, 0]"
   ]
  },
  {
   "cell_type": "code",
   "execution_count": 79,
   "id": "ce002ab7",
   "metadata": {},
   "outputs": [],
   "source": [
    "class FastTensorDataLoader:\n",
    "    \"\"\"\n",
    "    A DataLoader-like object for a set of tensors that can be much faster than\n",
    "    TensorDataset + DataLoader because dataloader grabs individual indices of\n",
    "    the dataset and calls cat (slow).\n",
    "    Source: https://discuss.pytorch.org/t/dataloader-much-slower-than-manual-batching/27014/6\n",
    "    \"\"\"\n",
    "    def __init__(self, *tensors, batch_size=32, shuffle=False):\n",
    "        \"\"\"\n",
    "        Initialize a FastTensorDataLoader.\n",
    "        :param *tensors: tensors to store. Must have the same length @ dim 0.\n",
    "        :param batch_size: batch size to load.\n",
    "        :param shuffle: if True, shuffle the data *in-place* whenever an\n",
    "            iterator is created out of this object.\n",
    "        :returns: A FastTensorDataLoader.\n",
    "        \"\"\"\n",
    "        assert all(t.shape[0] == tensors[0].shape[0] for t in tensors)\n",
    "        self.tensors = tensors\n",
    "\n",
    "        self.dataset_len = self.tensors[0].shape[0]\n",
    "        self.batch_size = batch_size\n",
    "        self.shuffle = shuffle\n",
    "\n",
    "        # Calculate # batches\n",
    "        n_batches, remainder = divmod(self.dataset_len, self.batch_size)\n",
    "        if remainder > 0:\n",
    "            n_batches += 1\n",
    "        self.n_batches = n_batches\n",
    "    def __iter__(self):\n",
    "        if self.shuffle:\n",
    "            r = torch.randperm(self.dataset_len)\n",
    "            self.tensors = [t[r] for t in self.tensors]\n",
    "        self.i = 0\n",
    "        return self\n",
    "\n",
    "    def __next__(self):\n",
    "        if self.i >= self.dataset_len:\n",
    "            raise StopIteration\n",
    "        batch = tuple(t[self.i:self.i+self.batch_size] for t in self.tensors)\n",
    "        self.i += self.batch_size\n",
    "        return batch\n",
    "\n",
    "    def __len__(self):\n",
    "        return self.n_batches"
   ]
  },
  {
   "cell_type": "code",
   "execution_count": 80,
   "id": "e4682225",
   "metadata": {},
   "outputs": [],
   "source": [
    "def train_model(params, model, dataloaders, criterion, optimizer, num_epochs, i, savebest=False,Output=False):\n",
    "    since = time.time()\n",
    "    best_loss = 10000000\n",
    "    model.to(device)\n",
    "    train_losses = []\n",
    "    valid_losses = []\n",
    "\n",
    "    for epoch in range(num_epochs):\n",
    "\n",
    "        # 训练和验证\n",
    "        for phase in ['train', 'valid']:\n",
    "            if phase == 'train':\n",
    "                model.train()  # 训练\n",
    "            else:\n",
    "                model.eval()  # 验证\n",
    "\n",
    "            running_loss = 0.0\n",
    "            running_corrects = 0\n",
    "\n",
    "            # 把数据都取个遍\n",
    "            for inputs, labels in dataloaders[phase]:\n",
    "\n",
    "                inputs = inputs.to(device)\n",
    "                labels = labels.to(device)\n",
    "                # 清零\n",
    "                optimizer.zero_grad()\n",
    "                # 只有训练的时候计算和更新梯度\n",
    "\n",
    "                with torch.set_grad_enabled(phase == 'train'):\n",
    "                    outputs = model(inputs)\n",
    "                    #                     print(outputs.shape, labels.shape)\n",
    "                    loss = criterion(outputs, labels)\n",
    "                    #                     print(\"loss为：\",loss)\n",
    "                    # 训练阶段更新权重\n",
    "                    if phase == 'train':\n",
    "                        loss.backward()\n",
    "                        optimizer.step()\n",
    "\n",
    "                #                 计算损失\n",
    "\n",
    "                running_loss += loss.item() * inputs.size(0)\n",
    "            epoch_loss = running_loss / dataloaders[phase].dataset_len\n",
    "            #             print(epoch_loss)\n",
    "            time_elapsed = time.time() - since\n",
    "            #             print('Time elapsed {:.0f}m {:.0f}s'.format(time_elapsed // 60, time_elapsed % 60))\n",
    "            #             print('{} Loss: {:.4f} Acc: {:.4f}'.format(phase, epoch_loss, epoch_acc))\n",
    "\n",
    "            # 得到最好那次的模型\n",
    "            if phase == 'valid' and epoch_loss < best_loss:\n",
    "                best_loss = epoch_loss\n",
    "#                 print(best_loss)\n",
    "#                 print(outputs[0],labels[0])\n",
    "                if savebest is True:\n",
    "                    best_model_wts = copy.deepcopy(model.state_dict())\n",
    "                    state = {\n",
    "                        'state_dict': model.state_dict(),  # 字典里key就是各层的名字，值就是训练好的权重\n",
    "                        'best_loss': best_loss,\n",
    "                        'optimizer': optimizer.state_dict(),  # 优化器的状态信息\n",
    "                    }\n",
    "                    filename = './NN_best' + str(i) + '.pth'\n",
    "                    torch.save(state, filename)\n",
    "                    inputs_list = []\n",
    "                    labels_list = []\n",
    "                    for inputs, labels in dataloaders[phase]:\n",
    "                        inputs = inputs.to(device)\n",
    "                        labels = labels.to(device)\n",
    "                        inputs_list.append(inputs)\n",
    "                        labels_list.append(labels)\n",
    "                    final_inputs = torch.cat(inputs_list, dim=0)\n",
    "                    final_labels = torch.cat(labels_list, dim=0)\n",
    "                    pre_y = model(final_inputs)\n",
    "                    val_y = final_labels\n",
    "\n",
    "                    \n",
    "            if phase == 'valid':\n",
    "                valid_losses.append(epoch_loss)\n",
    "            #                 scheduler.step(epoch_loss)#学习率衰减\n",
    "            if phase == 'train':\n",
    "                train_losses.append(epoch_loss)\n",
    "\n",
    "    if savebest is True:\n",
    "        return train_losses, valid_losses, best_loss, pre_y,val_y\n",
    "    else:\n",
    "        return best_loss"
   ]
  },
  {
   "cell_type": "code",
   "execution_count": 81,
   "id": "dbd93199",
   "metadata": {},
   "outputs": [],
   "source": [
    "def model_cross_train(params, data, savebest=False):\n",
    "    x = data[:, :-1]\n",
    "    y = data[:, -1:]\n",
    "    loss = []\n",
    "    skf = KFold(n_splits=5, shuffle=True, random_state=42)\n",
    "    train_losses = []\n",
    "    valid_losses = []\n",
    "    val_ys = []\n",
    "    pre_ys = []\n",
    "    for i, (trn_idx, val_idx) in enumerate(skf.split(x, y)):\n",
    "        trn_x, trn_y = x[trn_idx], y[trn_idx]\n",
    "        val_x, val_y = x[val_idx], y[val_idx]\n",
    "#         print(f\"val is {len(val_y)}\")\n",
    "        # 将数据集转为张量\n",
    "        X_train_t = torch.from_numpy(trn_x.astype(np.float32))\n",
    "        y_train_t = torch.from_numpy(trn_y.squeeze().astype(np.float32))\n",
    "        X_valid_t = torch.from_numpy(val_x.astype(np.float32))\n",
    "        y_valid_t = torch.from_numpy(val_y.squeeze().astype(np.float32))\n",
    "\n",
    "        # 将训练数据处理为数据加载器\n",
    "        #         train_data = Data.TensorDataset(X_train_t, y_train_t)\n",
    "        #         valid_data = Data.TensorDataset(X_valid_t, y_valid_t)\n",
    "\n",
    "        #         train_loader = Data.DataLoader(dataset = train_data, batch_size = params['batch_size'],\n",
    "        #                                        shuffle = True, num_workers = 1)\n",
    "        #         val_loader = Data.DataLoader(dataset = valid_data, batch_size = params['batch_size'],\n",
    "        #                                        shuffle = True, num_workers = 1)\n",
    "        train_loader = FastTensorDataLoader(X_train_t, y_train_t, batch_size=params['batch_size'],\n",
    "                                            shuffle=True)\n",
    "        val_loader = FastTensorDataLoader(X_valid_t, y_valid_t, batch_size=params['batch_size'],\n",
    "                                          shuffle=True)\n",
    "        # 实例化\n",
    "        model = MLPregression(params, data)\n",
    "        # 损失函数\n",
    "        criterion = torch.nn.L1Loss()\n",
    "        # 优化器设置\n",
    "        optimizer_ft = optim.Adam(model.parameters(), lr=params[\"lr\"])\n",
    "        # scheduler = optim.lr_scheduler.StepLR(optimizer_ft, step_size=7, gamma=0.1)#学习率每7个epoch衰减成原来的1/1\n",
    "        # 数据加载器\n",
    "        dataloaders = {'train': train_loader, 'valid': val_loader}\n",
    "        \n",
    "        if savebest is True:\n",
    "            train_loss, valid_loss, best_loss, pre_y,act_y = train_model(params, model, dataloaders, criterion, optimizer_ft,\n",
    "                                                            num_epochs=100, i=i, savebest=True)\n",
    "            train_losses.append(train_loss)\n",
    "            valid_losses.append(valid_loss)\n",
    "            loss.append(best_loss)\n",
    "            val_ys.append(act_y)\n",
    "            pre_ys.append(pre_y)\n",
    "        else:\n",
    "            best_loss = train_model(params, model, dataloaders, criterion, optimizer_ft, num_epochs=100, i=i)\n",
    "            loss.append(best_loss)\n",
    "\n",
    "    if savebest is True:\n",
    "        return train_losses, valid_losses, loss,val_ys,pre_ys\n",
    "    else:\n",
    "        return np.array(loss).mean()\n",
    "\n",
    "\n",
    "def model_objective(trial, data):\n",
    "    params = {\n",
    "          'lr': trial.suggest_float(\"lr\", 1e-5, 1e-2),\n",
    "          'batch_size': trial.suggest_int(\"batch_size\", 16,128,16),\n",
    "          'drop_out':trial.suggest_float(\"drop_out\", 0, 0.2),\n",
    "          'unit': trial.suggest_int(\"unit\", 16, 128,16),\n",
    "          'layber_number':trial.suggest_int(\"layber_number\", 1, 16,1)\n",
    "          }\n",
    "    loss = model_cross_train(params, data)\n",
    "    return loss"
   ]
  },
  {
   "cell_type": "code",
   "execution_count": 82,
   "id": "5942a4f5",
   "metadata": {},
   "outputs": [],
   "source": [
    "def data_generator(f_path, seed=42): \n",
    "    df_all = pd.read_excel(f_path)\n",
    "    #create a min max processing object\n",
    "    composition = df_all.iloc[:,:-1]\n",
    "    scaler = preprocessing.StandardScaler().fit(composition)\n",
    "    normalized_composition = scaler.transform(composition)\n",
    "    \n",
    "    return normalized_composition"
   ]
  },
  {
   "cell_type": "code",
   "execution_count": 72,
   "id": "56257b4b",
   "metadata": {},
   "outputs": [],
   "source": [
    "file_path = \"./BIC筛选后特征数据集.xlsx\"\n",
    "# file_path = \"./原始数据2.xlsx\"\n",
    "test_x = data_generator(file_path, seed=42)\n",
    "label = np.array(pd.read_excel(file_path)[\"Y\"]).reshape(-1,1)\n",
    "data =np.hstack((test_x,label))"
   ]
  },
  {
   "cell_type": "code",
   "execution_count": 83,
   "id": "6729c15f",
   "metadata": {},
   "outputs": [],
   "source": [
    "# file_path = \"./BIC筛选后特征数据集.xlsx\"\n",
    "# data = pd.read_excel(path).fillna(0)"
   ]
  },
  {
   "cell_type": "code",
   "execution_count": 84,
   "id": "17f85b64",
   "metadata": {},
   "outputs": [],
   "source": [
    "data = np.array(aa)"
   ]
  },
  {
   "cell_type": "code",
   "execution_count": 85,
   "id": "5a562bc5",
   "metadata": {},
   "outputs": [
    {
     "name": "stderr",
     "output_type": "stream",
     "text": [
      "[I 2024-05-29 10:29:15,011] A new study created in memory with name: no-name-34eacffe-3c07-467d-888d-5ad47e706702\n",
      "Best trial: 0. Best value: 0.708384:   1%|▍                                            | 1/100 [00:04<07:18,  4.42s/it]"
     ]
    },
    {
     "name": "stdout",
     "output_type": "stream",
     "text": [
      "[I 2024-05-29 10:29:19,435] Trial 0 finished with value: 0.7083837389945984 and parameters: {'lr': 0.00618714213928684, 'batch_size': 96, 'drop_out': 0.007483762696852559, 'unit': 112, 'layber_number': 5}. Best is trial 0 with value: 0.7083837389945984.\n"
     ]
    },
    {
     "name": "stderr",
     "output_type": "stream",
     "text": [
      "Best trial: 1. Best value: 0.69061:   2%|▉                                             | 2/100 [00:10<08:26,  5.17s/it]"
     ]
    },
    {
     "name": "stdout",
     "output_type": "stream",
     "text": [
      "[I 2024-05-29 10:29:25,119] Trial 1 finished with value: 0.690609872341156 and parameters: {'lr': 0.004822170403328864, 'batch_size': 48, 'drop_out': 0.17207605315118482, 'unit': 32, 'layber_number': 1}. Best is trial 1 with value: 0.690609872341156.\n"
     ]
    },
    {
     "name": "stderr",
     "output_type": "stream",
     "text": [
      "Best trial: 1. Best value: 0.69061:   3%|█▍                                            | 3/100 [00:16<09:24,  5.81s/it]"
     ]
    },
    {
     "name": "stdout",
     "output_type": "stream",
     "text": [
      "[I 2024-05-29 10:29:31,708] Trial 2 finished with value: 0.7379931688308716 and parameters: {'lr': 0.002362844117152042, 'batch_size': 96, 'drop_out': 0.18703549296701438, 'unit': 32, 'layber_number': 12}. Best is trial 1 with value: 0.690609872341156.\n"
     ]
    },
    {
     "name": "stderr",
     "output_type": "stream",
     "text": [
      "Best trial: 3. Best value: 0.687754:   4%|█▊                                           | 4/100 [00:22<09:32,  5.97s/it]"
     ]
    },
    {
     "name": "stdout",
     "output_type": "stream",
     "text": [
      "[I 2024-05-29 10:29:37,906] Trial 3 finished with value: 0.6877538144588471 and parameters: {'lr': 0.0032679844807181973, 'batch_size': 64, 'drop_out': 0.10850796806005909, 'unit': 112, 'layber_number': 3}. Best is trial 3 with value: 0.6877538144588471.\n"
     ]
    },
    {
     "name": "stderr",
     "output_type": "stream",
     "text": [
      "Best trial: 3. Best value: 0.687754:   5%|██▎                                          | 5/100 [00:32<11:25,  7.22s/it]"
     ]
    },
    {
     "name": "stdout",
     "output_type": "stream",
     "text": [
      "[I 2024-05-29 10:29:47,346] Trial 4 finished with value: 0.699465024471283 and parameters: {'lr': 0.009676491676815224, 'batch_size': 48, 'drop_out': 0.12497893865964833, 'unit': 32, 'layber_number': 9}. Best is trial 3 with value: 0.6877538144588471.\n"
     ]
    },
    {
     "name": "stderr",
     "output_type": "stream",
     "text": [
      "Best trial: 3. Best value: 0.687754:   6%|██▋                                          | 6/100 [00:39<11:07,  7.10s/it]"
     ]
    },
    {
     "name": "stdout",
     "output_type": "stream",
     "text": [
      "[I 2024-05-29 10:29:54,211] Trial 5 finished with value: 0.6944739699363709 and parameters: {'lr': 0.004931511876369232, 'batch_size': 48, 'drop_out': 0.049817573455613176, 'unit': 112, 'layber_number': 4}. Best is trial 3 with value: 0.6877538144588471.\n"
     ]
    },
    {
     "name": "stderr",
     "output_type": "stream",
     "text": [
      "Best trial: 3. Best value: 0.687754:   7%|███▏                                         | 7/100 [00:43<09:39,  6.24s/it]"
     ]
    },
    {
     "name": "stdout",
     "output_type": "stream",
     "text": [
      "[I 2024-05-29 10:29:58,672] Trial 6 finished with value: 0.7328054666519165 and parameters: {'lr': 0.0015510760594209191, 'batch_size': 112, 'drop_out': 0.19393119455746988, 'unit': 32, 'layber_number': 6}. Best is trial 3 with value: 0.6877538144588471.\n"
     ]
    },
    {
     "name": "stderr",
     "output_type": "stream",
     "text": [
      "Best trial: 3. Best value: 0.687754:   8%|███▌                                         | 8/100 [01:00<14:46,  9.63s/it]"
     ]
    },
    {
     "name": "stdout",
     "output_type": "stream",
     "text": [
      "[I 2024-05-29 10:30:15,579] Trial 7 finished with value: 0.7522632241249084 and parameters: {'lr': 0.006454603213864301, 'batch_size': 32, 'drop_out': 0.010127543708680298, 'unit': 80, 'layber_number': 16}. Best is trial 3 with value: 0.6877538144588471.\n"
     ]
    },
    {
     "name": "stderr",
     "output_type": "stream",
     "text": [
      "Best trial: 3. Best value: 0.687754:   9%|████                                         | 9/100 [01:08<13:46,  9.08s/it]"
     ]
    },
    {
     "name": "stdout",
     "output_type": "stream",
     "text": [
      "[I 2024-05-29 10:30:23,436] Trial 8 finished with value: 0.701831042766571 and parameters: {'lr': 0.005511104693773071, 'batch_size': 32, 'drop_out': 0.1102010020723663, 'unit': 96, 'layber_number': 1}. Best is trial 3 with value: 0.6877538144588471.\n"
     ]
    },
    {
     "name": "stderr",
     "output_type": "stream",
     "text": [
      "Best trial: 3. Best value: 0.687754:  10%|████▍                                       | 10/100 [01:16<13:20,  8.90s/it]"
     ]
    },
    {
     "name": "stdout",
     "output_type": "stream",
     "text": [
      "[I 2024-05-29 10:30:31,932] Trial 9 finished with value: 0.69256032705307 and parameters: {'lr': 0.007984531492527874, 'batch_size': 80, 'drop_out': 0.05442440166361145, 'unit': 96, 'layber_number': 7}. Best is trial 3 with value: 0.6877538144588471.\n"
     ]
    },
    {
     "name": "stderr",
     "output_type": "stream",
     "text": [
      "Best trial: 3. Best value: 0.687754:  11%|████▊                                       | 11/100 [01:22<11:38,  7.85s/it]"
     ]
    },
    {
     "name": "stdout",
     "output_type": "stream",
     "text": [
      "[I 2024-05-29 10:30:37,417] Trial 10 finished with value: 0.7225352883338928 and parameters: {'lr': 0.0004953919652409115, 'batch_size': 128, 'drop_out': 0.1416948173014011, 'unit': 128, 'layber_number': 10}. Best is trial 3 with value: 0.6877538144588471.\n"
     ]
    },
    {
     "name": "stderr",
     "output_type": "stream",
     "text": [
      "Best trial: 3. Best value: 0.687754:  12%|█████▎                                      | 12/100 [01:27<10:20,  7.06s/it]"
     ]
    },
    {
     "name": "stdout",
     "output_type": "stream",
     "text": [
      "[I 2024-05-29 10:30:42,649] Trial 11 finished with value: 0.6934937834739685 and parameters: {'lr': 0.003073949236891012, 'batch_size': 64, 'drop_out': 0.152403206168226, 'unit': 64, 'layber_number': 1}. Best is trial 3 with value: 0.6877538144588471.\n"
     ]
    },
    {
     "name": "stderr",
     "output_type": "stream",
     "text": [
      "Best trial: 3. Best value: 0.687754:  13%|█████▋                                      | 13/100 [01:45<15:02, 10.37s/it]"
     ]
    },
    {
     "name": "stdout",
     "output_type": "stream",
     "text": [
      "[I 2024-05-29 10:31:00,657] Trial 12 finished with value: 0.6935237352398859 and parameters: {'lr': 0.003517848067836289, 'batch_size': 16, 'drop_out': 0.16107738654241444, 'unit': 64, 'layber_number': 3}. Best is trial 3 with value: 0.6877538144588471.\n"
     ]
    },
    {
     "name": "stderr",
     "output_type": "stream",
     "text": [
      "Best trial: 3. Best value: 0.687754:  14%|██████▏                                     | 14/100 [01:52<13:13,  9.23s/it]"
     ]
    },
    {
     "name": "stdout",
     "output_type": "stream",
     "text": [
      "[I 2024-05-29 10:31:07,254] Trial 13 finished with value: 0.7053135752677917 and parameters: {'lr': 0.004138857698028537, 'batch_size': 64, 'drop_out': 0.09245616948617774, 'unit': 16, 'layber_number': 3}. Best is trial 3 with value: 0.6877538144588471.\n"
     ]
    },
    {
     "name": "stderr",
     "output_type": "stream",
     "text": [
      "Best trial: 3. Best value: 0.687754:  15%|██████▌                                     | 15/100 [01:57<11:25,  8.06s/it]"
     ]
    },
    {
     "name": "stdout",
     "output_type": "stream",
     "text": [
      "[I 2024-05-29 10:31:12,609] Trial 14 finished with value: 0.7109173178672791 and parameters: {'lr': 0.004234800538518751, 'batch_size': 80, 'drop_out': 0.17084591386208103, 'unit': 64, 'layber_number': 1}. Best is trial 3 with value: 0.6877538144588471.\n"
     ]
    },
    {
     "name": "stderr",
     "output_type": "stream",
     "text": [
      "Best trial: 3. Best value: 0.687754:  16%|███████                                     | 16/100 [02:04<10:39,  7.62s/it]"
     ]
    },
    {
     "name": "stdout",
     "output_type": "stream",
     "text": [
      "[I 2024-05-29 10:31:19,184] Trial 15 finished with value: 0.7091914892196656 and parameters: {'lr': 0.002243439551700057, 'batch_size': 48, 'drop_out': 0.1309896344752114, 'unit': 48, 'layber_number': 3}. Best is trial 3 with value: 0.6877538144588471.\n"
     ]
    },
    {
     "name": "stderr",
     "output_type": "stream",
     "text": [
      "Best trial: 3. Best value: 0.687754:  17%|███████▍                                    | 17/100 [02:27<17:08, 12.39s/it]"
     ]
    },
    {
     "name": "stdout",
     "output_type": "stream",
     "text": [
      "[I 2024-05-29 10:31:42,685] Trial 16 finished with value: 0.6978443087874979 and parameters: {'lr': 0.0001862208762223594, 'batch_size': 16, 'drop_out': 0.19941129455797638, 'unit': 128, 'layber_number': 7}. Best is trial 3 with value: 0.6877538144588471.\n"
     ]
    },
    {
     "name": "stderr",
     "output_type": "stream",
     "text": [
      "Best trial: 3. Best value: 0.687754:  18%|███████▉                                    | 18/100 [02:38<16:08, 11.81s/it]"
     ]
    },
    {
     "name": "stdout",
     "output_type": "stream",
     "text": [
      "[I 2024-05-29 10:31:53,145] Trial 17 finished with value: 0.7496828556060791 and parameters: {'lr': 0.0033807039025996713, 'batch_size': 64, 'drop_out': 0.17189367948386963, 'unit': 16, 'layber_number': 12}. Best is trial 3 with value: 0.6877538144588471.\n"
     ]
    },
    {
     "name": "stderr",
     "output_type": "stream",
     "text": [
      "Best trial: 3. Best value: 0.687754:  19%|████████▎                                   | 19/100 [02:48<15:29, 11.47s/it]"
     ]
    },
    {
     "name": "stdout",
     "output_type": "stream",
     "text": [
      "[I 2024-05-29 10:32:03,836] Trial 18 finished with value: 0.6940773546695709 and parameters: {'lr': 0.0047325341763420035, 'batch_size': 32, 'drop_out': 0.09778139057820125, 'unit': 80, 'layber_number': 5}. Best is trial 3 with value: 0.6877538144588471.\n"
     ]
    },
    {
     "name": "stderr",
     "output_type": "stream",
     "text": [
      "Best trial: 3. Best value: 0.687754:  20%|████████▊                                   | 20/100 [02:52<12:06,  9.08s/it]"
     ]
    },
    {
     "name": "stdout",
     "output_type": "stream",
     "text": [
      "[I 2024-05-29 10:32:07,338] Trial 19 finished with value: 0.6951748371124268 and parameters: {'lr': 0.006250497490563554, 'batch_size': 96, 'drop_out': 0.14512480163108737, 'unit': 48, 'layber_number': 2}. Best is trial 3 with value: 0.6877538144588471.\n"
     ]
    },
    {
     "name": "stderr",
     "output_type": "stream",
     "text": [
      "Best trial: 3. Best value: 0.687754:  21%|█████████▏                                  | 21/100 [02:59<11:10,  8.49s/it]"
     ]
    },
    {
     "name": "stdout",
     "output_type": "stream",
     "text": [
      "[I 2024-05-29 10:32:14,440] Trial 20 finished with value: 0.7181211709976196 and parameters: {'lr': 0.0011653346688054846, 'batch_size': 80, 'drop_out': 0.12234920118168409, 'unit': 96, 'layber_number': 4}. Best is trial 3 with value: 0.6877538144588471.\n"
     ]
    },
    {
     "name": "stderr",
     "output_type": "stream",
     "text": [
      "Best trial: 21. Best value: 0.666785:  22%|█████████▍                                 | 22/100 [03:07<10:48,  8.31s/it]"
     ]
    },
    {
     "name": "stdout",
     "output_type": "stream",
     "text": [
      "[I 2024-05-29 10:32:22,353] Trial 21 finished with value: 0.6667849063873291 and parameters: {'lr': 0.006973488405746631, 'batch_size': 80, 'drop_out': 0.07794952490190764, 'unit': 96, 'layber_number': 7}. Best is trial 21 with value: 0.6667849063873291.\n"
     ]
    },
    {
     "name": "stderr",
     "output_type": "stream",
     "text": [
      "Best trial: 21. Best value: 0.666785:  23%|█████████▉                                 | 23/100 [03:15<10:26,  8.14s/it]"
     ]
    },
    {
     "name": "stdout",
     "output_type": "stream",
     "text": [
      "[I 2024-05-29 10:32:30,092] Trial 22 finished with value: 0.6804694533348083 and parameters: {'lr': 0.007138342923309134, 'batch_size': 64, 'drop_out': 0.08715644683332334, 'unit': 112, 'layber_number': 7}. Best is trial 21 with value: 0.6667849063873291.\n"
     ]
    },
    {
     "name": "stderr",
     "output_type": "stream",
     "text": [
      "Best trial: 21. Best value: 0.666785:  24%|██████████▎                                | 24/100 [03:23<10:21,  8.17s/it]"
     ]
    },
    {
     "name": "stdout",
     "output_type": "stream",
     "text": [
      "[I 2024-05-29 10:32:38,337] Trial 23 finished with value: 0.7024620652198792 and parameters: {'lr': 0.007870108683697752, 'batch_size': 64, 'drop_out': 0.08014929064711683, 'unit': 112, 'layber_number': 8}. Best is trial 21 with value: 0.6667849063873291.\n"
     ]
    },
    {
     "name": "stderr",
     "output_type": "stream",
     "text": [
      "Best trial: 21. Best value: 0.666785:  25%|██████████▊                                | 25/100 [03:32<10:28,  8.38s/it]"
     ]
    },
    {
     "name": "stdout",
     "output_type": "stream",
     "text": [
      "[I 2024-05-29 10:32:47,202] Trial 24 finished with value: 0.7040129423141479 and parameters: {'lr': 0.00742287183519013, 'batch_size': 80, 'drop_out': 0.08057366372113361, 'unit': 112, 'layber_number': 10}. Best is trial 21 with value: 0.6667849063873291.\n"
     ]
    },
    {
     "name": "stderr",
     "output_type": "stream",
     "text": [
      "Best trial: 25. Best value: 0.666138:  26%|███████████▏                               | 26/100 [03:36<08:53,  7.21s/it]"
     ]
    },
    {
     "name": "stdout",
     "output_type": "stream",
     "text": [
      "[I 2024-05-29 10:32:51,696] Trial 25 finished with value: 0.6661379098892212 and parameters: {'lr': 0.007156471530404851, 'batch_size': 112, 'drop_out': 0.10996054323699268, 'unit': 128, 'layber_number': 6}. Best is trial 25 with value: 0.6661379098892212.\n"
     ]
    },
    {
     "name": "stderr",
     "output_type": "stream",
     "text": [
      "Best trial: 25. Best value: 0.666138:  27%|███████████▌                               | 27/100 [03:40<07:42,  6.33s/it]"
     ]
    },
    {
     "name": "stdout",
     "output_type": "stream",
     "text": [
      "[I 2024-05-29 10:32:55,968] Trial 26 finished with value: 0.6909260272979736 and parameters: {'lr': 0.007380980898316626, 'batch_size': 128, 'drop_out': 0.07013117992964113, 'unit': 128, 'layber_number': 7}. Best is trial 25 with value: 0.6661379098892212.\n"
     ]
    },
    {
     "name": "stderr",
     "output_type": "stream",
     "text": [
      "Best trial: 25. Best value: 0.666138:  28%|████████████                               | 28/100 [03:45<07:03,  5.88s/it]"
     ]
    },
    {
     "name": "stdout",
     "output_type": "stream",
     "text": [
      "[I 2024-05-29 10:33:00,808] Trial 27 finished with value: 0.7019587397575379 and parameters: {'lr': 0.008821377605128182, 'batch_size': 112, 'drop_out': 0.10730812776263071, 'unit': 96, 'layber_number': 9}. Best is trial 25 with value: 0.6661379098892212.\n"
     ]
    },
    {
     "name": "stderr",
     "output_type": "stream",
     "text": [
      "Best trial: 25. Best value: 0.666138:  29%|████████████▍                              | 29/100 [03:51<06:54,  5.84s/it]"
     ]
    },
    {
     "name": "stdout",
     "output_type": "stream",
     "text": [
      "[I 2024-05-29 10:33:06,536] Trial 28 finished with value: 0.7245021998882294 and parameters: {'lr': 0.007000211073958505, 'batch_size': 112, 'drop_out': 0.08706375016172353, 'unit': 128, 'layber_number': 12}. Best is trial 25 with value: 0.6661379098892212.\n"
     ]
    },
    {
     "name": "stderr",
     "output_type": "stream",
     "text": [
      "Best trial: 25. Best value: 0.666138:  30%|████████████▉                              | 30/100 [03:55<06:18,  5.41s/it]"
     ]
    },
    {
     "name": "stdout",
     "output_type": "stream",
     "text": [
      "[I 2024-05-29 10:33:10,963] Trial 29 finished with value: 0.6998399138450623 and parameters: {'lr': 0.005709383681709514, 'batch_size': 96, 'drop_out': 0.06431904357313378, 'unit': 80, 'layber_number': 5}. Best is trial 25 with value: 0.6661379098892212.\n"
     ]
    },
    {
     "name": "stderr",
     "output_type": "stream",
     "text": [
      "Best trial: 25. Best value: 0.666138:  31%|█████████████▎                             | 31/100 [04:00<05:47,  5.04s/it]"
     ]
    },
    {
     "name": "stdout",
     "output_type": "stream",
     "text": [
      "[I 2024-05-29 10:33:15,130] Trial 30 finished with value: 0.6914897799491883 and parameters: {'lr': 0.006567199619457077, 'batch_size': 112, 'drop_out': 0.09673501395906103, 'unit': 96, 'layber_number': 6}. Best is trial 25 with value: 0.6661379098892212.\n"
     ]
    },
    {
     "name": "stderr",
     "output_type": "stream",
     "text": [
      "Best trial: 31. Best value: 0.663388:  32%|█████████████▊                             | 32/100 [04:07<06:24,  5.65s/it]"
     ]
    },
    {
     "name": "stdout",
     "output_type": "stream",
     "text": [
      "[I 2024-05-29 10:33:22,209] Trial 31 finished with value: 0.6633878469467163 and parameters: {'lr': 0.0056992376272101295, 'batch_size': 64, 'drop_out': 0.1168705604957444, 'unit': 112, 'layber_number': 6}. Best is trial 31 with value: 0.6633878469467163.\n"
     ]
    },
    {
     "name": "stderr",
     "output_type": "stream",
     "text": [
      "Best trial: 31. Best value: 0.663388:  33%|██████████████▏                            | 33/100 [04:14<06:53,  6.18s/it]"
     ]
    },
    {
     "name": "stdout",
     "output_type": "stream",
     "text": [
      "[I 2024-05-29 10:33:29,607] Trial 32 finished with value: 0.7122946381568909 and parameters: {'lr': 0.005763919078454614, 'batch_size': 80, 'drop_out': 0.11660623578943961, 'unit': 112, 'layber_number': 6}. Best is trial 31 with value: 0.6633878469467163.\n"
     ]
    },
    {
     "name": "stderr",
     "output_type": "stream",
     "text": [
      "Best trial: 31. Best value: 0.663388:  34%|██████████████▌                            | 34/100 [04:19<06:21,  5.78s/it]"
     ]
    },
    {
     "name": "stdout",
     "output_type": "stream",
     "text": [
      "[I 2024-05-29 10:33:34,476] Trial 33 finished with value: 0.6769400358200073 and parameters: {'lr': 0.006771398486921585, 'batch_size': 96, 'drop_out': 0.13074806367645433, 'unit': 128, 'layber_number': 8}. Best is trial 31 with value: 0.6633878469467163.\n"
     ]
    },
    {
     "name": "stderr",
     "output_type": "stream",
     "text": [
      "Best trial: 31. Best value: 0.663388:  35%|███████████████                            | 35/100 [04:24<05:57,  5.51s/it]"
     ]
    },
    {
     "name": "stdout",
     "output_type": "stream",
     "text": [
      "[I 2024-05-29 10:33:39,332] Trial 34 finished with value: 0.6977850317955017 and parameters: {'lr': 0.006035997738674542, 'batch_size': 96, 'drop_out': 0.12921683822139413, 'unit': 128, 'layber_number': 8}. Best is trial 31 with value: 0.6633878469467163.\n"
     ]
    },
    {
     "name": "stderr",
     "output_type": "stream",
     "text": [
      "Best trial: 31. Best value: 0.663388:  36%|███████████████▍                           | 36/100 [04:29<05:52,  5.51s/it]"
     ]
    },
    {
     "name": "stdout",
     "output_type": "stream",
     "text": [
      "[I 2024-05-29 10:33:44,854] Trial 35 finished with value: 0.7005322515964508 and parameters: {'lr': 0.006723895903421755, 'batch_size': 96, 'drop_out': 0.10563229857215974, 'unit': 128, 'layber_number': 10}. Best is trial 31 with value: 0.6633878469467163.\n"
     ]
    },
    {
     "name": "stderr",
     "output_type": "stream",
     "text": [
      "Best trial: 31. Best value: 0.663388:  37%|███████████████▉                           | 37/100 [04:35<05:53,  5.62s/it]"
     ]
    },
    {
     "name": "stdout",
     "output_type": "stream",
     "text": [
      "[I 2024-05-29 10:33:50,714] Trial 36 finished with value: 0.7097219944000244 and parameters: {'lr': 0.005238628233672571, 'batch_size': 128, 'drop_out': 0.13320888336800896, 'unit': 112, 'layber_number': 11}. Best is trial 31 with value: 0.6633878469467163.\n"
     ]
    },
    {
     "name": "stderr",
     "output_type": "stream",
     "text": [
      "Best trial: 37. Best value: 0.662948:  38%|████████████████▎                          | 38/100 [04:40<05:31,  5.34s/it]"
     ]
    },
    {
     "name": "stdout",
     "output_type": "stream",
     "text": [
      "[I 2024-05-29 10:33:55,427] Trial 37 finished with value: 0.6629477560520172 and parameters: {'lr': 0.006210726989117638, 'batch_size': 112, 'drop_out': 0.11603137094157531, 'unit': 112, 'layber_number': 8}. Best is trial 37 with value: 0.6629477560520172.\n"
     ]
    },
    {
     "name": "stderr",
     "output_type": "stream",
     "text": [
      "Best trial: 37. Best value: 0.662948:  39%|████████████████▊                          | 39/100 [04:44<05:03,  4.98s/it]"
     ]
    },
    {
     "name": "stdout",
     "output_type": "stream",
     "text": [
      "[I 2024-05-29 10:33:59,553] Trial 38 finished with value: 0.6941345930099487 and parameters: {'lr': 0.005211890424444521, 'batch_size': 112, 'drop_out': 0.11590321805203711, 'unit': 96, 'layber_number': 5}. Best is trial 37 with value: 0.6629477560520172.\n"
     ]
    },
    {
     "name": "stderr",
     "output_type": "stream",
     "text": [
      "Best trial: 37. Best value: 0.662948:  40%|█████████████████▏                         | 40/100 [04:49<04:57,  4.96s/it]"
     ]
    },
    {
     "name": "stdout",
     "output_type": "stream",
     "text": [
      "[I 2024-05-29 10:34:04,468] Trial 39 finished with value: 0.7034412980079651 and parameters: {'lr': 0.006251802862085213, 'batch_size': 128, 'drop_out': 0.10263576702255922, 'unit': 112, 'layber_number': 9}. Best is trial 37 with value: 0.6629477560520172.\n"
     ]
    },
    {
     "name": "stderr",
     "output_type": "stream",
     "text": [
      "Best trial: 37. Best value: 0.662948:  41%|█████████████████▋                         | 41/100 [04:56<05:26,  5.54s/it]"
     ]
    },
    {
     "name": "stdout",
     "output_type": "stream",
     "text": [
      "[I 2024-05-29 10:34:11,355] Trial 40 finished with value: 0.6867891609668731 and parameters: {'lr': 0.006047635337260755, 'batch_size': 48, 'drop_out': 0.11328341074317522, 'unit': 112, 'layber_number': 6}. Best is trial 37 with value: 0.6629477560520172.\n"
     ]
    },
    {
     "name": "stderr",
     "output_type": "stream",
     "text": [
      "Best trial: 37. Best value: 0.662948:  42%|██████████████████                         | 42/100 [05:01<05:07,  5.29s/it]"
     ]
    },
    {
     "name": "stdout",
     "output_type": "stream",
     "text": [
      "[I 2024-05-29 10:34:16,075] Trial 41 finished with value: 0.6903562664985656 and parameters: {'lr': 0.006830371075484326, 'batch_size': 112, 'drop_out': 0.12248518979405278, 'unit': 128, 'layber_number': 8}. Best is trial 37 with value: 0.6629477560520172.\n"
     ]
    },
    {
     "name": "stderr",
     "output_type": "stream",
     "text": [
      "Best trial: 37. Best value: 0.662948:  43%|██████████████████▍                        | 43/100 [05:07<05:17,  5.57s/it]"
     ]
    },
    {
     "name": "stdout",
     "output_type": "stream",
     "text": [
      "[I 2024-05-29 10:34:22,283] Trial 42 finished with value: 0.7356091260910034 and parameters: {'lr': 0.007899333238345827, 'batch_size': 96, 'drop_out': 0.11993699827894733, 'unit': 128, 'layber_number': 14}. Best is trial 37 with value: 0.6629477560520172.\n"
     ]
    },
    {
     "name": "stderr",
     "output_type": "stream",
     "text": [
      "Best trial: 37. Best value: 0.662948:  44%|██████████████████▉                        | 44/100 [05:10<04:40,  5.01s/it]"
     ]
    },
    {
     "name": "stdout",
     "output_type": "stream",
     "text": [
      "[I 2024-05-29 10:34:26,001] Trial 43 finished with value: 0.6912841677665711 and parameters: {'lr': 0.0065681676508635295, 'batch_size': 96, 'drop_out': 0.1402844998105372, 'unit': 128, 'layber_number': 4}. Best is trial 37 with value: 0.6629477560520172.\n"
     ]
    },
    {
     "name": "stderr",
     "output_type": "stream",
     "text": [
      "Best trial: 37. Best value: 0.662948:  45%|███████████████████▎                       | 45/100 [05:15<04:25,  4.82s/it]"
     ]
    },
    {
     "name": "stdout",
     "output_type": "stream",
     "text": [
      "[I 2024-05-29 10:34:30,372] Trial 44 finished with value: 0.6762634456157685 and parameters: {'lr': 0.0057791166142830116, 'batch_size': 112, 'drop_out': 0.10458322154128404, 'unit': 96, 'layber_number': 7}. Best is trial 37 with value: 0.6629477560520172.\n"
     ]
    },
    {
     "name": "stderr",
     "output_type": "stream",
     "text": [
      "Best trial: 37. Best value: 0.662948:  46%|███████████████████▊                       | 46/100 [05:19<04:09,  4.62s/it]"
     ]
    },
    {
     "name": "stdout",
     "output_type": "stream",
     "text": [
      "[I 2024-05-29 10:34:34,533] Trial 45 finished with value: 0.7155541777610779 and parameters: {'lr': 0.005450447211515342, 'batch_size': 128, 'drop_out': 0.10584462728138715, 'unit': 80, 'layber_number': 7}. Best is trial 37 with value: 0.6629477560520172.\n"
     ]
    },
    {
     "name": "stderr",
     "output_type": "stream",
     "text": [
      "Best trial: 37. Best value: 0.662948:  47%|████████████████████▏                      | 47/100 [05:24<04:05,  4.63s/it]"
     ]
    },
    {
     "name": "stdout",
     "output_type": "stream",
     "text": [
      "[I 2024-05-29 10:34:39,171] Trial 46 finished with value: 0.6927982568740845 and parameters: {'lr': 0.004755515934024238, 'batch_size': 112, 'drop_out': 0.09774134656880795, 'unit': 96, 'layber_number': 9}. Best is trial 37 with value: 0.6629477560520172.\n"
     ]
    },
    {
     "name": "stderr",
     "output_type": "stream",
     "text": [
      "Best trial: 37. Best value: 0.662948:  48%|████████████████████▋                      | 48/100 [05:28<03:56,  4.54s/it]"
     ]
    },
    {
     "name": "stdout",
     "output_type": "stream",
     "text": [
      "[I 2024-05-29 10:34:43,504] Trial 47 finished with value: 0.71160409450531 and parameters: {'lr': 0.005802976627906108, 'batch_size': 112, 'drop_out': 0.09100687664508474, 'unit': 112, 'layber_number': 6}. Best is trial 37 with value: 0.6629477560520172.\n"
     ]
    },
    {
     "name": "stderr",
     "output_type": "stream",
     "text": [
      "Best trial: 37. Best value: 0.662948:  49%|█████████████████████                      | 49/100 [05:35<04:27,  5.25s/it]"
     ]
    },
    {
     "name": "stdout",
     "output_type": "stream",
     "text": [
      "[I 2024-05-29 10:34:50,404] Trial 48 finished with value: 0.689962637424469 and parameters: {'lr': 0.006342247613535733, 'batch_size': 80, 'drop_out': 0.11411710350025212, 'unit': 96, 'layber_number': 5}. Best is trial 37 with value: 0.6629477560520172.\n"
     ]
    },
    {
     "name": "stderr",
     "output_type": "stream",
     "text": [
      "Best trial: 37. Best value: 0.662948:  50%|█████████████████████▌                     | 50/100 [05:39<04:06,  4.94s/it]"
     ]
    },
    {
     "name": "stdout",
     "output_type": "stream",
     "text": [
      "[I 2024-05-29 10:34:54,626] Trial 49 finished with value: 0.7203373670578003 and parameters: {'lr': 0.005468482476404267, 'batch_size': 128, 'drop_out': 0.10158938320283237, 'unit': 80, 'layber_number': 6}. Best is trial 37 with value: 0.6629477560520172.\n"
     ]
    },
    {
     "name": "stderr",
     "output_type": "stream",
     "text": [
      "Best trial: 37. Best value: 0.662948:  51%|█████████████████████▉                     | 51/100 [05:47<04:50,  5.92s/it]"
     ]
    },
    {
     "name": "stdout",
     "output_type": "stream",
     "text": [
      "[I 2024-05-29 10:35:02,839] Trial 50 finished with value: 0.6737888872623443 and parameters: {'lr': 0.008504185585443714, 'batch_size': 48, 'drop_out': 0.11101914952850513, 'unit': 112, 'layber_number': 7}. Best is trial 37 with value: 0.6629477560520172.\n"
     ]
    },
    {
     "name": "stderr",
     "output_type": "stream",
     "text": [
      "Best trial: 37. Best value: 0.662948:  52%|██████████████████████▎                    | 52/100 [05:56<05:20,  6.68s/it]"
     ]
    },
    {
     "name": "stdout",
     "output_type": "stream",
     "text": [
      "[I 2024-05-29 10:35:11,273] Trial 51 finished with value: 0.6718473613262177 and parameters: {'lr': 0.008582347314620395, 'batch_size': 48, 'drop_out': 0.12404721965963358, 'unit': 112, 'layber_number': 7}. Best is trial 37 with value: 0.6629477560520172.\n"
     ]
    },
    {
     "name": "stderr",
     "output_type": "stream",
     "text": [
      "Best trial: 37. Best value: 0.662948:  53%|██████████████████████▊                    | 53/100 [06:08<06:34,  8.40s/it]"
     ]
    },
    {
     "name": "stdout",
     "output_type": "stream",
     "text": [
      "[I 2024-05-29 10:35:23,691] Trial 52 finished with value: 0.6725072920322418 and parameters: {'lr': 0.009021244586906304, 'batch_size': 32, 'drop_out': 0.1245453368349615, 'unit': 112, 'layber_number': 8}. Best is trial 37 with value: 0.6629477560520172.\n"
     ]
    },
    {
     "name": "stderr",
     "output_type": "stream",
     "text": [
      "Best trial: 37. Best value: 0.662948:  54%|███████████████████████▏                   | 54/100 [06:18<06:47,  8.85s/it]"
     ]
    },
    {
     "name": "stdout",
     "output_type": "stream",
     "text": [
      "[I 2024-05-29 10:35:33,595] Trial 53 finished with value: 0.6786864161491394 and parameters: {'lr': 0.009715710714615331, 'batch_size': 32, 'drop_out': 0.13768605810458381, 'unit': 112, 'layber_number': 4}. Best is trial 37 with value: 0.6629477560520172.\n"
     ]
    },
    {
     "name": "stderr",
     "output_type": "stream",
     "text": [
      "Best trial: 37. Best value: 0.662948:  55%|███████████████████████▋                   | 55/100 [06:31<07:38, 10.20s/it]"
     ]
    },
    {
     "name": "stdout",
     "output_type": "stream",
     "text": [
      "[I 2024-05-29 10:35:46,938] Trial 54 finished with value: 0.6905529022216796 and parameters: {'lr': 0.009094559154933625, 'batch_size': 32, 'drop_out': 0.12420209887572796, 'unit': 112, 'layber_number': 8}. Best is trial 37 with value: 0.6629477560520172.\n"
     ]
    },
    {
     "name": "stderr",
     "output_type": "stream",
     "text": [
      "Best trial: 37. Best value: 0.662948:  56%|████████████████████████                   | 56/100 [06:41<07:24, 10.11s/it]"
     ]
    },
    {
     "name": "stdout",
     "output_type": "stream",
     "text": [
      "[I 2024-05-29 10:35:56,836] Trial 55 finished with value: 0.7144361078739166 and parameters: {'lr': 0.008357175007657196, 'batch_size': 48, 'drop_out': 0.14948782278347209, 'unit': 112, 'layber_number': 10}. Best is trial 37 with value: 0.6629477560520172.\n"
     ]
    },
    {
     "name": "stderr",
     "output_type": "stream",
     "text": [
      "Best trial: 37. Best value: 0.662948:  57%|████████████████████████▌                  | 57/100 [06:54<07:49, 10.92s/it]"
     ]
    },
    {
     "name": "stdout",
     "output_type": "stream",
     "text": [
      "[I 2024-05-29 10:36:09,668] Trial 56 finished with value: 0.7058918833732605 and parameters: {'lr': 0.009208830642290871, 'batch_size': 32, 'drop_out': 0.12908590689479382, 'unit': 96, 'layber_number': 9}. Best is trial 37 with value: 0.6629477560520172.\n"
     ]
    },
    {
     "name": "stderr",
     "output_type": "stream",
     "text": [
      "Best trial: 37. Best value: 0.662948:  58%|████████████████████████▉                  | 58/100 [07:02<06:57,  9.95s/it]"
     ]
    },
    {
     "name": "stdout",
     "output_type": "stream",
     "text": [
      "[I 2024-05-29 10:36:17,334] Trial 57 finished with value: 0.6942145347595214 and parameters: {'lr': 0.009943798131545774, 'batch_size': 48, 'drop_out': 0.13533080243098336, 'unit': 112, 'layber_number': 6}. Best is trial 37 with value: 0.6629477560520172.\n"
     ]
    },
    {
     "name": "stderr",
     "output_type": "stream",
     "text": [
      "Best trial: 37. Best value: 0.662948:  59%|█████████████████████████▎                 | 59/100 [07:27<09:54, 14.51s/it]"
     ]
    },
    {
     "name": "stdout",
     "output_type": "stream",
     "text": [
      "[I 2024-05-29 10:36:42,483] Trial 58 finished with value: 0.6980901686177737 and parameters: {'lr': 0.007536669782001337, 'batch_size': 16, 'drop_out': 0.15725899059932325, 'unit': 128, 'layber_number': 7}. Best is trial 37 with value: 0.6629477560520172.\n"
     ]
    },
    {
     "name": "stderr",
     "output_type": "stream",
     "text": [
      "Best trial: 37. Best value: 0.662948:  60%|█████████████████████████▊                 | 60/100 [07:36<08:39, 12.99s/it]"
     ]
    },
    {
     "name": "stdout",
     "output_type": "stream",
     "text": [
      "[I 2024-05-29 10:36:51,916] Trial 59 finished with value: 0.6991457998752594 and parameters: {'lr': 0.0076450834959452185, 'batch_size': 64, 'drop_out': 0.14211689952582007, 'unit': 96, 'layber_number': 8}. Best is trial 37 with value: 0.6629477560520172.\n"
     ]
    },
    {
     "name": "stderr",
     "output_type": "stream",
     "text": [
      "Best trial: 37. Best value: 0.662948:  61%|██████████████████████████▏                | 61/100 [07:50<08:38, 13.30s/it]"
     ]
    },
    {
     "name": "stdout",
     "output_type": "stream",
     "text": [
      "[I 2024-05-29 10:37:05,938] Trial 60 finished with value: 0.720500385761261 and parameters: {'lr': 0.007130555657136363, 'batch_size': 32, 'drop_out': 0.12061953293075704, 'unit': 112, 'layber_number': 11}. Best is trial 37 with value: 0.6629477560520172.\n"
     ]
    },
    {
     "name": "stderr",
     "output_type": "stream",
     "text": [
      "Best trial: 37. Best value: 0.662948:  62%|██████████████████████████▋                | 62/100 [07:58<07:16, 11.49s/it]"
     ]
    },
    {
     "name": "stdout",
     "output_type": "stream",
     "text": [
      "[I 2024-05-29 10:37:13,209] Trial 61 finished with value: 0.6797284603118896 and parameters: {'lr': 0.008332605719249668, 'batch_size': 48, 'drop_out': 0.11192997934823938, 'unit': 112, 'layber_number': 7}. Best is trial 37 with value: 0.6629477560520172.\n"
     ]
    },
    {
     "name": "stderr",
     "output_type": "stream",
     "text": [
      "Best trial: 37. Best value: 0.662948:  63%|███████████████████████████                | 63/100 [08:06<06:25, 10.41s/it]"
     ]
    },
    {
     "name": "stdout",
     "output_type": "stream",
     "text": [
      "[I 2024-05-29 10:37:21,094] Trial 62 finished with value: 0.6705788552761078 and parameters: {'lr': 0.00843846705562615, 'batch_size': 48, 'drop_out': 0.11742907002226567, 'unit': 112, 'layber_number': 7}. Best is trial 37 with value: 0.6629477560520172.\n"
     ]
    },
    {
     "name": "stderr",
     "output_type": "stream",
     "text": [
      "Best trial: 37. Best value: 0.662948:  64%|███████████████████████████▌               | 64/100 [08:13<05:38,  9.41s/it]"
     ]
    },
    {
     "name": "stdout",
     "output_type": "stream",
     "text": [
      "[I 2024-05-29 10:37:28,190] Trial 63 finished with value: 0.6902864694595336 and parameters: {'lr': 0.00790229781369694, 'batch_size': 64, 'drop_out': 0.1246330126685089, 'unit': 128, 'layber_number': 5}. Best is trial 37 with value: 0.6629477560520172.\n"
     ]
    },
    {
     "name": "stderr",
     "output_type": "stream",
     "text": [
      "Best trial: 37. Best value: 0.662948:  65%|███████████████████████████▉               | 65/100 [08:22<05:24,  9.26s/it]"
     ]
    },
    {
     "name": "stdout",
     "output_type": "stream",
     "text": [
      "[I 2024-05-29 10:37:37,094] Trial 64 finished with value: 0.6849658012390136 and parameters: {'lr': 0.0093438652917117, 'batch_size': 48, 'drop_out': 0.14794723915996075, 'unit': 112, 'layber_number': 8}. Best is trial 37 with value: 0.6629477560520172.\n"
     ]
    },
    {
     "name": "stderr",
     "output_type": "stream",
     "text": [
      "Best trial: 37. Best value: 0.662948:  66%|████████████████████████████▍              | 66/100 [08:30<05:04,  8.96s/it]"
     ]
    },
    {
     "name": "stdout",
     "output_type": "stream",
     "text": [
      "[I 2024-05-29 10:37:45,353] Trial 65 finished with value: 0.6973051130771637 and parameters: {'lr': 0.008676045393336556, 'batch_size': 64, 'drop_out': 0.1277458614274694, 'unit': 128, 'layber_number': 7}. Best is trial 37 with value: 0.6629477560520172.\n"
     ]
    },
    {
     "name": "stderr",
     "output_type": "stream",
     "text": [
      "Best trial: 37. Best value: 0.662948:  67%|████████████████████████████▊              | 67/100 [08:43<05:32, 10.08s/it]"
     ]
    },
    {
     "name": "stdout",
     "output_type": "stream",
     "text": [
      "[I 2024-05-29 10:37:58,037] Trial 66 finished with value: 0.7112478494644165 and parameters: {'lr': 0.008116253454548208, 'batch_size': 32, 'drop_out': 0.11762216754723065, 'unit': 96, 'layber_number': 9}. Best is trial 37 with value: 0.6629477560520172.\n"
     ]
    },
    {
     "name": "stderr",
     "output_type": "stream",
     "text": [
      "Best trial: 37. Best value: 0.662948:  68%|█████████████████████████████▏             | 68/100 [09:06<07:29, 14.05s/it]"
     ]
    },
    {
     "name": "stdout",
     "output_type": "stream",
     "text": [
      "[I 2024-05-29 10:38:21,364] Trial 67 finished with value: 0.6967095186744912 and parameters: {'lr': 0.00718846183136355, 'batch_size': 16, 'drop_out': 0.1363056705326439, 'unit': 112, 'layber_number': 6}. Best is trial 37 with value: 0.6629477560520172.\n"
     ]
    },
    {
     "name": "stderr",
     "output_type": "stream",
     "text": [
      "Best trial: 37. Best value: 0.662948:  69%|█████████████████████████████▋             | 69/100 [09:13<06:15, 12.12s/it]"
     ]
    },
    {
     "name": "stdout",
     "output_type": "stream",
     "text": [
      "[I 2024-05-29 10:38:28,986] Trial 68 finished with value: 0.6995537161827088 and parameters: {'lr': 0.008669033800551364, 'batch_size': 48, 'drop_out': 0.1092683809728358, 'unit': 48, 'layber_number': 6}. Best is trial 37 with value: 0.6629477560520172.\n"
     ]
    },
    {
     "name": "stderr",
     "output_type": "stream",
     "text": [
      "Best trial: 37. Best value: 0.662948:  70%|██████████████████████████████             | 70/100 [09:21<05:19, 10.64s/it]"
     ]
    },
    {
     "name": "stdout",
     "output_type": "stream",
     "text": [
      "[I 2024-05-29 10:38:36,171] Trial 69 finished with value: 0.6716724753379821 and parameters: {'lr': 0.007675612035152883, 'batch_size': 80, 'drop_out': 0.09432389394545705, 'unit': 128, 'layber_number': 5}. Best is trial 37 with value: 0.6629477560520172.\n"
     ]
    },
    {
     "name": "stderr",
     "output_type": "stream",
     "text": [
      "Best trial: 37. Best value: 0.662948:  71%|██████████████████████████████▌            | 71/100 [09:28<04:38,  9.60s/it]"
     ]
    },
    {
     "name": "stdout",
     "output_type": "stream",
     "text": [
      "[I 2024-05-29 10:38:43,338] Trial 70 finished with value: 0.6889074504375458 and parameters: {'lr': 0.007496118491154192, 'batch_size': 80, 'drop_out': 0.09091919745146526, 'unit': 128, 'layber_number': 5}. Best is trial 37 with value: 0.6629477560520172.\n"
     ]
    },
    {
     "name": "stderr",
     "output_type": "stream",
     "text": [
      "Best trial: 71. Best value: 0.656059:  72%|██████████████████████████████▉            | 72/100 [09:37<04:22,  9.36s/it]"
     ]
    },
    {
     "name": "stdout",
     "output_type": "stream",
     "text": [
      "[I 2024-05-29 10:38:52,141] Trial 71 finished with value: 0.6560588479042053 and parameters: {'lr': 0.008190696772301592, 'batch_size': 80, 'drop_out': 0.09486115704544952, 'unit': 128, 'layber_number': 8}. Best is trial 71 with value: 0.6560588479042053.\n"
     ]
    },
    {
     "name": "stderr",
     "output_type": "stream",
     "text": [
      "Best trial: 71. Best value: 0.656059:  73%|███████████████████████████████▍           | 73/100 [09:43<03:50,  8.55s/it]"
     ]
    },
    {
     "name": "stdout",
     "output_type": "stream",
     "text": [
      "[I 2024-05-29 10:38:58,814] Trial 72 finished with value: 0.6780655682086945 and parameters: {'lr': 0.006952735512339339, 'batch_size': 80, 'drop_out': 0.09890673717098333, 'unit': 128, 'layber_number': 4}. Best is trial 71 with value: 0.6560588479042053.\n"
     ]
    },
    {
     "name": "stderr",
     "output_type": "stream",
     "text": [
      "Best trial: 71. Best value: 0.656059:  74%|███████████████████████████████▊           | 74/100 [09:51<03:34,  8.25s/it]"
     ]
    },
    {
     "name": "stdout",
     "output_type": "stream",
     "text": [
      "[I 2024-05-29 10:39:06,367] Trial 73 finished with value: 0.6893660426139832 and parameters: {'lr': 0.008093816511257767, 'batch_size': 80, 'drop_out': 0.08449705029087089, 'unit': 128, 'layber_number': 5}. Best is trial 71 with value: 0.6560588479042053.\n"
     ]
    },
    {
     "name": "stderr",
     "output_type": "stream",
     "text": [
      "Best trial: 71. Best value: 0.656059:  75%|████████████████████████████████▎          | 75/100 [09:58<03:14,  7.80s/it]"
     ]
    },
    {
     "name": "stdout",
     "output_type": "stream",
     "text": [
      "[I 2024-05-29 10:39:13,097] Trial 74 finished with value: 0.6909120261669159 and parameters: {'lr': 0.007670669863496035, 'batch_size': 64, 'drop_out': 0.08171785445858963, 'unit': 128, 'layber_number': 3}. Best is trial 71 with value: 0.6560588479042053.\n"
     ]
    },
    {
     "name": "stderr",
     "output_type": "stream",
     "text": [
      "Best trial: 71. Best value: 0.656059:  76%|████████████████████████████████▋          | 76/100 [10:05<03:05,  7.71s/it]"
     ]
    },
    {
     "name": "stdout",
     "output_type": "stream",
     "text": [
      "[I 2024-05-29 10:39:20,607] Trial 75 finished with value: 0.7061919033527374 and parameters: {'lr': 0.00822906877707904, 'batch_size': 64, 'drop_out': 0.09508160517102066, 'unit': 128, 'layber_number': 6}. Best is trial 71 with value: 0.6560588479042053.\n"
     ]
    },
    {
     "name": "stderr",
     "output_type": "stream",
     "text": [
      "Best trial: 71. Best value: 0.656059:  77%|█████████████████████████████████          | 77/100 [10:17<03:29,  9.09s/it]"
     ]
    },
    {
     "name": "stdout",
     "output_type": "stream",
     "text": [
      "[I 2024-05-29 10:39:32,924] Trial 76 finished with value: 0.7464908123016357 and parameters: {'lr': 0.0073896521200414655, 'batch_size': 80, 'drop_out': 0.10140900974853273, 'unit': 128, 'layber_number': 16}. Best is trial 71 with value: 0.6560588479042053.\n"
     ]
    },
    {
     "name": "stderr",
     "output_type": "stream",
     "text": [
      "Best trial: 71. Best value: 0.656059:  78%|█████████████████████████████████▌         | 78/100 [10:22<02:51,  7.79s/it]"
     ]
    },
    {
     "name": "stdout",
     "output_type": "stream",
     "text": [
      "[I 2024-05-29 10:39:37,666] Trial 77 finished with value: 0.6773437142372132 and parameters: {'lr': 0.006751218868551502, 'batch_size': 96, 'drop_out': 0.10923483101787103, 'unit': 112, 'layber_number': 7}. Best is trial 71 with value: 0.6560588479042053.\n"
     ]
    },
    {
     "name": "stderr",
     "output_type": "stream",
     "text": [
      "Best trial: 71. Best value: 0.656059:  79%|█████████████████████████████████▉         | 79/100 [10:30<02:41,  7.68s/it]"
     ]
    },
    {
     "name": "stdout",
     "output_type": "stream",
     "text": [
      "[I 2024-05-29 10:39:45,085] Trial 78 finished with value: 0.6934877693653106 and parameters: {'lr': 0.0064431927354711375, 'batch_size': 80, 'drop_out': 0.0784187126118822, 'unit': 128, 'layber_number': 4}. Best is trial 71 with value: 0.6560588479042053.\n"
     ]
    },
    {
     "name": "stderr",
     "output_type": "stream",
     "text": [
      "Best trial: 71. Best value: 0.656059:  80%|██████████████████████████████████▍        | 80/100 [10:38<02:35,  7.80s/it]"
     ]
    },
    {
     "name": "stdout",
     "output_type": "stream",
     "text": [
      "[I 2024-05-29 10:39:53,161] Trial 79 finished with value: 0.6678536653518676 and parameters: {'lr': 0.0072316791381098824, 'batch_size': 64, 'drop_out': 0.11641546056533011, 'unit': 96, 'layber_number': 7}. Best is trial 71 with value: 0.6560588479042053.\n"
     ]
    },
    {
     "name": "stderr",
     "output_type": "stream",
     "text": [
      "Best trial: 71. Best value: 0.656059:  81%|██████████████████████████████████▊        | 81/100 [10:46<02:30,  7.92s/it]"
     ]
    },
    {
     "name": "stdout",
     "output_type": "stream",
     "text": [
      "[I 2024-05-29 10:40:01,353] Trial 80 finished with value: 0.6603216052055358 and parameters: {'lr': 0.0072742985741656345, 'batch_size': 64, 'drop_out': 0.09240314646632951, 'unit': 80, 'layber_number': 8}. Best is trial 71 with value: 0.6560588479042053.\n"
     ]
    },
    {
     "name": "stderr",
     "output_type": "stream",
     "text": [
      "Best trial: 71. Best value: 0.656059:  82%|███████████████████████████████████▎       | 82/100 [10:54<02:23,  7.98s/it]"
     ]
    },
    {
     "name": "stdout",
     "output_type": "stream",
     "text": [
      "[I 2024-05-29 10:40:09,467] Trial 81 finished with value: 0.6959201276302338 and parameters: {'lr': 0.007198785613855105, 'batch_size': 64, 'drop_out': 0.09213797903685181, 'unit': 64, 'layber_number': 8}. Best is trial 71 with value: 0.6560588479042053.\n"
     ]
    },
    {
     "name": "stderr",
     "output_type": "stream",
     "text": [
      "Best trial: 71. Best value: 0.656059:  83%|███████████████████████████████████▋       | 83/100 [11:03<02:19,  8.23s/it]"
     ]
    },
    {
     "name": "stdout",
     "output_type": "stream",
     "text": [
      "[I 2024-05-29 10:40:18,287] Trial 82 finished with value: 0.7146882653236389 and parameters: {'lr': 0.007037955452075616, 'batch_size': 64, 'drop_out': 0.10529195086174806, 'unit': 80, 'layber_number': 9}. Best is trial 71 with value: 0.6560588479042053.\n"
     ]
    },
    {
     "name": "stderr",
     "output_type": "stream",
     "text": [
      "Best trial: 71. Best value: 0.656059:  84%|████████████████████████████████████       | 84/100 [11:10<02:07,  7.96s/it]"
     ]
    },
    {
     "name": "stdout",
     "output_type": "stream",
     "text": [
      "[I 2024-05-29 10:40:25,632] Trial 83 finished with value: 0.6661172568798065 and parameters: {'lr': 0.0077808861633110495, 'batch_size': 64, 'drop_out': 0.09673441276762086, 'unit': 80, 'layber_number': 6}. Best is trial 71 with value: 0.6560588479042053.\n"
     ]
    },
    {
     "name": "stderr",
     "output_type": "stream",
     "text": [
      "Best trial: 71. Best value: 0.656059:  85%|████████████████████████████████████▌      | 85/100 [11:18<02:00,  8.01s/it]"
     ]
    },
    {
     "name": "stdout",
     "output_type": "stream",
     "text": [
      "[I 2024-05-29 10:40:33,765] Trial 84 finished with value: 0.683765959739685 and parameters: {'lr': 0.006609198610203523, 'batch_size': 64, 'drop_out': 0.11486166266338724, 'unit': 80, 'layber_number': 8}. Best is trial 71 with value: 0.6560588479042053.\n"
     ]
    },
    {
     "name": "stderr",
     "output_type": "stream",
     "text": [
      "Best trial: 71. Best value: 0.656059:  86%|████████████████████████████████████▉      | 86/100 [11:26<01:51,  7.96s/it]"
     ]
    },
    {
     "name": "stdout",
     "output_type": "stream",
     "text": [
      "[I 2024-05-29 10:40:41,598] Trial 85 finished with value: 0.6922802627086639 and parameters: {'lr': 0.006064214477672989, 'batch_size': 64, 'drop_out': 0.10045905124668233, 'unit': 64, 'layber_number': 7}. Best is trial 71 with value: 0.6560588479042053.\n"
     ]
    },
    {
     "name": "stderr",
     "output_type": "stream",
     "text": [
      "Best trial: 71. Best value: 0.656059:  87%|█████████████████████████████████████▍     | 87/100 [11:34<01:41,  7.80s/it]"
     ]
    },
    {
     "name": "stdout",
     "output_type": "stream",
     "text": [
      "[I 2024-05-29 10:40:49,018] Trial 86 finished with value: 0.6798918426036835 and parameters: {'lr': 0.007901076785863876, 'batch_size': 64, 'drop_out': 0.11756509084552796, 'unit': 80, 'layber_number': 6}. Best is trial 71 with value: 0.6560588479042053.\n"
     ]
    },
    {
     "name": "stderr",
     "output_type": "stream",
     "text": [
      "Best trial: 71. Best value: 0.656059:  88%|█████████████████████████████████████▊     | 88/100 [11:43<01:40,  8.37s/it]"
     ]
    },
    {
     "name": "stdout",
     "output_type": "stream",
     "text": [
      "[I 2024-05-29 10:40:58,717] Trial 87 finished with value: 0.6799673616886139 and parameters: {'lr': 0.0068991062519618606, 'batch_size': 64, 'drop_out': 0.10764524084923623, 'unit': 96, 'layber_number': 10}. Best is trial 71 with value: 0.6560588479042053.\n"
     ]
    },
    {
     "name": "stderr",
     "output_type": "stream",
     "text": [
      "Best trial: 71. Best value: 0.656059:  89%|██████████████████████████████████████▎    | 89/100 [11:52<01:34,  8.56s/it]"
     ]
    },
    {
     "name": "stdout",
     "output_type": "stream",
     "text": [
      "[I 2024-05-29 10:41:07,712] Trial 88 finished with value: 0.70865797996521 and parameters: {'lr': 0.007368510309511337, 'batch_size': 80, 'drop_out': 0.07631095716568613, 'unit': 80, 'layber_number': 8}. Best is trial 71 with value: 0.6560588479042053.\n"
     ]
    },
    {
     "name": "stderr",
     "output_type": "stream",
     "text": [
      "Best trial: 71. Best value: 0.656059:  90%|██████████████████████████████████████▋    | 90/100 [11:57<01:14,  7.45s/it]"
     ]
    },
    {
     "name": "stdout",
     "output_type": "stream",
     "text": [
      "[I 2024-05-29 10:41:12,567] Trial 89 finished with value: 0.6903600215911865 and parameters: {'lr': 0.00649029150043829, 'batch_size': 96, 'drop_out': 0.08774836757281645, 'unit': 64, 'layber_number': 7}. Best is trial 71 with value: 0.6560588479042053.\n"
     ]
    },
    {
     "name": "stderr",
     "output_type": "stream",
     "text": [
      "Best trial: 71. Best value: 0.656059:  91%|███████████████████████████████████████▏   | 91/100 [12:04<01:05,  7.33s/it]"
     ]
    },
    {
     "name": "stdout",
     "output_type": "stream",
     "text": [
      "[I 2024-05-29 10:41:19,630] Trial 90 finished with value: 0.67948477268219 and parameters: {'lr': 0.006293437632776945, 'batch_size': 48, 'drop_out': 0.10003509758860796, 'unit': 96, 'layber_number': 6}. Best is trial 71 with value: 0.6560588479042053.\n"
     ]
    },
    {
     "name": "stderr",
     "output_type": "stream",
     "text": [
      "Best trial: 71. Best value: 0.656059:  92%|███████████████████████████████████████▌   | 92/100 [12:11<00:58,  7.26s/it]"
     ]
    },
    {
     "name": "stdout",
     "output_type": "stream",
     "text": [
      "[I 2024-05-29 10:41:26,707] Trial 91 finished with value: 0.6906178951263428 and parameters: {'lr': 0.007702675594898491, 'batch_size': 80, 'drop_out': 0.09464950078237823, 'unit': 80, 'layber_number': 5}. Best is trial 71 with value: 0.6560588479042053.\n"
     ]
    },
    {
     "name": "stderr",
     "output_type": "stream",
     "text": [
      "Best trial: 71. Best value: 0.656059:  93%|███████████████████████████████████████▉   | 93/100 [12:19<00:51,  7.33s/it]"
     ]
    },
    {
     "name": "stdout",
     "output_type": "stream",
     "text": [
      "[I 2024-05-29 10:41:34,227] Trial 92 finished with value: 0.6773116528987885 and parameters: {'lr': 0.007855391323918163, 'batch_size': 80, 'drop_out': 0.0888470085892402, 'unit': 96, 'layber_number': 6}. Best is trial 71 with value: 0.6560588479042053.\n"
     ]
    },
    {
     "name": "stderr",
     "output_type": "stream",
     "text": [
      "Best trial: 71. Best value: 0.656059:  94%|████████████████████████████████████████▍  | 94/100 [12:26<00:43,  7.33s/it]"
     ]
    },
    {
     "name": "stdout",
     "output_type": "stream",
     "text": [
      "[I 2024-05-29 10:41:41,544] Trial 93 finished with value: 0.7111117720603943 and parameters: {'lr': 0.00727040897168489, 'batch_size': 64, 'drop_out': 0.09694944787851692, 'unit': 80, 'layber_number': 5}. Best is trial 71 with value: 0.6560588479042053.\n"
     ]
    },
    {
     "name": "stderr",
     "output_type": "stream",
     "text": [
      "Best trial: 71. Best value: 0.656059:  95%|████████████████████████████████████████▊  | 95/100 [12:34<00:38,  7.65s/it]"
     ]
    },
    {
     "name": "stdout",
     "output_type": "stream",
     "text": [
      "[I 2024-05-29 10:41:49,932] Trial 94 finished with value: 0.6926019072532654 and parameters: {'lr': 0.007607810071560469, 'batch_size': 80, 'drop_out': 0.11284515371106194, 'unit': 96, 'layber_number': 7}. Best is trial 71 with value: 0.6560588479042053.\n"
     ]
    },
    {
     "name": "stderr",
     "output_type": "stream",
     "text": [
      "Best trial: 71. Best value: 0.656059:  96%|█████████████████████████████████████████▎ | 96/100 [12:39<00:27,  6.77s/it]"
     ]
    },
    {
     "name": "stdout",
     "output_type": "stream",
     "text": [
      "[I 2024-05-29 10:41:54,649] Trial 95 finished with value: 0.6741790235042572 and parameters: {'lr': 0.008191632215904975, 'batch_size': 96, 'drop_out': 0.10387164305229017, 'unit': 112, 'layber_number': 8}. Best is trial 71 with value: 0.6560588479042053.\n"
     ]
    },
    {
     "name": "stderr",
     "output_type": "stream",
     "text": [
      "Best trial: 71. Best value: 0.656059:  97%|█████████████████████████████████████████▋ | 97/100 [12:51<00:24,  8.23s/it]"
     ]
    },
    {
     "name": "stdout",
     "output_type": "stream",
     "text": [
      "[I 2024-05-29 10:42:06,283] Trial 96 finished with value: 0.7428501605987549 and parameters: {'lr': 0.0069176763002752354, 'batch_size': 64, 'drop_out': 0.11987765220154793, 'unit': 96, 'layber_number': 15}. Best is trial 71 with value: 0.6560588479042053.\n"
     ]
    },
    {
     "name": "stderr",
     "output_type": "stream",
     "text": [
      "Best trial: 71. Best value: 0.656059:  98%|██████████████████████████████████████████▏| 98/100 [12:56<00:14,  7.19s/it]"
     ]
    },
    {
     "name": "stdout",
     "output_type": "stream",
     "text": [
      "[I 2024-05-29 10:42:11,047] Trial 97 finished with value: 0.6600636184215546 and parameters: {'lr': 0.008398096337017933, 'batch_size': 112, 'drop_out': 0.09388344008841629, 'unit': 128, 'layber_number': 7}. Best is trial 71 with value: 0.6560588479042053.\n"
     ]
    },
    {
     "name": "stderr",
     "output_type": "stream",
     "text": [
      "Best trial: 71. Best value: 0.656059:  99%|██████████████████████████████████████████▌| 99/100 [13:01<00:06,  6.59s/it]"
     ]
    },
    {
     "name": "stdout",
     "output_type": "stream",
     "text": [
      "[I 2024-05-29 10:42:16,239] Trial 98 finished with value: 0.686643648147583 and parameters: {'lr': 0.008332728406487033, 'batch_size': 128, 'drop_out': 0.07384874693637226, 'unit': 80, 'layber_number': 9}. Best is trial 71 with value: 0.6560588479042053.\n"
     ]
    },
    {
     "name": "stderr",
     "output_type": "stream",
     "text": [
      "Best trial: 71. Best value: 0.656059: 100%|██████████████████████████████████████████| 100/100 [13:05<00:00,  7.86s/it]"
     ]
    },
    {
     "name": "stdout",
     "output_type": "stream",
     "text": [
      "[I 2024-05-29 10:42:20,858] Trial 99 finished with value: 0.6904806315898895 and parameters: {'lr': 0.008055101481683176, 'batch_size': 112, 'drop_out': 0.08602630032654668, 'unit': 64, 'layber_number': 7}. Best is trial 71 with value: 0.6560588479042053.\n",
      "\n",
      " \n",
      " best params:  {'lr': 0.008190696772301592, 'batch_size': 80, 'drop_out': 0.09486115704544952, 'unit': 128, 'layber_number': 8} \n",
      " \n",
      " best score:  [0.6560588479042053] \n",
      "\n"
     ]
    },
    {
     "name": "stderr",
     "output_type": "stream",
     "text": [
      "\n"
     ]
    }
   ],
   "source": [
    "nn_best_params, nn_best_mae = optimizer_optuna(n_trials=100, algo=\"TPE\", optuna_objective=model_objective,\n",
    "                                               data=data)"
   ]
  },
  {
   "cell_type": "code",
   "execution_count": 86,
   "id": "4ac0e863",
   "metadata": {},
   "outputs": [],
   "source": [
    "train_losses, valid_losses, loss,val_ys,pre_ys = model_cross_train(nn_best_params, data, savebest=True)"
   ]
  },
  {
   "cell_type": "code",
   "execution_count": 87,
   "id": "d33fd4a7",
   "metadata": {},
   "outputs": [
    {
     "name": "stdout",
     "output_type": "stream",
     "text": [
      "NN_MAE: 0.32478404\n",
      "NN_MSE: 0.17659202\n",
      "NN_R2: 0.19524130964784248\n"
     ]
    }
   ],
   "source": [
    "criterion = torch.nn.L1Loss()\n",
    "criterion(pre_ys[1].cpu(),val_ys[1].cpu())\n",
    "# 导入机器学习包\n",
    "import sklearn.metrics as metrics\n",
    "nn_val = [a for i in val_ys for a in i.cpu().data.numpy()]\n",
    "nn_pre = [a for i in pre_ys for a in i.cpu().data.numpy()]\n",
    "\n",
    "nn_val = np.array(nn_val) * scaler.scale_[-1] + scaler.mean_[-1] \n",
    "nn_pre = np.array(nn_pre) * scaler.scale_[-1] + scaler.mean_[-1] \n",
    "# 计算MAE，MSE和R2\n",
    "nn_mae = metrics.mean_absolute_error(nn_val, nn_pre)\n",
    "nn_mse = metrics.mean_squared_error(nn_val, nn_pre)\n",
    "nn_r2 = metrics.r2_score(nn_val, nn_pre)\n",
    "\n",
    "# 打印结果\n",
    "print(\"NN_MAE:\", nn_mae)\n",
    "print(\"NN_MSE:\", nn_mse)\n",
    "print(\"NN_R2:\", nn_r2)"
   ]
  },
  {
   "cell_type": "code",
   "execution_count": 64,
   "id": "999f4cbe",
   "metadata": {},
   "outputs": [],
   "source": [
    "NN_pre_data = pd.concat((pd.DataFrame(nn_val),pd.DataFrame(nn_pre)),axis = 1)\n",
    "NN_pre_data.columns = [\"NN_Actual\",\"NN_Predict\"]\n",
    "NN_pre_data.to_excel(\"NN_pre_data.xlsx\",index =False)"
   ]
  },
  {
   "cell_type": "code",
   "execution_count": 65,
   "id": "e74ea9f3",
   "metadata": {},
   "outputs": [
    {
     "data": {
      "text/plain": [
       "118"
      ]
     },
     "execution_count": 65,
     "metadata": {},
     "output_type": "execute_result"
    }
   ],
   "source": [
    "len(nn_val)"
   ]
  },
  {
   "cell_type": "code",
   "execution_count": null,
   "id": "8078f376",
   "metadata": {},
   "outputs": [],
   "source": []
  }
 ],
 "metadata": {
  "kernelspec": {
   "display_name": "Python [conda env:matterai]",
   "language": "python",
   "name": "conda-env-matterai-py"
  },
  "language_info": {
   "codemirror_mode": {
    "name": "ipython",
    "version": 3
   },
   "file_extension": ".py",
   "mimetype": "text/x-python",
   "name": "python",
   "nbconvert_exporter": "python",
   "pygments_lexer": "ipython3",
   "version": "3.9.18"
  }
 },
 "nbformat": 4,
 "nbformat_minor": 5
}
